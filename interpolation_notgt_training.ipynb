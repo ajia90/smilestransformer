{
  "nbformat": 4,
  "nbformat_minor": 0,
  "metadata": {
    "accelerator": "GPU",
    "colab": {
      "name": "interpolation_notgt_training.ipynb",
      "provenance": [],
      "collapsed_sections": [],
      "toc_visible": true,
      "machine_shape": "hm",
      "authorship_tag": "ABX9TyPBTbmMNxCPQg2nImLzhLxP",
      "include_colab_link": true
    },
    "kernelspec": {
      "display_name": "Python 3",
      "name": "python3"
    }
  },
  "cells": [
    {
      "cell_type": "markdown",
      "metadata": {
        "id": "view-in-github",
        "colab_type": "text"
      },
      "source": [
        "<a href=\"https://colab.research.google.com/github/ajia90/smilestransformer/blob/main/interpolation_notgt_training.ipynb\" target=\"_parent\"><img src=\"https://colab.research.google.com/assets/colab-badge.svg\" alt=\"Open In Colab\"/></a>"
      ]
    },
    {
      "cell_type": "markdown",
      "metadata": {
        "id": "fVUbqULatxbS"
      },
      "source": [
        "# imports/ setup"
      ]
    },
    {
      "cell_type": "markdown",
      "metadata": {
        "id": "LVZDd-tQlFl8"
      },
      "source": [
        "mask + target = source -> molecules w/ some errors |||\n",
        "mask + only start tokens -> only start toekn "
      ]
    },
    {
      "cell_type": "markdown",
      "metadata": {
        "id": "McSSbGnGkylk"
      },
      "source": [
        "\n",
        "---\n",
        "\n"
      ]
    },
    {
      "cell_type": "code",
      "metadata": {
        "id": "iJAWqqICQXkT"
      },
      "source": [
        "# Install RDKit. Takes 2-3 minutes\n",
        "!wget -c https://repo.continuum.io/miniconda/Miniconda3-latest-Linux-x86_64.sh\n",
        "!chmod +x Miniconda3-latest-Linux-x86_64.sh\n",
        "!time bash ./Miniconda3-latest-Linux-x86_64.sh -b -f -p /usr/local\n",
        "!time conda install -q -y -c conda-forge python=3.7 \n",
        "!time conda install -q -y -c conda-forge rdkit "
      ],
      "execution_count": null,
      "outputs": []
    },
    {
      "cell_type": "code",
      "metadata": {
        "id": "WSr3OHyQrlOt"
      },
      "source": [
        "import sys\n",
        "sys.path.append('/usr/local/lib/python3.7/site-packages/')"
      ],
      "execution_count": 2,
      "outputs": []
    },
    {
      "cell_type": "markdown",
      "metadata": {
        "id": "vMo3E--EQs9K"
      },
      "source": [
        "# training the model\n"
      ]
    },
    {
      "cell_type": "code",
      "metadata": {
        "id": "-G2bWAFbkx-K"
      },
      "source": [
        "!conda install pytorch torchvision -c pytorch\n"
      ],
      "execution_count": null,
      "outputs": []
    },
    {
      "cell_type": "code",
      "metadata": {
        "id": "RrVK-YUFJnsL"
      },
      "source": [
        "#!conda install pytorch torchvision -c pytorch"
      ],
      "execution_count": null,
      "outputs": []
    },
    {
      "cell_type": "code",
      "metadata": {
        "id": "6vQbohzZR82x",
        "colab": {
          "base_uri": "https://localhost:8080/"
        },
        "outputId": "20e9b86f-1e77-442d-d1c6-3843c7203ef9"
      },
      "source": [
        "from google.colab import drive\n",
        "drive.mount(\"/content/gdrive/\")"
      ],
      "execution_count": null,
      "outputs": [
        {
          "output_type": "stream",
          "text": [
            "Mounted at /content/gdrive/\n"
          ],
          "name": "stdout"
        }
      ]
    },
    {
      "cell_type": "code",
      "metadata": {
        "id": "LqM56wuKrdn5"
      },
      "source": [
        " !python pretrain_trfm_target_zero.py"
      ],
      "execution_count": null,
      "outputs": []
    },
    {
      "cell_type": "markdown",
      "metadata": {
        "id": "fKB6MQTDayD_"
      },
      "source": [
        ""
      ]
    },
    {
      "cell_type": "markdown",
      "metadata": {
        "id": "KAjXqCE7t7wZ"
      },
      "source": [
        "# methods/model\n"
      ]
    },
    {
      "cell_type": "code",
      "metadata": {
        "id": "1V4mgv0Wr66i"
      },
      "source": [
        "import numpy as np\n",
        "import pandas as pd\n",
        "import matplotlib.pyplot as plt\n",
        "from sklearn import datasets\n",
        "from sklearn.manifold import TSNE\n",
        "from sklearn.neighbors import NearestNeighbors\n",
        "from rdkit import Chem\n",
        "from rdkit.Chem import AllChem, Draw\n",
        "from rdkit.Chem.Draw import DrawingOptions\n",
        "from torch.nn import functional as F\n"
      ],
      "execution_count": 3,
      "outputs": []
    },
    {
      "cell_type": "code",
      "metadata": {
        "id": "srHVE6Grrtsp"
      },
      "source": [
        "def plot_mols(mols, unit=200, w=120, h=200, fontsize=1.0):\n",
        "    drawer = Draw.MolDraw2DSVG(4*unit, 3*unit, w, h)\n",
        "\n",
        "    # optをとり出しておく\n",
        "    opt = drawer.drawOptions()\n",
        "    opt.padding = 0.1\n",
        "    opt.legendFontSize = 20\n",
        "    #opt.atomfontSize = 20\n",
        "\n",
        "    xs = np.array([0,1,2,3,0,1,2,3,0,1,2,3])*unit\n",
        "    ys = np.array([0,0,0,0,1,1,1,1,2,2,2,2])*unit\n",
        "    for i, (mol, x, y) in enumerate(zip(mols,xs,ys)):\n",
        "        # SetOffsetで左上の座標を指定できる\n",
        "        drawer.SetOffset(int(x), int(y))\n",
        "        drawer.SetFontSize(fontsize)\n",
        "\n",
        "        AllChem.Compute2DCoords(mol)\n",
        "        Chem.Kekulize(mol)\n",
        "        # 分子をSVGに書く\n",
        "        drawer.DrawMolecule(mol, legend=str(i))\n",
        "\n",
        "\n",
        "    # </svg> 書く\n",
        "    drawer.FinishDrawing()\n",
        "    return drawer"
      ],
      "execution_count": 4,
      "outputs": []
    },
    {
      "cell_type": "code",
      "metadata": {
        "id": "vXnmmN4Jr8fi"
      },
      "source": [
        "def get_inputs(sm):\n",
        "    seq_len = 220\n",
        "    sm = sm.split()\n",
        "    if len(sm)>218:\n",
        "        print('SMILES is too long ({:d})'.format(len(sm)))\n",
        "        sm = sm[:109]+sm[-109:]\n",
        "    ids = [vocab.stoi.get(token, unk_index) for token in sm]\n",
        "    ids = [sos_index] + ids + [eos_index]\n",
        "    seg = [1]*len(ids)\n",
        "    padding = [pad_index]*(seq_len - len(ids))\n",
        "    ids.extend(padding), seg.extend(padding)\n",
        "    return ids, seg\n",
        "\n",
        "def get_array(smiles):\n",
        "    x_id, x_seg = [], []\n",
        "    for sm in smiles:\n",
        "        a,b = get_inputs(sm)\n",
        "        x_id.append(a)\n",
        "        x_seg.append(b)\n",
        "    return torch.tensor(x_id), torch.tensor(x_seg)"
      ],
      "execution_count": 9,
      "outputs": []
    },
    {
      "cell_type": "code",
      "metadata": {
        "id": "HJNg-O6KAPoL"
      },
      "source": [
        ""
      ],
      "execution_count": null,
      "outputs": []
    },
    {
      "cell_type": "code",
      "metadata": {
        "id": "YVTnruWOr_hT",
        "colab": {
          "base_uri": "https://localhost:8080/"
        },
        "outputId": "5852a408-0f71-41c6-a6f3-abb2ffd6e3e3"
      },
      "source": [
        "import torch\n",
        "from pretrain_trfm_target_zero import TrfmSeq2seq\n",
        "from build_vocab import WordVocab\n",
        "from utils import split\n",
        "\n",
        "pad_index = 0\n",
        "unk_index = 1\n",
        "eos_index = 2\n",
        "sos_index = 3\n",
        "mask_index = 4\n",
        "\n",
        "vocab = WordVocab.load_vocab('vocab.pkl')\n",
        "\n",
        "# trfm_c= TrfmSeq2seq(len(vocab), 256, len(vocab), 4).cuda()\n",
        "# trfm_c.load_state_dict(torch.load('trfm_new_12_80000.pkl'))\n",
        "# trfm_c.eval()\n",
        "\n",
        "trfm = TrfmSeq2seq(len(vocab), 256, len(vocab), 4)\n",
        "trfm.load_state_dict(torch.load('trfm_notgt_12_90000.pkl'))\n",
        "trfm.eval()\n",
        "print('Total parameters:', sum(p.numel() for p in trfm.parameters()))"
      ],
      "execution_count": 5,
      "outputs": [
        {
          "output_type": "stream",
          "text": [
            "Total parameters: 4244013\n"
          ],
          "name": "stdout"
        }
      ]
    },
    {
      "cell_type": "code",
      "metadata": {
        "id": "NyFbL_SIOBcS"
      },
      "source": [
        ""
      ],
      "execution_count": null,
      "outputs": []
    },
    {
      "cell_type": "code",
      "metadata": {
        "id": "nG7MwYwUGbmm"
      },
      "source": [
        "smiles_dict = vocab.stoi"
      ],
      "execution_count": 6,
      "outputs": []
    },
    {
      "cell_type": "code",
      "metadata": {
        "id": "od6L28LGIN7e",
        "colab": {
          "base_uri": "https://localhost:8080/"
        },
        "outputId": "3b88cd80-5ac2-4301-eea6-2eb73b53d4d0"
      },
      "source": [
        "smiles_dict\n"
      ],
      "execution_count": null,
      "outputs": [
        {
          "output_type": "execute_result",
          "data": {
            "text/plain": [
              "{'#': 31,\n",
              " '(': 7,\n",
              " ')': 8,\n",
              " '+': 29,\n",
              " '-': 30,\n",
              " '.': 33,\n",
              " '/': 32,\n",
              " '1': 11,\n",
              " '2': 13,\n",
              " '3': 14,\n",
              " '4': 16,\n",
              " '5': 22,\n",
              " '6': 27,\n",
              " '7': 35,\n",
              " '8': 38,\n",
              " '9': 43,\n",
              " '<eos>': 2,\n",
              " '<mask>': 4,\n",
              " '<pad>': 0,\n",
              " '<sos>': 3,\n",
              " '<unk>': 1,\n",
              " '=': 10,\n",
              " '@': 17,\n",
              " 'B': 40,\n",
              " 'Br': 34,\n",
              " 'C': 6,\n",
              " 'Cl': 25,\n",
              " 'F': 21,\n",
              " 'H': 20,\n",
              " 'I': 37,\n",
              " 'K': 44,\n",
              " 'N': 12,\n",
              " 'Na': 39,\n",
              " 'O': 9,\n",
              " 'P': 36,\n",
              " 'S': 23,\n",
              " 'Se': 42,\n",
              " 'Si': 41,\n",
              " '[': 18,\n",
              " '\\\\': 24,\n",
              " ']': 19,\n",
              " 'c': 5,\n",
              " 'n': 15,\n",
              " 'o': 28,\n",
              " 's': 26}"
            ]
          },
          "metadata": {
            "tags": []
          },
          "execution_count": 14
        }
      ]
    },
    {
      "cell_type": "markdown",
      "metadata": {
        "id": "ZjGFxS67t_bp"
      },
      "source": [
        "# data\n"
      ]
    },
    {
      "cell_type": "code",
      "metadata": {
        "id": "fn9Aip-ergwb"
      },
      "source": [
        "#read in BBBp data\n",
        "# df = pd.read_csv('BBBP.csv')\n",
        "# print(df.shape)\n",
        "# df.head()"
      ],
      "execution_count": null,
      "outputs": []
    },
    {
      "cell_type": "code",
      "metadata": {
        "id": "kyyMq57WygTq",
        "colab": {
          "base_uri": "https://localhost:8080/"
        },
        "outputId": "7d84e8e2-677c-4d49-db1b-3379abec7297"
      },
      "source": [
        "#sample of chembl25 data\n",
        "df2 = pd.read_csv('smiles_sample2.csv')\n",
        "print(df2.shape)"
      ],
      "execution_count": 7,
      "outputs": [
        {
          "output_type": "stream",
          "text": [
            "(1052, 1)\n"
          ],
          "name": "stdout"
        }
      ]
    },
    {
      "cell_type": "code",
      "metadata": {
        "id": "D9WpcsEThxSR",
        "colab": {
          "base_uri": "https://localhost:8080/",
          "height": 194
        },
        "outputId": "4994c8ad-9891-4c54-dcf8-c2d1baad60b0"
      },
      "source": [
        "df2.head()"
      ],
      "execution_count": null,
      "outputs": [
        {
          "output_type": "execute_result",
          "data": {
            "text/html": [
              "<div>\n",
              "<style scoped>\n",
              "    .dataframe tbody tr th:only-of-type {\n",
              "        vertical-align: middle;\n",
              "    }\n",
              "\n",
              "    .dataframe tbody tr th {\n",
              "        vertical-align: top;\n",
              "    }\n",
              "\n",
              "    .dataframe thead th {\n",
              "        text-align: right;\n",
              "    }\n",
              "</style>\n",
              "<table border=\"1\" class=\"dataframe\">\n",
              "  <thead>\n",
              "    <tr style=\"text-align: right;\">\n",
              "      <th></th>\n",
              "      <th>canonical_smiles</th>\n",
              "    </tr>\n",
              "  </thead>\n",
              "  <tbody>\n",
              "    <tr>\n",
              "      <th>0</th>\n",
              "      <td>Cc1cc(cn1C)c2csc(N=C(N)N)n2</td>\n",
              "    </tr>\n",
              "    <tr>\n",
              "      <th>1</th>\n",
              "      <td>Brc1cccc(Nc2ncnc3ccncc23)c1NCCN4CCOCC4</td>\n",
              "    </tr>\n",
              "    <tr>\n",
              "      <th>2</th>\n",
              "      <td>COc1c(O)cc(O)c(C(=N)Cc2ccc(O)cc2)c1O</td>\n",
              "    </tr>\n",
              "    <tr>\n",
              "      <th>3</th>\n",
              "      <td>CCOC(=O)c1cc2cc(ccc2[nH]1)C(=O)O</td>\n",
              "    </tr>\n",
              "    <tr>\n",
              "      <th>4</th>\n",
              "      <td>C[C@H](NC(=O)OCc1ccccc1)C(=O)N[C@@H](C)C(=O)NN...</td>\n",
              "    </tr>\n",
              "  </tbody>\n",
              "</table>\n",
              "</div>"
            ],
            "text/plain": [
              "                                    canonical_smiles\n",
              "0                        Cc1cc(cn1C)c2csc(N=C(N)N)n2\n",
              "1             Brc1cccc(Nc2ncnc3ccncc23)c1NCCN4CCOCC4\n",
              "2               COc1c(O)cc(O)c(C(=N)Cc2ccc(O)cc2)c1O\n",
              "3                   CCOC(=O)c1cc2cc(ccc2[nH]1)C(=O)O\n",
              "4  C[C@H](NC(=O)OCc1ccccc1)C(=O)N[C@@H](C)C(=O)NN..."
            ]
          },
          "metadata": {
            "tags": []
          },
          "execution_count": 9
        }
      ]
    },
    {
      "cell_type": "code",
      "metadata": {
        "id": "1-gyX2UHZZkt"
      },
      "source": [
        ""
      ],
      "execution_count": null,
      "outputs": []
    },
    {
      "cell_type": "code",
      "metadata": {
        "id": "4ZgUpC-_IpzD"
      },
      "source": [
        "x_split = [split(sm) for sm in df2['canonical_smiles'].values]\n",
        "xid, xseg = get_array(x_split)"
      ],
      "execution_count": 10,
      "outputs": []
    },
    {
      "cell_type": "code",
      "metadata": {
        "id": "PyRhP_RkxBW9"
      },
      "source": [
        ""
      ],
      "execution_count": null,
      "outputs": []
    },
    {
      "cell_type": "code",
      "metadata": {
        "id": "zljIJZHjsEOw",
        "colab": {
          "base_uri": "https://localhost:8080/"
        },
        "outputId": "ba205ee4-df35-45ce-c96b-80fcff4e7874"
      },
      "source": [
        "xid.shape"
      ],
      "execution_count": 11,
      "outputs": [
        {
          "output_type": "execute_result",
          "data": {
            "text/plain": [
              "torch.Size([1052, 220])"
            ]
          },
          "metadata": {
            "tags": []
          },
          "execution_count": 11
        }
      ]
    },
    {
      "cell_type": "code",
      "metadata": {
        "id": "dbTPfS6nb8c1"
      },
      "source": [
        "\n"
      ],
      "execution_count": null,
      "outputs": []
    },
    {
      "cell_type": "markdown",
      "metadata": {
        "id": "Ck_t5QnaX5VQ"
      },
      "source": [
        "# encode\n"
      ]
    },
    {
      "cell_type": "code",
      "metadata": {
        "id": "I2NhXu5jAP91"
      },
      "source": [
        "from dataset import Seq2seqDataset\n",
        "from torch.utils.data import DataLoader\n",
        "from tqdm import tqdm\n"
      ],
      "execution_count": 12,
      "outputs": []
    },
    {
      "cell_type": "code",
      "metadata": {
        "id": "DaAjdAcqqoT9",
        "colab": {
          "base_uri": "https://localhost:8080/"
        },
        "outputId": "b7d7e3f3-e011-49de-cc19-b434c896ff8f"
      },
      "source": [
        "#encode function\n",
        "X = trfm.encode(torch.t(xid))\n",
        "print(X.shape)"
      ],
      "execution_count": 13,
      "outputs": [
        {
          "output_type": "stream",
          "text": [
            "There are 1052 molecules. It will take a little time.\n",
            "(220, 1052, 256)\n"
          ],
          "name": "stdout"
        }
      ]
    },
    {
      "cell_type": "code",
      "metadata": {
        "colab": {
          "base_uri": "https://localhost:8080/"
        },
        "id": "RujYccx9OZtN",
        "outputId": "f2da7043-f906-43bc-ce5b-4df48a5874a6"
      },
      "source": [
        "output_total.size\n"
      ],
      "execution_count": null,
      "outputs": [
        {
          "output_type": "execute_result",
          "data": {
            "text/plain": [
              "<function Tensor.size>"
            ]
          },
          "metadata": {
            "tags": []
          },
          "execution_count": 41
        }
      ]
    },
    {
      "cell_type": "code",
      "metadata": {
        "id": "5jQvruiKaCPU"
      },
      "source": [
        "torch.cuda.empty_cache()"
      ],
      "execution_count": null,
      "outputs": []
    },
    {
      "cell_type": "code",
      "metadata": {
        "id": "DaXpnqXbaVwu"
      },
      "source": [
        ""
      ],
      "execution_count": null,
      "outputs": []
    },
    {
      "cell_type": "code",
      "metadata": {
        "id": "ziw7ASMHabSH"
      },
      "source": [
        ""
      ],
      "execution_count": null,
      "outputs": []
    },
    {
      "cell_type": "code",
      "metadata": {
        "id": "oDvwxWzdEhMk"
      },
      "source": [
        "# #trfm.encoder\n",
        "# dataset = Seq2seqDataset(df2['canonical_smiles'].values, vocab)\n",
        "# data_loader = DataLoader(dataset, batch_size=4, shuffle=True, num_workers=16)\n",
        "# output_total = torch.empty(size=(xid.shape[1], xid.shape[0], 256))\n",
        "# print(output_total.size)\n",
        "# for b, sm in tqdm(enumerate(data_loader)):\n",
        "#   # sm = torch.t(sm.cuda()) # (T,B)\n",
        "#   # output1 = trfm_c(sm) # (T,,V)\n",
        "#   embedded = trfm.embed(torch.t(sm.cuda()))  # (T,B,H)\n",
        "#   embedded = trfm.pe(embedded) # (T,B,H)\n",
        "#   output_total[:,b:b+4,:] = trfm.encoder(embedded)\n",
        "# #output = output.detach().numpy()"
      ],
      "execution_count": null,
      "outputs": []
    },
    {
      "cell_type": "code",
      "metadata": {
        "id": "INR53E5n8DaD"
      },
      "source": [
        ""
      ],
      "execution_count": 13,
      "outputs": []
    },
    {
      "cell_type": "markdown",
      "metadata": {
        "id": "FwOt7J0yNy_a"
      },
      "source": [
        "# mask\n"
      ]
    },
    {
      "cell_type": "code",
      "metadata": {
        "id": "THZ81EY8N42a"
      },
      "source": [
        "def subsequent_mask(size):\n",
        "    \"Mask out subsequent positions.\"\n",
        "    attn_shape = (1, size, size)\n",
        "    subsequent_mask = np.triu(np.ones(attn_shape), k=1).astype('uint8')\n",
        "    return torch.from_numpy(subsequent_mask) == 0\n",
        "\n",
        "def make_std_mask(tgt, pad):\n",
        "    \"Create a mask to hide padding and future words.\"\n",
        "    tgt_mask = (tgt != pad).unsqueeze(-2)\n",
        "    tgt_mask = tgt_mask & Variable(\n",
        "        subsequent_mask(tgt.size(-1)).type_as(tgt_mask.data))\n",
        "    return tgt_mask\n",
        "\n",
        "def generate_square_subsequent_mask(sz):\n",
        "    mask = (torch.triu(torch.ones(sz, sz)) == 1).transpose(0, 1)\n",
        "    mask = mask.float().masked_fill(mask == 0, float('-inf')).masked_fill(mask == 1, float(0.0))\n",
        "    return mask\n"
      ],
      "execution_count": 16,
      "outputs": []
    },
    {
      "cell_type": "markdown",
      "metadata": {
        "id": "-uBAQUxmX_p4"
      },
      "source": [
        "# decode"
      ]
    },
    {
      "cell_type": "markdown",
      "metadata": {
        "id": "0gjAJ2-igzM8"
      },
      "source": [
        "tgt = xid //source\n"
      ]
    },
    {
      "cell_type": "code",
      "metadata": {
        "id": "JmuBNPYSz6Kp"
      },
      "source": [
        "mask1 = generate_square_subsequent_mask(torch.t(xid).shape[0])"
      ],
      "execution_count": 17,
      "outputs": []
    },
    {
      "cell_type": "code",
      "metadata": {
        "id": "vLgnIKxwTnj_",
        "colab": {
          "base_uri": "https://localhost:8080/"
        },
        "outputId": "4980ab93-834d-4075-d169-e4b51598cb1f"
      },
      "source": [
        "mask1.shape"
      ],
      "execution_count": 18,
      "outputs": [
        {
          "output_type": "execute_result",
          "data": {
            "text/plain": [
              "torch.Size([220, 220])"
            ]
          },
          "metadata": {
            "tags": []
          },
          "execution_count": 18
        }
      ]
    },
    {
      "cell_type": "code",
      "metadata": {
        "id": "-LiS07LFtKdm"
      },
      "source": [
        "# #trfm.decoder\n",
        "# decoded = trfm.decoder(output, output, mask1)\n",
        "# out = trfm.out(decoded) # (T,B,V)\n",
        "# out = F.log_softmax(out, dim=2)\n",
        "# out = out.detach().numpy()"
      ],
      "execution_count": null,
      "outputs": []
    },
    {
      "cell_type": "code",
      "metadata": {
        "id": "1oT4QEsG1DY8",
        "colab": {
          "base_uri": "https://localhost:8080/"
        },
        "outputId": "3e670253-92f7-448a-bb54-20502049374c"
      },
      "source": [
        "#decode function\n",
        "hidden = torch.from_numpy(X).float()\n",
        "decoded = trfm.decode(hidden, hidden)"
      ],
      "execution_count": 23,
      "outputs": [
        {
          "output_type": "stream",
          "text": [
            "There are 1052 molecules. It will take a little time.\n"
          ],
          "name": "stdout"
        }
      ]
    },
    {
      "cell_type": "code",
      "metadata": {
        "id": "Fqn2eSyMtwRZ",
        "colab": {
          "base_uri": "https://localhost:8080/"
        },
        "outputId": "4b67db5d-aaa2-4ba6-87f0-be030d45b246"
      },
      "source": [
        "decoded.shape"
      ],
      "execution_count": null,
      "outputs": [
        {
          "output_type": "execute_result",
          "data": {
            "text/plain": [
              "(220, 15, 45)"
            ]
          },
          "metadata": {
            "tags": []
          },
          "execution_count": 179
        }
      ]
    },
    {
      "cell_type": "markdown",
      "metadata": {
        "id": "uhC_oIb1lz85"
      },
      "source": [
        "# get smiles from decoded output\n"
      ]
    },
    {
      "cell_type": "code",
      "metadata": {
        "id": "brubkm4ZJASv",
        "colab": {
          "base_uri": "https://localhost:8080/"
        },
        "outputId": "c71b4735-65ca-429a-a7f3-f58a9243a72f"
      },
      "source": [
        "_, next_word = torch.max(torch.from_numpy(decoded), dim = 2)\n",
        "decoded_smiles = torch.t(next_word).detach().numpy()\n",
        "decoded_smiles.shape"
      ],
      "execution_count": 24,
      "outputs": [
        {
          "output_type": "execute_result",
          "data": {
            "text/plain": [
              "(1052, 220)"
            ]
          },
          "metadata": {
            "tags": []
          },
          "execution_count": 24
        }
      ]
    },
    {
      "cell_type": "code",
      "metadata": {
        "id": "V3fUO-u_Pl1n"
      },
      "source": [
        "y =torch.t(xid).detach().numpy()\n"
      ],
      "execution_count": 25,
      "outputs": []
    },
    {
      "cell_type": "code",
      "metadata": {
        "id": "gZltrWb0HTH9"
      },
      "source": [
        "#value -> smiles\n",
        "smiles_molecules = np.empty([decoded_smiles.shape[0],decoded_smiles.shape[1]], dtype=object)\n",
        "for i in range(decoded_smiles.shape[0]):   \n",
        "   smiless = [list(smiles_dict.keys())[list(smiles_dict.values()).index(elem)] for elem in decoded_smiles[i]]\n",
        "   smiles_molecules[i] = smiless"
      ],
      "execution_count": 26,
      "outputs": []
    },
    {
      "cell_type": "code",
      "metadata": {
        "id": "Rezq41vqJUPB",
        "colab": {
          "base_uri": "https://localhost:8080/",
          "height": 419
        },
        "outputId": "d7e685c7-2fdc-48d9-f5b3-8b8914cd97d0"
      },
      "source": [
        "pd.DataFrame(smiles_molecules)"
      ],
      "execution_count": 27,
      "outputs": [
        {
          "output_type": "execute_result",
          "data": {
            "text/html": [
              "<div>\n",
              "<style scoped>\n",
              "    .dataframe tbody tr th:only-of-type {\n",
              "        vertical-align: middle;\n",
              "    }\n",
              "\n",
              "    .dataframe tbody tr th {\n",
              "        vertical-align: top;\n",
              "    }\n",
              "\n",
              "    .dataframe thead th {\n",
              "        text-align: right;\n",
              "    }\n",
              "</style>\n",
              "<table border=\"1\" class=\"dataframe\">\n",
              "  <thead>\n",
              "    <tr style=\"text-align: right;\">\n",
              "      <th></th>\n",
              "      <th>0</th>\n",
              "      <th>1</th>\n",
              "      <th>2</th>\n",
              "      <th>3</th>\n",
              "      <th>4</th>\n",
              "      <th>5</th>\n",
              "      <th>6</th>\n",
              "      <th>7</th>\n",
              "      <th>8</th>\n",
              "      <th>9</th>\n",
              "      <th>10</th>\n",
              "      <th>11</th>\n",
              "      <th>12</th>\n",
              "      <th>13</th>\n",
              "      <th>14</th>\n",
              "      <th>15</th>\n",
              "      <th>16</th>\n",
              "      <th>17</th>\n",
              "      <th>18</th>\n",
              "      <th>19</th>\n",
              "      <th>20</th>\n",
              "      <th>21</th>\n",
              "      <th>22</th>\n",
              "      <th>23</th>\n",
              "      <th>24</th>\n",
              "      <th>25</th>\n",
              "      <th>26</th>\n",
              "      <th>27</th>\n",
              "      <th>28</th>\n",
              "      <th>29</th>\n",
              "      <th>30</th>\n",
              "      <th>31</th>\n",
              "      <th>32</th>\n",
              "      <th>33</th>\n",
              "      <th>34</th>\n",
              "      <th>35</th>\n",
              "      <th>36</th>\n",
              "      <th>37</th>\n",
              "      <th>38</th>\n",
              "      <th>39</th>\n",
              "      <th>...</th>\n",
              "      <th>180</th>\n",
              "      <th>181</th>\n",
              "      <th>182</th>\n",
              "      <th>183</th>\n",
              "      <th>184</th>\n",
              "      <th>185</th>\n",
              "      <th>186</th>\n",
              "      <th>187</th>\n",
              "      <th>188</th>\n",
              "      <th>189</th>\n",
              "      <th>190</th>\n",
              "      <th>191</th>\n",
              "      <th>192</th>\n",
              "      <th>193</th>\n",
              "      <th>194</th>\n",
              "      <th>195</th>\n",
              "      <th>196</th>\n",
              "      <th>197</th>\n",
              "      <th>198</th>\n",
              "      <th>199</th>\n",
              "      <th>200</th>\n",
              "      <th>201</th>\n",
              "      <th>202</th>\n",
              "      <th>203</th>\n",
              "      <th>204</th>\n",
              "      <th>205</th>\n",
              "      <th>206</th>\n",
              "      <th>207</th>\n",
              "      <th>208</th>\n",
              "      <th>209</th>\n",
              "      <th>210</th>\n",
              "      <th>211</th>\n",
              "      <th>212</th>\n",
              "      <th>213</th>\n",
              "      <th>214</th>\n",
              "      <th>215</th>\n",
              "      <th>216</th>\n",
              "      <th>217</th>\n",
              "      <th>218</th>\n",
              "      <th>219</th>\n",
              "    </tr>\n",
              "  </thead>\n",
              "  <tbody>\n",
              "    <tr>\n",
              "      <th>0</th>\n",
              "      <td>&lt;sos&gt;</td>\n",
              "      <td>C</td>\n",
              "      <td>c</td>\n",
              "      <td>1</td>\n",
              "      <td>c</td>\n",
              "      <td>c</td>\n",
              "      <td>(</td>\n",
              "      <td>c</td>\n",
              "      <td>n</td>\n",
              "      <td>1</td>\n",
              "      <td>C</td>\n",
              "      <td>]</td>\n",
              "      <td>c</td>\n",
              "      <td>2</td>\n",
              "      <td>c</td>\n",
              "      <td>s</td>\n",
              "      <td>c</td>\n",
              "      <td>(</td>\n",
              "      <td>N</td>\n",
              "      <td>=</td>\n",
              "      <td>C</td>\n",
              "      <td>(</td>\n",
              "      <td>N</td>\n",
              "      <td>]</td>\n",
              "      <td>N</td>\n",
              "      <td>]</td>\n",
              "      <td>n</td>\n",
              "      <td>2</td>\n",
              "      <td>&lt;eos&gt;</td>\n",
              "      <td>]</td>\n",
              "      <td>]</td>\n",
              "      <td>]</td>\n",
              "      <td>]</td>\n",
              "      <td>]</td>\n",
              "      <td>]</td>\n",
              "      <td>]</td>\n",
              "      <td>]</td>\n",
              "      <td>]</td>\n",
              "      <td>]</td>\n",
              "      <td>]</td>\n",
              "      <td>...</td>\n",
              "      <td>]</td>\n",
              "      <td>]</td>\n",
              "      <td>]</td>\n",
              "      <td>]</td>\n",
              "      <td>]</td>\n",
              "      <td>]</td>\n",
              "      <td>]</td>\n",
              "      <td>]</td>\n",
              "      <td>]</td>\n",
              "      <td>]</td>\n",
              "      <td>]</td>\n",
              "      <td>]</td>\n",
              "      <td>]</td>\n",
              "      <td>]</td>\n",
              "      <td>]</td>\n",
              "      <td>]</td>\n",
              "      <td>]</td>\n",
              "      <td>]</td>\n",
              "      <td>]</td>\n",
              "      <td>]</td>\n",
              "      <td>]</td>\n",
              "      <td>]</td>\n",
              "      <td>]</td>\n",
              "      <td>]</td>\n",
              "      <td>]</td>\n",
              "      <td>]</td>\n",
              "      <td>]</td>\n",
              "      <td>]</td>\n",
              "      <td>]</td>\n",
              "      <td>]</td>\n",
              "      <td>]</td>\n",
              "      <td>]</td>\n",
              "      <td>]</td>\n",
              "      <td>]</td>\n",
              "      <td>]</td>\n",
              "      <td>]</td>\n",
              "      <td>]</td>\n",
              "      <td>]</td>\n",
              "      <td>]</td>\n",
              "      <td>]</td>\n",
              "    </tr>\n",
              "    <tr>\n",
              "      <th>1</th>\n",
              "      <td>&lt;sos&gt;</td>\n",
              "      <td>Br</td>\n",
              "      <td>c</td>\n",
              "      <td>1</td>\n",
              "      <td>c</td>\n",
              "      <td>c</td>\n",
              "      <td>c</td>\n",
              "      <td>c</td>\n",
              "      <td>(</td>\n",
              "      <td>N</td>\n",
              "      <td>c</td>\n",
              "      <td>2</td>\n",
              "      <td>n</td>\n",
              "      <td>c</td>\n",
              "      <td>n</td>\n",
              "      <td>c</td>\n",
              "      <td>3</td>\n",
              "      <td>c</td>\n",
              "      <td>c</td>\n",
              "      <td>n</td>\n",
              "      <td>c</td>\n",
              "      <td>c</td>\n",
              "      <td>2</td>\n",
              "      <td>3</td>\n",
              "      <td>]</td>\n",
              "      <td>c</td>\n",
              "      <td>1</td>\n",
              "      <td>N</td>\n",
              "      <td>C</td>\n",
              "      <td>C</td>\n",
              "      <td>N</td>\n",
              "      <td>4</td>\n",
              "      <td>C</td>\n",
              "      <td>C</td>\n",
              "      <td>O</td>\n",
              "      <td>C</td>\n",
              "      <td>C</td>\n",
              "      <td>4</td>\n",
              "      <td>&lt;eos&gt;</td>\n",
              "      <td>F</td>\n",
              "      <td>...</td>\n",
              "      <td>F</td>\n",
              "      <td>F</td>\n",
              "      <td>F</td>\n",
              "      <td>F</td>\n",
              "      <td>F</td>\n",
              "      <td>F</td>\n",
              "      <td>F</td>\n",
              "      <td>F</td>\n",
              "      <td>F</td>\n",
              "      <td>F</td>\n",
              "      <td>F</td>\n",
              "      <td>F</td>\n",
              "      <td>F</td>\n",
              "      <td>F</td>\n",
              "      <td>F</td>\n",
              "      <td>F</td>\n",
              "      <td>F</td>\n",
              "      <td>F</td>\n",
              "      <td>F</td>\n",
              "      <td>F</td>\n",
              "      <td>F</td>\n",
              "      <td>F</td>\n",
              "      <td>F</td>\n",
              "      <td>F</td>\n",
              "      <td>F</td>\n",
              "      <td>F</td>\n",
              "      <td>F</td>\n",
              "      <td>F</td>\n",
              "      <td>F</td>\n",
              "      <td>F</td>\n",
              "      <td>F</td>\n",
              "      <td>F</td>\n",
              "      <td>F</td>\n",
              "      <td>F</td>\n",
              "      <td>F</td>\n",
              "      <td>F</td>\n",
              "      <td>F</td>\n",
              "      <td>F</td>\n",
              "      <td>F</td>\n",
              "      <td>F</td>\n",
              "    </tr>\n",
              "    <tr>\n",
              "      <th>2</th>\n",
              "      <td>&lt;sos&gt;</td>\n",
              "      <td>C</td>\n",
              "      <td>O</td>\n",
              "      <td>c</td>\n",
              "      <td>1</td>\n",
              "      <td>c</td>\n",
              "      <td>(</td>\n",
              "      <td>O</td>\n",
              "      <td>]</td>\n",
              "      <td>c</td>\n",
              "      <td>c</td>\n",
              "      <td>(</td>\n",
              "      <td>O</td>\n",
              "      <td>]</td>\n",
              "      <td>c</td>\n",
              "      <td>(</td>\n",
              "      <td>C</td>\n",
              "      <td>(</td>\n",
              "      <td>=</td>\n",
              "      <td>N</td>\n",
              "      <td>]</td>\n",
              "      <td>C</td>\n",
              "      <td>c</td>\n",
              "      <td>2</td>\n",
              "      <td>c</td>\n",
              "      <td>c</td>\n",
              "      <td>c</td>\n",
              "      <td>(</td>\n",
              "      <td>O</td>\n",
              "      <td>]</td>\n",
              "      <td>c</td>\n",
              "      <td>c</td>\n",
              "      <td>2</td>\n",
              "      <td>]</td>\n",
              "      <td>c</td>\n",
              "      <td>1</td>\n",
              "      <td>O</td>\n",
              "      <td>&lt;eos&gt;</td>\n",
              "      <td>]</td>\n",
              "      <td>]</td>\n",
              "      <td>...</td>\n",
              "      <td>]</td>\n",
              "      <td>]</td>\n",
              "      <td>]</td>\n",
              "      <td>]</td>\n",
              "      <td>]</td>\n",
              "      <td>]</td>\n",
              "      <td>]</td>\n",
              "      <td>]</td>\n",
              "      <td>]</td>\n",
              "      <td>]</td>\n",
              "      <td>]</td>\n",
              "      <td>]</td>\n",
              "      <td>]</td>\n",
              "      <td>]</td>\n",
              "      <td>]</td>\n",
              "      <td>]</td>\n",
              "      <td>]</td>\n",
              "      <td>]</td>\n",
              "      <td>]</td>\n",
              "      <td>]</td>\n",
              "      <td>]</td>\n",
              "      <td>]</td>\n",
              "      <td>]</td>\n",
              "      <td>]</td>\n",
              "      <td>]</td>\n",
              "      <td>]</td>\n",
              "      <td>]</td>\n",
              "      <td>]</td>\n",
              "      <td>]</td>\n",
              "      <td>]</td>\n",
              "      <td>]</td>\n",
              "      <td>]</td>\n",
              "      <td>]</td>\n",
              "      <td>]</td>\n",
              "      <td>]</td>\n",
              "      <td>]</td>\n",
              "      <td>]</td>\n",
              "      <td>]</td>\n",
              "      <td>]</td>\n",
              "      <td>]</td>\n",
              "    </tr>\n",
              "    <tr>\n",
              "      <th>3</th>\n",
              "      <td>&lt;sos&gt;</td>\n",
              "      <td>C</td>\n",
              "      <td>C</td>\n",
              "      <td>O</td>\n",
              "      <td>C</td>\n",
              "      <td>(</td>\n",
              "      <td>=</td>\n",
              "      <td>O</td>\n",
              "      <td>]</td>\n",
              "      <td>c</td>\n",
              "      <td>1</td>\n",
              "      <td>c</td>\n",
              "      <td>c</td>\n",
              "      <td>2</td>\n",
              "      <td>c</td>\n",
              "      <td>c</td>\n",
              "      <td>(</td>\n",
              "      <td>c</td>\n",
              "      <td>c</td>\n",
              "      <td>c</td>\n",
              "      <td>2</td>\n",
              "      <td>[</td>\n",
              "      <td>n</td>\n",
              "      <td>H</td>\n",
              "      <td>]</td>\n",
              "      <td>1</td>\n",
              "      <td>]</td>\n",
              "      <td>C</td>\n",
              "      <td>(</td>\n",
              "      <td>=</td>\n",
              "      <td>O</td>\n",
              "      <td>]</td>\n",
              "      <td>O</td>\n",
              "      <td>&lt;eos&gt;</td>\n",
              "      <td>]</td>\n",
              "      <td>]</td>\n",
              "      <td>]</td>\n",
              "      <td>]</td>\n",
              "      <td>]</td>\n",
              "      <td>]</td>\n",
              "      <td>...</td>\n",
              "      <td>]</td>\n",
              "      <td>]</td>\n",
              "      <td>]</td>\n",
              "      <td>]</td>\n",
              "      <td>]</td>\n",
              "      <td>]</td>\n",
              "      <td>]</td>\n",
              "      <td>]</td>\n",
              "      <td>]</td>\n",
              "      <td>]</td>\n",
              "      <td>]</td>\n",
              "      <td>]</td>\n",
              "      <td>]</td>\n",
              "      <td>]</td>\n",
              "      <td>]</td>\n",
              "      <td>]</td>\n",
              "      <td>]</td>\n",
              "      <td>]</td>\n",
              "      <td>]</td>\n",
              "      <td>]</td>\n",
              "      <td>]</td>\n",
              "      <td>]</td>\n",
              "      <td>]</td>\n",
              "      <td>]</td>\n",
              "      <td>]</td>\n",
              "      <td>]</td>\n",
              "      <td>]</td>\n",
              "      <td>]</td>\n",
              "      <td>]</td>\n",
              "      <td>]</td>\n",
              "      <td>]</td>\n",
              "      <td>]</td>\n",
              "      <td>]</td>\n",
              "      <td>]</td>\n",
              "      <td>]</td>\n",
              "      <td>]</td>\n",
              "      <td>]</td>\n",
              "      <td>]</td>\n",
              "      <td>]</td>\n",
              "      <td>]</td>\n",
              "    </tr>\n",
              "    <tr>\n",
              "      <th>4</th>\n",
              "      <td>&lt;sos&gt;</td>\n",
              "      <td>C</td>\n",
              "      <td>[</td>\n",
              "      <td>C</td>\n",
              "      <td>@</td>\n",
              "      <td>H</td>\n",
              "      <td>]</td>\n",
              "      <td>(</td>\n",
              "      <td>N</td>\n",
              "      <td>C</td>\n",
              "      <td>(</td>\n",
              "      <td>=</td>\n",
              "      <td>O</td>\n",
              "      <td>]</td>\n",
              "      <td>O</td>\n",
              "      <td>C</td>\n",
              "      <td>c</td>\n",
              "      <td>1</td>\n",
              "      <td>c</td>\n",
              "      <td>c</td>\n",
              "      <td>c</td>\n",
              "      <td>c</td>\n",
              "      <td>c</td>\n",
              "      <td>1</td>\n",
              "      <td>]</td>\n",
              "      <td>C</td>\n",
              "      <td>(</td>\n",
              "      <td>=</td>\n",
              "      <td>O</td>\n",
              "      <td>]</td>\n",
              "      <td>N</td>\n",
              "      <td>[</td>\n",
              "      <td>C</td>\n",
              "      <td>@</td>\n",
              "      <td>@</td>\n",
              "      <td>H</td>\n",
              "      <td>]</td>\n",
              "      <td>(</td>\n",
              "      <td>C</td>\n",
              "      <td>]</td>\n",
              "      <td>...</td>\n",
              "      <td>]</td>\n",
              "      <td>]</td>\n",
              "      <td>]</td>\n",
              "      <td>]</td>\n",
              "      <td>]</td>\n",
              "      <td>]</td>\n",
              "      <td>]</td>\n",
              "      <td>]</td>\n",
              "      <td>]</td>\n",
              "      <td>]</td>\n",
              "      <td>]</td>\n",
              "      <td>]</td>\n",
              "      <td>]</td>\n",
              "      <td>]</td>\n",
              "      <td>]</td>\n",
              "      <td>]</td>\n",
              "      <td>]</td>\n",
              "      <td>]</td>\n",
              "      <td>]</td>\n",
              "      <td>]</td>\n",
              "      <td>]</td>\n",
              "      <td>]</td>\n",
              "      <td>]</td>\n",
              "      <td>]</td>\n",
              "      <td>]</td>\n",
              "      <td>]</td>\n",
              "      <td>]</td>\n",
              "      <td>]</td>\n",
              "      <td>]</td>\n",
              "      <td>]</td>\n",
              "      <td>]</td>\n",
              "      <td>]</td>\n",
              "      <td>]</td>\n",
              "      <td>]</td>\n",
              "      <td>]</td>\n",
              "      <td>]</td>\n",
              "      <td>]</td>\n",
              "      <td>]</td>\n",
              "      <td>]</td>\n",
              "      <td>]</td>\n",
              "    </tr>\n",
              "    <tr>\n",
              "      <th>...</th>\n",
              "      <td>...</td>\n",
              "      <td>...</td>\n",
              "      <td>...</td>\n",
              "      <td>...</td>\n",
              "      <td>...</td>\n",
              "      <td>...</td>\n",
              "      <td>...</td>\n",
              "      <td>...</td>\n",
              "      <td>...</td>\n",
              "      <td>...</td>\n",
              "      <td>...</td>\n",
              "      <td>...</td>\n",
              "      <td>...</td>\n",
              "      <td>...</td>\n",
              "      <td>...</td>\n",
              "      <td>...</td>\n",
              "      <td>...</td>\n",
              "      <td>...</td>\n",
              "      <td>...</td>\n",
              "      <td>...</td>\n",
              "      <td>...</td>\n",
              "      <td>...</td>\n",
              "      <td>...</td>\n",
              "      <td>...</td>\n",
              "      <td>...</td>\n",
              "      <td>...</td>\n",
              "      <td>...</td>\n",
              "      <td>...</td>\n",
              "      <td>...</td>\n",
              "      <td>...</td>\n",
              "      <td>...</td>\n",
              "      <td>...</td>\n",
              "      <td>...</td>\n",
              "      <td>...</td>\n",
              "      <td>...</td>\n",
              "      <td>...</td>\n",
              "      <td>...</td>\n",
              "      <td>...</td>\n",
              "      <td>...</td>\n",
              "      <td>...</td>\n",
              "      <td>...</td>\n",
              "      <td>...</td>\n",
              "      <td>...</td>\n",
              "      <td>...</td>\n",
              "      <td>...</td>\n",
              "      <td>...</td>\n",
              "      <td>...</td>\n",
              "      <td>...</td>\n",
              "      <td>...</td>\n",
              "      <td>...</td>\n",
              "      <td>...</td>\n",
              "      <td>...</td>\n",
              "      <td>...</td>\n",
              "      <td>...</td>\n",
              "      <td>...</td>\n",
              "      <td>...</td>\n",
              "      <td>...</td>\n",
              "      <td>...</td>\n",
              "      <td>...</td>\n",
              "      <td>...</td>\n",
              "      <td>...</td>\n",
              "      <td>...</td>\n",
              "      <td>...</td>\n",
              "      <td>...</td>\n",
              "      <td>...</td>\n",
              "      <td>...</td>\n",
              "      <td>...</td>\n",
              "      <td>...</td>\n",
              "      <td>...</td>\n",
              "      <td>...</td>\n",
              "      <td>...</td>\n",
              "      <td>...</td>\n",
              "      <td>...</td>\n",
              "      <td>...</td>\n",
              "      <td>...</td>\n",
              "      <td>...</td>\n",
              "      <td>...</td>\n",
              "      <td>...</td>\n",
              "      <td>...</td>\n",
              "      <td>...</td>\n",
              "      <td>...</td>\n",
              "    </tr>\n",
              "    <tr>\n",
              "      <th>1047</th>\n",
              "      <td>&lt;sos&gt;</td>\n",
              "      <td>C</td>\n",
              "      <td>[</td>\n",
              "      <td>C</td>\n",
              "      <td>@</td>\n",
              "      <td>H</td>\n",
              "      <td>]</td>\n",
              "      <td>(</td>\n",
              "      <td>C</td>\n",
              "      <td>C</td>\n",
              "      <td>C</td>\n",
              "      <td>S</td>\n",
              "      <td>(</td>\n",
              "      <td>=</td>\n",
              "      <td>O</td>\n",
              "      <td>]</td>\n",
              "      <td>(</td>\n",
              "      <td>=</td>\n",
              "      <td>O</td>\n",
              "      <td>]</td>\n",
              "      <td>C</td>\n",
              "      <td>]</td>\n",
              "      <td>C</td>\n",
              "      <td>1</td>\n",
              "      <td>=</td>\n",
              "      <td>C</td>\n",
              "      <td>C</td>\n",
              "      <td>[</td>\n",
              "      <td>C</td>\n",
              "      <td>@</td>\n",
              "      <td>H</td>\n",
              "      <td>]</td>\n",
              "      <td>2</td>\n",
              "      <td>\\</td>\n",
              "      <td>C</td>\n",
              "      <td>(</td>\n",
              "      <td>=</td>\n",
              "      <td>C</td>\n",
              "      <td>\\</td>\n",
              "      <td>C</td>\n",
              "      <td>...</td>\n",
              "      <td>]</td>\n",
              "      <td>]</td>\n",
              "      <td>]</td>\n",
              "      <td>]</td>\n",
              "      <td>]</td>\n",
              "      <td>]</td>\n",
              "      <td>]</td>\n",
              "      <td>]</td>\n",
              "      <td>]</td>\n",
              "      <td>]</td>\n",
              "      <td>]</td>\n",
              "      <td>]</td>\n",
              "      <td>]</td>\n",
              "      <td>]</td>\n",
              "      <td>]</td>\n",
              "      <td>]</td>\n",
              "      <td>]</td>\n",
              "      <td>]</td>\n",
              "      <td>]</td>\n",
              "      <td>]</td>\n",
              "      <td>]</td>\n",
              "      <td>]</td>\n",
              "      <td>]</td>\n",
              "      <td>]</td>\n",
              "      <td>]</td>\n",
              "      <td>]</td>\n",
              "      <td>]</td>\n",
              "      <td>]</td>\n",
              "      <td>]</td>\n",
              "      <td>]</td>\n",
              "      <td>]</td>\n",
              "      <td>]</td>\n",
              "      <td>]</td>\n",
              "      <td>]</td>\n",
              "      <td>]</td>\n",
              "      <td>]</td>\n",
              "      <td>]</td>\n",
              "      <td>]</td>\n",
              "      <td>]</td>\n",
              "      <td>]</td>\n",
              "    </tr>\n",
              "    <tr>\n",
              "      <th>1048</th>\n",
              "      <td>&lt;sos&gt;</td>\n",
              "      <td>C</td>\n",
              "      <td>C</td>\n",
              "      <td>1</td>\n",
              "      <td>=</td>\n",
              "      <td>C</td>\n",
              "      <td>(</td>\n",
              "      <td>C</td>\n",
              "      <td>#</td>\n",
              "      <td>N</td>\n",
              "      <td>]</td>\n",
              "      <td>c</td>\n",
              "      <td>2</td>\n",
              "      <td>n</td>\n",
              "      <td>c</td>\n",
              "      <td>(</td>\n",
              "      <td>N</td>\n",
              "      <td>]</td>\n",
              "      <td>c</td>\n",
              "      <td>(</td>\n",
              "      <td>C</td>\n",
              "      <td>#</td>\n",
              "      <td>N</td>\n",
              "      <td>]</td>\n",
              "      <td>c</td>\n",
              "      <td>(</td>\n",
              "      <td>C</td>\n",
              "      <td>]</td>\n",
              "      <td>c</td>\n",
              "      <td>2</td>\n",
              "      <td>/</td>\n",
              "      <td>C</td>\n",
              "      <td>/</td>\n",
              "      <td>1</td>\n",
              "      <td>=</td>\n",
              "      <td>C</td>\n",
              "      <td>/</td>\n",
              "      <td>c</td>\n",
              "      <td>3</td>\n",
              "      <td>o</td>\n",
              "      <td>...</td>\n",
              "      <td>]</td>\n",
              "      <td>]</td>\n",
              "      <td>]</td>\n",
              "      <td>]</td>\n",
              "      <td>]</td>\n",
              "      <td>]</td>\n",
              "      <td>]</td>\n",
              "      <td>]</td>\n",
              "      <td>]</td>\n",
              "      <td>]</td>\n",
              "      <td>]</td>\n",
              "      <td>]</td>\n",
              "      <td>]</td>\n",
              "      <td>]</td>\n",
              "      <td>]</td>\n",
              "      <td>]</td>\n",
              "      <td>]</td>\n",
              "      <td>]</td>\n",
              "      <td>]</td>\n",
              "      <td>]</td>\n",
              "      <td>]</td>\n",
              "      <td>]</td>\n",
              "      <td>]</td>\n",
              "      <td>]</td>\n",
              "      <td>]</td>\n",
              "      <td>]</td>\n",
              "      <td>]</td>\n",
              "      <td>]</td>\n",
              "      <td>]</td>\n",
              "      <td>]</td>\n",
              "      <td>]</td>\n",
              "      <td>]</td>\n",
              "      <td>]</td>\n",
              "      <td>]</td>\n",
              "      <td>]</td>\n",
              "      <td>]</td>\n",
              "      <td>]</td>\n",
              "      <td>]</td>\n",
              "      <td>]</td>\n",
              "      <td>]</td>\n",
              "    </tr>\n",
              "    <tr>\n",
              "      <th>1049</th>\n",
              "      <td>&lt;sos&gt;</td>\n",
              "      <td>C</td>\n",
              "      <td>c</td>\n",
              "      <td>1</td>\n",
              "      <td>c</td>\n",
              "      <td>c</td>\n",
              "      <td>c</td>\n",
              "      <td>c</td>\n",
              "      <td>c</td>\n",
              "      <td>1</td>\n",
              "      <td>c</td>\n",
              "      <td>2</td>\n",
              "      <td>n</td>\n",
              "      <td>c</td>\n",
              "      <td>n</td>\n",
              "      <td>c</td>\n",
              "      <td>3</td>\n",
              "      <td>c</td>\n",
              "      <td>2</td>\n",
              "      <td>n</td>\n",
              "      <td>c</td>\n",
              "      <td>n</td>\n",
              "      <td>3</td>\n",
              "      <td>C</td>\n",
              "      <td>4</td>\n",
              "      <td>O</td>\n",
              "      <td>[</td>\n",
              "      <td>C</td>\n",
              "      <td>@</td>\n",
              "      <td>H</td>\n",
              "      <td>]</td>\n",
              "      <td>(</td>\n",
              "      <td>C</td>\n",
              "      <td>O</td>\n",
              "      <td>]</td>\n",
              "      <td>[</td>\n",
              "      <td>C</td>\n",
              "      <td>@</td>\n",
              "      <td>@</td>\n",
              "      <td>H</td>\n",
              "      <td>...</td>\n",
              "      <td>]</td>\n",
              "      <td>]</td>\n",
              "      <td>]</td>\n",
              "      <td>]</td>\n",
              "      <td>]</td>\n",
              "      <td>]</td>\n",
              "      <td>]</td>\n",
              "      <td>]</td>\n",
              "      <td>]</td>\n",
              "      <td>]</td>\n",
              "      <td>]</td>\n",
              "      <td>]</td>\n",
              "      <td>]</td>\n",
              "      <td>]</td>\n",
              "      <td>]</td>\n",
              "      <td>]</td>\n",
              "      <td>]</td>\n",
              "      <td>]</td>\n",
              "      <td>]</td>\n",
              "      <td>]</td>\n",
              "      <td>]</td>\n",
              "      <td>]</td>\n",
              "      <td>]</td>\n",
              "      <td>]</td>\n",
              "      <td>]</td>\n",
              "      <td>]</td>\n",
              "      <td>]</td>\n",
              "      <td>]</td>\n",
              "      <td>]</td>\n",
              "      <td>]</td>\n",
              "      <td>]</td>\n",
              "      <td>]</td>\n",
              "      <td>]</td>\n",
              "      <td>]</td>\n",
              "      <td>]</td>\n",
              "      <td>]</td>\n",
              "      <td>]</td>\n",
              "      <td>]</td>\n",
              "      <td>]</td>\n",
              "      <td>]</td>\n",
              "    </tr>\n",
              "    <tr>\n",
              "      <th>1050</th>\n",
              "      <td>&lt;sos&gt;</td>\n",
              "      <td>C</td>\n",
              "      <td>C</td>\n",
              "      <td>(</td>\n",
              "      <td>C</td>\n",
              "      <td>]</td>\n",
              "      <td>c</td>\n",
              "      <td>1</td>\n",
              "      <td>c</td>\n",
              "      <td>c</td>\n",
              "      <td>c</td>\n",
              "      <td>(</td>\n",
              "      <td>c</td>\n",
              "      <td>c</td>\n",
              "      <td>1</td>\n",
              "      <td>]</td>\n",
              "      <td>c</td>\n",
              "      <td>2</td>\n",
              "      <td>c</td>\n",
              "      <td>c</td>\n",
              "      <td>(</td>\n",
              "      <td>n</td>\n",
              "      <td>c</td>\n",
              "      <td>(</td>\n",
              "      <td>Cl</td>\n",
              "      <td>]</td>\n",
              "      <td>c</td>\n",
              "      <td>2</td>\n",
              "      <td>C</td>\n",
              "      <td>#</td>\n",
              "      <td>N</td>\n",
              "      <td>]</td>\n",
              "      <td>c</td>\n",
              "      <td>3</td>\n",
              "      <td>c</td>\n",
              "      <td>c</td>\n",
              "      <td>c</td>\n",
              "      <td>4</td>\n",
              "      <td>C</td>\n",
              "      <td>C</td>\n",
              "      <td>...</td>\n",
              "      <td>]</td>\n",
              "      <td>]</td>\n",
              "      <td>]</td>\n",
              "      <td>]</td>\n",
              "      <td>]</td>\n",
              "      <td>]</td>\n",
              "      <td>]</td>\n",
              "      <td>]</td>\n",
              "      <td>]</td>\n",
              "      <td>]</td>\n",
              "      <td>]</td>\n",
              "      <td>]</td>\n",
              "      <td>]</td>\n",
              "      <td>]</td>\n",
              "      <td>]</td>\n",
              "      <td>]</td>\n",
              "      <td>]</td>\n",
              "      <td>]</td>\n",
              "      <td>]</td>\n",
              "      <td>]</td>\n",
              "      <td>]</td>\n",
              "      <td>]</td>\n",
              "      <td>]</td>\n",
              "      <td>]</td>\n",
              "      <td>]</td>\n",
              "      <td>]</td>\n",
              "      <td>]</td>\n",
              "      <td>]</td>\n",
              "      <td>]</td>\n",
              "      <td>]</td>\n",
              "      <td>]</td>\n",
              "      <td>]</td>\n",
              "      <td>]</td>\n",
              "      <td>]</td>\n",
              "      <td>]</td>\n",
              "      <td>]</td>\n",
              "      <td>]</td>\n",
              "      <td>]</td>\n",
              "      <td>]</td>\n",
              "      <td>]</td>\n",
              "    </tr>\n",
              "    <tr>\n",
              "      <th>1051</th>\n",
              "      <td>&lt;sos&gt;</td>\n",
              "      <td>C</td>\n",
              "      <td>C</td>\n",
              "      <td>1</td>\n",
              "      <td>C</td>\n",
              "      <td>(</td>\n",
              "      <td>C</td>\n",
              "      <td>N</td>\n",
              "      <td>]</td>\n",
              "      <td>C</td>\n",
              "      <td>2</td>\n",
              "      <td>c</td>\n",
              "      <td>3</td>\n",
              "      <td>c</td>\n",
              "      <td>c</td>\n",
              "      <td>c</td>\n",
              "      <td>c</td>\n",
              "      <td>c</td>\n",
              "      <td>3</td>\n",
              "      <td>C</td>\n",
              "      <td>1</td>\n",
              "      <td>c</td>\n",
              "      <td>4</td>\n",
              "      <td>c</td>\n",
              "      <td>c</td>\n",
              "      <td>c</td>\n",
              "      <td>c</td>\n",
              "      <td>c</td>\n",
              "      <td>2</td>\n",
              "      <td>4</td>\n",
              "      <td>&lt;eos&gt;</td>\n",
              "      <td>]</td>\n",
              "      <td>]</td>\n",
              "      <td>]</td>\n",
              "      <td>]</td>\n",
              "      <td>]</td>\n",
              "      <td>]</td>\n",
              "      <td>]</td>\n",
              "      <td>]</td>\n",
              "      <td>]</td>\n",
              "      <td>...</td>\n",
              "      <td>]</td>\n",
              "      <td>]</td>\n",
              "      <td>]</td>\n",
              "      <td>]</td>\n",
              "      <td>]</td>\n",
              "      <td>]</td>\n",
              "      <td>]</td>\n",
              "      <td>]</td>\n",
              "      <td>]</td>\n",
              "      <td>]</td>\n",
              "      <td>]</td>\n",
              "      <td>]</td>\n",
              "      <td>]</td>\n",
              "      <td>]</td>\n",
              "      <td>]</td>\n",
              "      <td>]</td>\n",
              "      <td>]</td>\n",
              "      <td>]</td>\n",
              "      <td>]</td>\n",
              "      <td>]</td>\n",
              "      <td>]</td>\n",
              "      <td>]</td>\n",
              "      <td>]</td>\n",
              "      <td>]</td>\n",
              "      <td>]</td>\n",
              "      <td>]</td>\n",
              "      <td>]</td>\n",
              "      <td>]</td>\n",
              "      <td>]</td>\n",
              "      <td>]</td>\n",
              "      <td>]</td>\n",
              "      <td>]</td>\n",
              "      <td>]</td>\n",
              "      <td>]</td>\n",
              "      <td>]</td>\n",
              "      <td>]</td>\n",
              "      <td>]</td>\n",
              "      <td>]</td>\n",
              "      <td>]</td>\n",
              "      <td>]</td>\n",
              "    </tr>\n",
              "  </tbody>\n",
              "</table>\n",
              "<p>1052 rows × 220 columns</p>\n",
              "</div>"
            ],
            "text/plain": [
              "        0   1   2   3   4   5   6   7   8    ... 211 212 213 214 215 216 217 218 219\n",
              "0     <sos>   C   c   1   c   c   (   c   n  ...   ]   ]   ]   ]   ]   ]   ]   ]   ]\n",
              "1     <sos>  Br   c   1   c   c   c   c   (  ...   F   F   F   F   F   F   F   F   F\n",
              "2     <sos>   C   O   c   1   c   (   O   ]  ...   ]   ]   ]   ]   ]   ]   ]   ]   ]\n",
              "3     <sos>   C   C   O   C   (   =   O   ]  ...   ]   ]   ]   ]   ]   ]   ]   ]   ]\n",
              "4     <sos>   C   [   C   @   H   ]   (   N  ...   ]   ]   ]   ]   ]   ]   ]   ]   ]\n",
              "...     ...  ..  ..  ..  ..  ..  ..  ..  ..  ...  ..  ..  ..  ..  ..  ..  ..  ..  ..\n",
              "1047  <sos>   C   [   C   @   H   ]   (   C  ...   ]   ]   ]   ]   ]   ]   ]   ]   ]\n",
              "1048  <sos>   C   C   1   =   C   (   C   #  ...   ]   ]   ]   ]   ]   ]   ]   ]   ]\n",
              "1049  <sos>   C   c   1   c   c   c   c   c  ...   ]   ]   ]   ]   ]   ]   ]   ]   ]\n",
              "1050  <sos>   C   C   (   C   ]   c   1   c  ...   ]   ]   ]   ]   ]   ]   ]   ]   ]\n",
              "1051  <sos>   C   C   1   C   (   C   N   ]  ...   ]   ]   ]   ]   ]   ]   ]   ]   ]\n",
              "\n",
              "[1052 rows x 220 columns]"
            ]
          },
          "metadata": {
            "tags": []
          },
          "execution_count": 27
        }
      ]
    },
    {
      "cell_type": "code",
      "metadata": {
        "id": "mfYF2Or4GWMN"
      },
      "source": [
        "#put all characters into one continuous string\n",
        "smiles_formatted = np.empty(decoded_smiles.shape[0], dtype=object)\n",
        "for i in range(smiles_molecules.shape[0]):\n",
        "  smile = smiles_molecules[i]\n",
        "  end = np.where(smile == '<eos>')[0][0]\n",
        "  smiles_formatted[i] = \"\".join(smile[1:end])"
      ],
      "execution_count": 29,
      "outputs": []
    },
    {
      "cell_type": "code",
      "metadata": {
        "id": "u0s7mSjAceSk",
        "colab": {
          "base_uri": "https://localhost:8080/",
          "height": 399
        },
        "outputId": "6be1a7ed-a525-4687-8028-347598898eb9"
      },
      "source": [
        "decoded_final = pd.DataFrame(smiles_formatted)\n",
        "decoded_final.columns = ['smiles']\n",
        "decoded_final"
      ],
      "execution_count": 30,
      "outputs": [
        {
          "output_type": "execute_result",
          "data": {
            "text/html": [
              "<div>\n",
              "<style scoped>\n",
              "    .dataframe tbody tr th:only-of-type {\n",
              "        vertical-align: middle;\n",
              "    }\n",
              "\n",
              "    .dataframe tbody tr th {\n",
              "        vertical-align: top;\n",
              "    }\n",
              "\n",
              "    .dataframe thead th {\n",
              "        text-align: right;\n",
              "    }\n",
              "</style>\n",
              "<table border=\"1\" class=\"dataframe\">\n",
              "  <thead>\n",
              "    <tr style=\"text-align: right;\">\n",
              "      <th></th>\n",
              "      <th>smiles</th>\n",
              "    </tr>\n",
              "  </thead>\n",
              "  <tbody>\n",
              "    <tr>\n",
              "      <th>0</th>\n",
              "      <td>Cc1cc(cn1C]c2csc(N=C(N]N]n2</td>\n",
              "    </tr>\n",
              "    <tr>\n",
              "      <th>1</th>\n",
              "      <td>Brc1cccc(Nc2ncnc3ccncc23]c1NCCN4CCOCC4</td>\n",
              "    </tr>\n",
              "    <tr>\n",
              "      <th>2</th>\n",
              "      <td>COc1c(O]cc(O]c(C(=N]Cc2ccc(O]cc2]c1O</td>\n",
              "    </tr>\n",
              "    <tr>\n",
              "      <th>3</th>\n",
              "      <td>CCOC(=O]c1cc2cc(ccc2[nH]1]C(=O]O</td>\n",
              "    </tr>\n",
              "    <tr>\n",
              "      <th>4</th>\n",
              "      <td>C[C@H](NC(=O]OCc1ccccc1]C(=O]N[C@@H](C]C(=O]NN...</td>\n",
              "    </tr>\n",
              "    <tr>\n",
              "      <th>...</th>\n",
              "      <td>...</td>\n",
              "    </tr>\n",
              "    <tr>\n",
              "      <th>1047</th>\n",
              "      <td>C[C@H](CCCS(=O](=O]C]C1=CC[C@H]2\\C(=C\\C=C/3\\C[...</td>\n",
              "    </tr>\n",
              "    <tr>\n",
              "      <th>1048</th>\n",
              "      <td>CC1=C(C#N]c2nc(N]c(C#N]c(C]c2/C/1=C/c3oc(cc3]c...</td>\n",
              "    </tr>\n",
              "    <tr>\n",
              "      <th>1049</th>\n",
              "      <td>Cc1ccccc1c2ncnc3c2ncn3C4O[C@H](CO][C@@H](O][C@...</td>\n",
              "    </tr>\n",
              "    <tr>\n",
              "      <th>1050</th>\n",
              "      <td>CC(C]c1ccc(cc1]c2cc(nc(Cl]c2C#N]c3ccc4CCCCc4c3</td>\n",
              "    </tr>\n",
              "    <tr>\n",
              "      <th>1051</th>\n",
              "      <td>CC1C(CN]C2c3ccccc3C1c4ccccc24</td>\n",
              "    </tr>\n",
              "  </tbody>\n",
              "</table>\n",
              "<p>1052 rows × 1 columns</p>\n",
              "</div>"
            ],
            "text/plain": [
              "                                                 smiles\n",
              "0                           Cc1cc(cn1C]c2csc(N=C(N]N]n2\n",
              "1                Brc1cccc(Nc2ncnc3ccncc23]c1NCCN4CCOCC4\n",
              "2                  COc1c(O]cc(O]c(C(=N]Cc2ccc(O]cc2]c1O\n",
              "3                      CCOC(=O]c1cc2cc(ccc2[nH]1]C(=O]O\n",
              "4     C[C@H](NC(=O]OCc1ccccc1]C(=O]N[C@@H](C]C(=O]NN...\n",
              "...                                                 ...\n",
              "1047  C[C@H](CCCS(=O](=O]C]C1=CC[C@H]2\\C(=C\\C=C/3\\C[...\n",
              "1048  CC1=C(C#N]c2nc(N]c(C#N]c(C]c2/C/1=C/c3oc(cc3]c...\n",
              "1049  Cc1ccccc1c2ncnc3c2ncn3C4O[C@H](CO][C@@H](O][C@...\n",
              "1050     CC(C]c1ccc(cc1]c2cc(nc(Cl]c2C#N]c3ccc4CCCCc4c3\n",
              "1051                      CC1C(CN]C2c3ccccc3C1c4ccccc24\n",
              "\n",
              "[1052 rows x 1 columns]"
            ]
          },
          "metadata": {
            "tags": []
          },
          "execution_count": 30
        }
      ]
    },
    {
      "cell_type": "code",
      "metadata": {
        "id": "2Qk-6NzspTAy",
        "colab": {
          "base_uri": "https://localhost:8080/",
          "height": 399
        },
        "outputId": "81c8bfb1-dce3-4dee-9175-b66ec5ca1701"
      },
      "source": [
        "df2"
      ],
      "execution_count": 31,
      "outputs": [
        {
          "output_type": "execute_result",
          "data": {
            "text/html": [
              "<div>\n",
              "<style scoped>\n",
              "    .dataframe tbody tr th:only-of-type {\n",
              "        vertical-align: middle;\n",
              "    }\n",
              "\n",
              "    .dataframe tbody tr th {\n",
              "        vertical-align: top;\n",
              "    }\n",
              "\n",
              "    .dataframe thead th {\n",
              "        text-align: right;\n",
              "    }\n",
              "</style>\n",
              "<table border=\"1\" class=\"dataframe\">\n",
              "  <thead>\n",
              "    <tr style=\"text-align: right;\">\n",
              "      <th></th>\n",
              "      <th>canonical_smiles</th>\n",
              "    </tr>\n",
              "  </thead>\n",
              "  <tbody>\n",
              "    <tr>\n",
              "      <th>0</th>\n",
              "      <td>Cc1cc(cn1C)c2csc(N=C(N)N)n2</td>\n",
              "    </tr>\n",
              "    <tr>\n",
              "      <th>1</th>\n",
              "      <td>Brc1cccc(Nc2ncnc3ccncc23)c1NCCN4CCOCC4</td>\n",
              "    </tr>\n",
              "    <tr>\n",
              "      <th>2</th>\n",
              "      <td>COc1c(O)cc(O)c(C(=N)Cc2ccc(O)cc2)c1O</td>\n",
              "    </tr>\n",
              "    <tr>\n",
              "      <th>3</th>\n",
              "      <td>CCOC(=O)c1cc2cc(ccc2[nH]1)C(=O)O</td>\n",
              "    </tr>\n",
              "    <tr>\n",
              "      <th>4</th>\n",
              "      <td>C[C@H](NC(=O)OCc1ccccc1)C(=O)N[C@@H](C)C(=O)NN...</td>\n",
              "    </tr>\n",
              "    <tr>\n",
              "      <th>...</th>\n",
              "      <td>...</td>\n",
              "    </tr>\n",
              "    <tr>\n",
              "      <th>1047</th>\n",
              "      <td>C[C@H](CCCS(=O)(=O)C)C1=CC[C@H]2\\C(=C\\C=C/3\\C[...</td>\n",
              "    </tr>\n",
              "    <tr>\n",
              "      <th>1048</th>\n",
              "      <td>CC1=C(C#N)c2nc(N)c(C#N)c(C)c2/C/1=C/c3oc(cc3)c...</td>\n",
              "    </tr>\n",
              "    <tr>\n",
              "      <th>1049</th>\n",
              "      <td>Cc1ccccc1c2ncnc3c2ncn3C4O[C@H](CO)[C@@H](O)[C@...</td>\n",
              "    </tr>\n",
              "    <tr>\n",
              "      <th>1050</th>\n",
              "      <td>CC(C)c1ccc(cc1)c2cc(nc(Cl)c2C#N)c3ccc4CCCCc4c3</td>\n",
              "    </tr>\n",
              "    <tr>\n",
              "      <th>1051</th>\n",
              "      <td>CC1C(CN)C2c3ccccc3C1c4ccccc24</td>\n",
              "    </tr>\n",
              "  </tbody>\n",
              "</table>\n",
              "<p>1052 rows × 1 columns</p>\n",
              "</div>"
            ],
            "text/plain": [
              "                                       canonical_smiles\n",
              "0                           Cc1cc(cn1C)c2csc(N=C(N)N)n2\n",
              "1                Brc1cccc(Nc2ncnc3ccncc23)c1NCCN4CCOCC4\n",
              "2                  COc1c(O)cc(O)c(C(=N)Cc2ccc(O)cc2)c1O\n",
              "3                      CCOC(=O)c1cc2cc(ccc2[nH]1)C(=O)O\n",
              "4     C[C@H](NC(=O)OCc1ccccc1)C(=O)N[C@@H](C)C(=O)NN...\n",
              "...                                                 ...\n",
              "1047  C[C@H](CCCS(=O)(=O)C)C1=CC[C@H]2\\C(=C\\C=C/3\\C[...\n",
              "1048  CC1=C(C#N)c2nc(N)c(C#N)c(C)c2/C/1=C/c3oc(cc3)c...\n",
              "1049  Cc1ccccc1c2ncnc3c2ncn3C4O[C@H](CO)[C@@H](O)[C@...\n",
              "1050     CC(C)c1ccc(cc1)c2cc(nc(Cl)c2C#N)c3ccc4CCCCc4c3\n",
              "1051                      CC1C(CN)C2c3ccccc3C1c4ccccc24\n",
              "\n",
              "[1052 rows x 1 columns]"
            ]
          },
          "metadata": {
            "tags": []
          },
          "execution_count": 31
        }
      ]
    },
    {
      "cell_type": "code",
      "metadata": {
        "id": "Gkm8e7IK2biw"
      },
      "source": [
        ""
      ],
      "execution_count": null,
      "outputs": []
    }
  ]
}