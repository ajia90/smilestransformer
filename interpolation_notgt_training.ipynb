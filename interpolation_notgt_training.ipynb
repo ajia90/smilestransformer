{
  "nbformat": 4,
  "nbformat_minor": 0,
  "metadata": {
    "accelerator": "GPU",
    "colab": {
      "name": "interpolation_notgt_training.ipynb",
      "provenance": [],
      "collapsed_sections": [],
      "toc_visible": true,
      "machine_shape": "hm",
      "authorship_tag": "ABX9TyNmbsugYiA8f029+1EkdsBt",
      "include_colab_link": true
    },
    "kernelspec": {
      "display_name": "Python 3",
      "name": "python3"
    }
  },
  "cells": [
    {
      "cell_type": "markdown",
      "metadata": {
        "id": "view-in-github",
        "colab_type": "text"
      },
      "source": [
        "<a href=\"https://colab.research.google.com/github/ajia90/smilestransformer/blob/main/interpolation_notgt_training.ipynb\" target=\"_parent\"><img src=\"https://colab.research.google.com/assets/colab-badge.svg\" alt=\"Open In Colab\"/></a>"
      ]
    },
    {
      "cell_type": "markdown",
      "metadata": {
        "id": "fVUbqULatxbS"
      },
      "source": [
        "# imports/ setup"
      ]
    },
    {
      "cell_type": "markdown",
      "metadata": {
        "id": "LVZDd-tQlFl8"
      },
      "source": [
        "mask + target = source -> molecules w/ some errors |||\n",
        "mask + only start tokens -> only start toekn "
      ]
    },
    {
      "cell_type": "markdown",
      "metadata": {
        "id": "McSSbGnGkylk"
      },
      "source": [
        "\n",
        "---\n",
        "\n"
      ]
    },
    {
      "cell_type": "code",
      "metadata": {
        "id": "iJAWqqICQXkT",
        "colab": {
          "base_uri": "https://localhost:8080/"
        },
        "outputId": "e80f4f5d-95bd-4b3e-adb0-b7e5c5e08fb6"
      },
      "source": [
        "# Install RDKit. Takes 2-3 minutes\n",
        "!wget -c https://repo.continuum.io/miniconda/Miniconda3-latest-Linux-x86_64.sh\n",
        "!chmod +x Miniconda3-latest-Linux-x86_64.sh\n",
        "!time bash ./Miniconda3-latest-Linux-x86_64.sh -b -f -p /usr/local\n",
        "!time conda install -q -y -c conda-forge python=3.7 \n",
        "#!time conda install -q -y -c conda-forge rdkit \n"
      ],
      "execution_count": null,
      "outputs": [
        {
          "output_type": "stream",
          "text": [
            "--2021-06-02 02:05:08--  https://repo.continuum.io/miniconda/Miniconda3-latest-Linux-x86_64.sh\n",
            "Resolving repo.continuum.io (repo.continuum.io)... 104.18.200.79, 104.18.201.79, 2606:4700::6812:c84f, ...\n",
            "Connecting to repo.continuum.io (repo.continuum.io)|104.18.200.79|:443... connected.\n",
            "HTTP request sent, awaiting response... 301 Moved Permanently\n",
            "Location: https://repo.anaconda.com/miniconda/Miniconda3-latest-Linux-x86_64.sh [following]\n",
            "--2021-06-02 02:05:08--  https://repo.anaconda.com/miniconda/Miniconda3-latest-Linux-x86_64.sh\n",
            "Resolving repo.anaconda.com (repo.anaconda.com)... 104.16.130.3, 104.16.131.3, 2606:4700::6810:8303, ...\n",
            "Connecting to repo.anaconda.com (repo.anaconda.com)|104.16.130.3|:443... connected.\n",
            "HTTP request sent, awaiting response... 200 OK\n",
            "Length: 94235922 (90M) [application/x-sh]\n",
            "Saving to: ‘Miniconda3-latest-Linux-x86_64.sh’\n",
            "\n",
            "Miniconda3-latest-L 100%[===================>]  89.87M   137MB/s    in 0.7s    \n",
            "\n",
            "2021-06-02 02:05:09 (137 MB/s) - ‘Miniconda3-latest-Linux-x86_64.sh’ saved [94235922/94235922]\n",
            "\n",
            "PREFIX=/usr/local\n",
            "Unpacking payload ...\n",
            "Collecting package metadata (current_repodata.json): - \b\b\\ \b\b| \b\bdone\n",
            "Solving environment: - \b\b\\ \b\bdone\n",
            "\n",
            "## Package Plan ##\n",
            "\n",
            "  environment location: /usr/local\n",
            "\n",
            "  added / updated specs:\n",
            "    - _libgcc_mutex==0.1=main\n",
            "    - brotlipy==0.7.0=py38h27cfd23_1003\n",
            "    - ca-certificates==2020.10.14=0\n",
            "    - certifi==2020.6.20=pyhd3eb1b0_3\n",
            "    - cffi==1.14.3=py38h261ae71_2\n",
            "    - chardet==3.0.4=py38h06a4308_1003\n",
            "    - conda-package-handling==1.7.2=py38h03888b9_0\n",
            "    - conda==4.9.2=py38h06a4308_0\n",
            "    - cryptography==3.2.1=py38h3c74f83_1\n",
            "    - idna==2.10=py_0\n",
            "    - ld_impl_linux-64==2.33.1=h53a641e_7\n",
            "    - libedit==3.1.20191231=h14c3975_1\n",
            "    - libffi==3.3=he6710b0_2\n",
            "    - libgcc-ng==9.1.0=hdf63c60_0\n",
            "    - libstdcxx-ng==9.1.0=hdf63c60_0\n",
            "    - ncurses==6.2=he6710b0_1\n",
            "    - openssl==1.1.1h=h7b6447c_0\n",
            "    - pip==20.2.4=py38h06a4308_0\n",
            "    - pycosat==0.6.3=py38h7b6447c_1\n",
            "    - pycparser==2.20=py_2\n",
            "    - pyopenssl==19.1.0=pyhd3eb1b0_1\n",
            "    - pysocks==1.7.1=py38h06a4308_0\n",
            "    - python==3.8.5=h7579374_1\n",
            "    - readline==8.0=h7b6447c_0\n",
            "    - requests==2.24.0=py_0\n",
            "    - ruamel_yaml==0.15.87=py38h7b6447c_1\n",
            "    - setuptools==50.3.1=py38h06a4308_1\n",
            "    - six==1.15.0=py38h06a4308_0\n",
            "    - sqlite==3.33.0=h62c20be_0\n",
            "    - tk==8.6.10=hbc83047_0\n",
            "    - tqdm==4.51.0=pyhd3eb1b0_0\n",
            "    - urllib3==1.25.11=py_0\n",
            "    - wheel==0.35.1=pyhd3eb1b0_0\n",
            "    - xz==5.2.5=h7b6447c_0\n",
            "    - yaml==0.2.5=h7b6447c_0\n",
            "    - zlib==1.2.11=h7b6447c_3\n",
            "\n",
            "\n",
            "The following NEW packages will be INSTALLED:\n",
            "\n",
            "  _libgcc_mutex      pkgs/main/linux-64::_libgcc_mutex-0.1-main\n",
            "  brotlipy           pkgs/main/linux-64::brotlipy-0.7.0-py38h27cfd23_1003\n",
            "  ca-certificates    pkgs/main/linux-64::ca-certificates-2020.10.14-0\n",
            "  certifi            pkgs/main/noarch::certifi-2020.6.20-pyhd3eb1b0_3\n",
            "  cffi               pkgs/main/linux-64::cffi-1.14.3-py38h261ae71_2\n",
            "  chardet            pkgs/main/linux-64::chardet-3.0.4-py38h06a4308_1003\n",
            "  conda              pkgs/main/linux-64::conda-4.9.2-py38h06a4308_0\n",
            "  conda-package-han~ pkgs/main/linux-64::conda-package-handling-1.7.2-py38h03888b9_0\n",
            "  cryptography       pkgs/main/linux-64::cryptography-3.2.1-py38h3c74f83_1\n",
            "  idna               pkgs/main/noarch::idna-2.10-py_0\n",
            "  ld_impl_linux-64   pkgs/main/linux-64::ld_impl_linux-64-2.33.1-h53a641e_7\n",
            "  libedit            pkgs/main/linux-64::libedit-3.1.20191231-h14c3975_1\n",
            "  libffi             pkgs/main/linux-64::libffi-3.3-he6710b0_2\n",
            "  libgcc-ng          pkgs/main/linux-64::libgcc-ng-9.1.0-hdf63c60_0\n",
            "  libstdcxx-ng       pkgs/main/linux-64::libstdcxx-ng-9.1.0-hdf63c60_0\n",
            "  ncurses            pkgs/main/linux-64::ncurses-6.2-he6710b0_1\n",
            "  openssl            pkgs/main/linux-64::openssl-1.1.1h-h7b6447c_0\n",
            "  pip                pkgs/main/linux-64::pip-20.2.4-py38h06a4308_0\n",
            "  pycosat            pkgs/main/linux-64::pycosat-0.6.3-py38h7b6447c_1\n",
            "  pycparser          pkgs/main/noarch::pycparser-2.20-py_2\n",
            "  pyopenssl          pkgs/main/noarch::pyopenssl-19.1.0-pyhd3eb1b0_1\n",
            "  pysocks            pkgs/main/linux-64::pysocks-1.7.1-py38h06a4308_0\n",
            "  python             pkgs/main/linux-64::python-3.8.5-h7579374_1\n",
            "  readline           pkgs/main/linux-64::readline-8.0-h7b6447c_0\n",
            "  requests           pkgs/main/noarch::requests-2.24.0-py_0\n",
            "  ruamel_yaml        pkgs/main/linux-64::ruamel_yaml-0.15.87-py38h7b6447c_1\n",
            "  setuptools         pkgs/main/linux-64::setuptools-50.3.1-py38h06a4308_1\n",
            "  six                pkgs/main/linux-64::six-1.15.0-py38h06a4308_0\n",
            "  sqlite             pkgs/main/linux-64::sqlite-3.33.0-h62c20be_0\n",
            "  tk                 pkgs/main/linux-64::tk-8.6.10-hbc83047_0\n",
            "  tqdm               pkgs/main/noarch::tqdm-4.51.0-pyhd3eb1b0_0\n",
            "  urllib3            pkgs/main/noarch::urllib3-1.25.11-py_0\n",
            "  wheel              pkgs/main/noarch::wheel-0.35.1-pyhd3eb1b0_0\n",
            "  xz                 pkgs/main/linux-64::xz-5.2.5-h7b6447c_0\n",
            "  yaml               pkgs/main/linux-64::yaml-0.2.5-h7b6447c_0\n",
            "  zlib               pkgs/main/linux-64::zlib-1.2.11-h7b6447c_3\n",
            "\n",
            "\n",
            "Preparing transaction: / \b\b- \b\b\\ \b\bdone\n",
            "Executing transaction: / \b\b- \b\b\\ \b\b| \b\b/ \b\b- \b\b\\ \b\b| \b\b/ \b\b- \b\b\\ \b\bdone\n",
            "installation finished.\n",
            "WARNING:\n",
            "    You currently have a PYTHONPATH environment variable set. This may cause\n",
            "    unexpected behavior when running the Python interpreter in Miniconda3.\n",
            "    For best results, please verify that your PYTHONPATH only points to\n",
            "    directories of packages that are compatible with the Python interpreter\n",
            "    in Miniconda3: /usr/local\n",
            "\n",
            "real\t0m28.796s\n",
            "user\t0m11.659s\n",
            "sys\t0m3.983s\n",
            "Collecting package metadata (current_repodata.json): ...working... done\n",
            "Solving environment: ...working... done\n",
            "\n",
            "## Package Plan ##\n",
            "\n",
            "  environment location: /usr/local\n",
            "\n",
            "  added / updated specs:\n",
            "    - python=3.7\n",
            "\n",
            "\n",
            "The following packages will be downloaded:\n",
            "\n",
            "    package                    |            build\n",
            "    ---------------------------|-----------------\n",
            "    brotlipy-0.7.0             |py37hb5d75c8_1001         346 KB  conda-forge\n",
            "    ca-certificates-2021.5.30  |       ha878542_0         136 KB  conda-forge\n",
            "    certifi-2021.5.30          |   py37h89c1867_0         141 KB  conda-forge\n",
            "    cffi-1.14.5                |   py37h261ae71_0         224 KB\n",
            "    chardet-3.0.4              |py37he5f6b98_1008         170 KB  conda-forge\n",
            "    conda-4.10.1               |   py37h89c1867_0         3.1 MB  conda-forge\n",
            "    conda-package-handling-1.7.3|   py37h27cfd23_1         881 KB\n",
            "    cryptography-3.4.7         |   py37h5d9358c_0         1.1 MB  conda-forge\n",
            "    openssl-1.1.1k             |       h27cfd23_0         2.5 MB\n",
            "    pip-21.1.2                 |     pyhd8ed1ab_0         1.1 MB  conda-forge\n",
            "    pycosat-0.6.3              |py37hb5d75c8_1005         107 KB  conda-forge\n",
            "    pysocks-1.7.1              |   py37h89c1867_3          27 KB  conda-forge\n",
            "    python-3.7.10              |       hdb3f193_0        45.2 MB\n",
            "    python_abi-3.7             |          1_cp37m           4 KB  conda-forge\n",
            "    ruamel_yaml-0.15.80        |py37hb5d75c8_1003         252 KB  conda-forge\n",
            "    setuptools-49.6.0          |   py37h89c1867_3         947 KB  conda-forge\n",
            "    six-1.16.0                 |     pyh6c4a22f_0          14 KB  conda-forge\n",
            "    ------------------------------------------------------------\n",
            "                                           Total:        56.1 MB\n",
            "\n",
            "The following NEW packages will be INSTALLED:\n",
            "\n",
            "  python_abi         conda-forge/linux-64::python_abi-3.7-1_cp37m\n",
            "\n",
            "The following packages will be UPDATED:\n",
            "\n",
            "  ca-certificates    pkgs/main::ca-certificates-2020.10.14~ --> conda-forge::ca-certificates-2021.5.30-ha878542_0\n",
            "  certifi            pkgs/main/noarch::certifi-2020.6.20-p~ --> conda-forge/linux-64::certifi-2021.5.30-py37h89c1867_0\n",
            "  cffi                                1.14.3-py38h261ae71_2 --> 1.14.5-py37h261ae71_0\n",
            "  chardet            pkgs/main::chardet-3.0.4-py38h06a4308~ --> conda-forge::chardet-3.0.4-py37he5f6b98_1008\n",
            "  conda               pkgs/main::conda-4.9.2-py38h06a4308_0 --> conda-forge::conda-4.10.1-py37h89c1867_0\n",
            "  conda-package-han~                   1.7.2-py38h03888b9_0 --> 1.7.3-py37h27cfd23_1\n",
            "  cryptography       pkgs/main::cryptography-3.2.1-py38h3c~ --> conda-forge::cryptography-3.4.7-py37h5d9358c_0\n",
            "  openssl                                 1.1.1h-h7b6447c_0 --> 1.1.1k-h27cfd23_0\n",
            "  pip                pkgs/main/linux-64::pip-20.2.4-py38h0~ --> conda-forge/noarch::pip-21.1.2-pyhd8ed1ab_0\n",
            "  pycosat            pkgs/main::pycosat-0.6.3-py38h7b6447c~ --> conda-forge::pycosat-0.6.3-py37hb5d75c8_1005\n",
            "  pysocks            pkgs/main::pysocks-1.7.1-py38h06a4308~ --> conda-forge::pysocks-1.7.1-py37h89c1867_3\n",
            "  six                pkgs/main/linux-64::six-1.15.0-py38h0~ --> conda-forge/noarch::six-1.16.0-pyh6c4a22f_0\n",
            "\n",
            "The following packages will be SUPERSEDED by a higher-priority channel:\n",
            "\n",
            "  brotlipy           pkgs/main::brotlipy-0.7.0-py38h27cfd2~ --> conda-forge::brotlipy-0.7.0-py37hb5d75c8_1001\n",
            "  ruamel_yaml        pkgs/main::ruamel_yaml-0.15.87-py38h7~ --> conda-forge::ruamel_yaml-0.15.80-py37hb5d75c8_1003\n",
            "  setuptools         pkgs/main::setuptools-50.3.1-py38h06a~ --> conda-forge::setuptools-49.6.0-py37h89c1867_3\n",
            "\n",
            "The following packages will be DOWNGRADED:\n",
            "\n",
            "  python                                   3.8.5-h7579374_1 --> 3.7.10-hdb3f193_0\n",
            "\n",
            "\n",
            "Preparing transaction: ...working... done\n",
            "Verifying transaction: ...working... done\n",
            "Executing transaction: ...working... done\n",
            "\n",
            "real\t0m16.144s\n",
            "user\t0m13.112s\n",
            "sys\t0m2.443s\n"
          ],
          "name": "stdout"
        }
      ]
    },
    {
      "cell_type": "code",
      "metadata": {
        "id": "gkeepS2aIB_7"
      },
      "source": [
        "# Install RDKit. Takes 2-3 minutes\n",
        "#%%capture\n",
        "!wget -c https://repo.continuum.io/miniconda/Miniconda3-latest-Linux-x86_64.sh\n",
        "!chmod +x Miniconda3-latest-Linux-x86_64.sh\n",
        "!time bash ./Miniconda3-latest-Linux-x86_64.sh -b -f -p /usr/local\n",
        "!time conda install -q -y -c conda-forge python=3.7\n",
        "#!time conda install -q -y -c conda-forge rdkit \n",
        "!time conda install -q -y -c conda-forge rdkit rdkit=2020.09.2 #works"
      ],
      "execution_count": null,
      "outputs": []
    },
    {
      "cell_type": "code",
      "metadata": {
        "id": "WSr3OHyQrlOt"
      },
      "source": [
        "import sys\n",
        "sys.path.append('/usr/local/lib/python3.7/site-packages/')"
      ],
      "execution_count": null,
      "outputs": []
    },
    {
      "cell_type": "markdown",
      "metadata": {
        "id": "vMo3E--EQs9K"
      },
      "source": [
        "# training the model\n"
      ]
    },
    {
      "cell_type": "code",
      "metadata": {
        "id": "-G2bWAFbkx-K",
        "colab": {
          "base_uri": "https://localhost:8080/"
        },
        "outputId": "b6c2ce40-d58d-4fb8-9b21-6bec6545aee1"
      },
      "source": [
        "!conda install pytorch torchvision -c pytorch\n"
      ],
      "execution_count": null,
      "outputs": [
        {
          "output_type": "stream",
          "text": [
            "Collecting package metadata (current_repodata.json): - \b\b\\ \b\b| \b\b/ \b\b- \b\b\\ \b\b| \b\b/ \b\b- \b\b\\ \b\b| \b\b/ \b\b- \b\b\\ \b\b| \b\b/ \b\bdone\n",
            "Solving environment: \\ \b\b| \b\b/ \b\b- \b\b\\ \b\b| \b\b/ \b\b- \b\b\\ \b\b| \b\b/ \b\b- \b\b\\ \b\b| \b\bdone\n",
            "\n",
            "## Package Plan ##\n",
            "\n",
            "  environment location: /usr/local\n",
            "\n",
            "  added / updated specs:\n",
            "    - pytorch\n",
            "    - torchvision\n",
            "\n",
            "\n",
            "The following packages will be downloaded:\n",
            "\n",
            "    package                    |            build\n",
            "    ---------------------------|-----------------\n",
            "    blas-1.0                   |              mkl           6 KB\n",
            "    bzip2-1.0.8                |       h7b6447c_0          78 KB\n",
            "    certifi-2021.5.30          |   py37h06a4308_0         139 KB\n",
            "    conda-4.10.1               |   py37h06a4308_1         2.9 MB\n",
            "    cudatoolkit-10.2.89        |       hfd86e86_1       365.1 MB\n",
            "    ffmpeg-4.3                 |       hf484d3e_0         9.9 MB  pytorch\n",
            "    freetype-2.10.4            |       h5ab3b9f_0         596 KB\n",
            "    gmp-6.2.1                  |       h2531618_2         539 KB\n",
            "    gnutls-3.6.15              |       he1e5248_0         1.0 MB\n",
            "    intel-openmp-2021.2.0      |     h06a4308_610         1.3 MB\n",
            "    jpeg-9b                    |       h024ee3a_2         214 KB\n",
            "    lame-3.100                 |       h7b6447c_0         323 KB\n",
            "    lcms2-2.12                 |       h3be6417_0         312 KB\n",
            "    libiconv-1.15              |       h63c8f33_5         721 KB\n",
            "    libidn2-2.3.1              |       h27cfd23_0          85 KB\n",
            "    libpng-1.6.37              |       hbc83047_0         278 KB\n",
            "    libtasn1-4.16.0            |       h27cfd23_0          58 KB\n",
            "    libtiff-4.2.0              |       h85742a9_0         502 KB\n",
            "    libunistring-0.9.10        |       h27cfd23_0         536 KB\n",
            "    libuv-1.40.0               |       h7b6447c_0         736 KB\n",
            "    libwebp-base-1.2.0         |       h27cfd23_0         437 KB\n",
            "    lz4-c-1.9.3                |       h2531618_0         186 KB\n",
            "    mkl-2021.2.0               |     h06a4308_296       144.3 MB\n",
            "    mkl-service-2.3.0          |   py37h27cfd23_1          55 KB\n",
            "    mkl_fft-1.3.0              |   py37h42c9631_2         170 KB\n",
            "    mkl_random-1.2.1           |   py37ha9443f7_2         287 KB\n",
            "    nettle-3.7.2               |       hbbd107a_1         811 KB\n",
            "    ninja-1.10.2               |       hff7bd54_1         1.4 MB\n",
            "    numpy-1.20.2               |   py37h2d18471_0          23 KB\n",
            "    numpy-base-1.20.2          |   py37hfae3a4d_0         4.5 MB\n",
            "    olefile-0.46               |           py37_0          50 KB\n",
            "    openh264-2.1.0             |       hd408876_0         722 KB\n",
            "    pillow-8.2.0               |   py37he98fc37_0         622 KB\n",
            "    pytorch-1.8.1              |py3.7_cuda10.2_cudnn7.6.5_0       673.5 MB  pytorch\n",
            "    torchvision-0.9.1          |       py37_cu102        25.7 MB  pytorch\n",
            "    typing_extensions-3.7.4.3  |     pyha847dfd_0          25 KB\n",
            "    zstd-1.4.9                 |       haebb681_0         480 KB\n",
            "    ------------------------------------------------------------\n",
            "                                           Total:        1.21 GB\n",
            "\n",
            "The following NEW packages will be INSTALLED:\n",
            "\n",
            "  blas               pkgs/main/linux-64::blas-1.0-mkl\n",
            "  bzip2              pkgs/main/linux-64::bzip2-1.0.8-h7b6447c_0\n",
            "  cudatoolkit        pkgs/main/linux-64::cudatoolkit-10.2.89-hfd86e86_1\n",
            "  ffmpeg             pytorch/linux-64::ffmpeg-4.3-hf484d3e_0\n",
            "  freetype           pkgs/main/linux-64::freetype-2.10.4-h5ab3b9f_0\n",
            "  gmp                pkgs/main/linux-64::gmp-6.2.1-h2531618_2\n",
            "  gnutls             pkgs/main/linux-64::gnutls-3.6.15-he1e5248_0\n",
            "  intel-openmp       pkgs/main/linux-64::intel-openmp-2021.2.0-h06a4308_610\n",
            "  jpeg               pkgs/main/linux-64::jpeg-9b-h024ee3a_2\n",
            "  lame               pkgs/main/linux-64::lame-3.100-h7b6447c_0\n",
            "  lcms2              pkgs/main/linux-64::lcms2-2.12-h3be6417_0\n",
            "  libiconv           pkgs/main/linux-64::libiconv-1.15-h63c8f33_5\n",
            "  libidn2            pkgs/main/linux-64::libidn2-2.3.1-h27cfd23_0\n",
            "  libpng             pkgs/main/linux-64::libpng-1.6.37-hbc83047_0\n",
            "  libtasn1           pkgs/main/linux-64::libtasn1-4.16.0-h27cfd23_0\n",
            "  libtiff            pkgs/main/linux-64::libtiff-4.2.0-h85742a9_0\n",
            "  libunistring       pkgs/main/linux-64::libunistring-0.9.10-h27cfd23_0\n",
            "  libuv              pkgs/main/linux-64::libuv-1.40.0-h7b6447c_0\n",
            "  libwebp-base       pkgs/main/linux-64::libwebp-base-1.2.0-h27cfd23_0\n",
            "  lz4-c              pkgs/main/linux-64::lz4-c-1.9.3-h2531618_0\n",
            "  mkl                pkgs/main/linux-64::mkl-2021.2.0-h06a4308_296\n",
            "  mkl-service        pkgs/main/linux-64::mkl-service-2.3.0-py37h27cfd23_1\n",
            "  mkl_fft            pkgs/main/linux-64::mkl_fft-1.3.0-py37h42c9631_2\n",
            "  mkl_random         pkgs/main/linux-64::mkl_random-1.2.1-py37ha9443f7_2\n",
            "  nettle             pkgs/main/linux-64::nettle-3.7.2-hbbd107a_1\n",
            "  ninja              pkgs/main/linux-64::ninja-1.10.2-hff7bd54_1\n",
            "  numpy              pkgs/main/linux-64::numpy-1.20.2-py37h2d18471_0\n",
            "  numpy-base         pkgs/main/linux-64::numpy-base-1.20.2-py37hfae3a4d_0\n",
            "  olefile            pkgs/main/linux-64::olefile-0.46-py37_0\n",
            "  openh264           pkgs/main/linux-64::openh264-2.1.0-hd408876_0\n",
            "  pillow             pkgs/main/linux-64::pillow-8.2.0-py37he98fc37_0\n",
            "  pytorch            pytorch/linux-64::pytorch-1.8.1-py3.7_cuda10.2_cudnn7.6.5_0\n",
            "  torchvision        pytorch/linux-64::torchvision-0.9.1-py37_cu102\n",
            "  typing_extensions  pkgs/main/noarch::typing_extensions-3.7.4.3-pyha847dfd_0\n",
            "  zstd               pkgs/main/linux-64::zstd-1.4.9-haebb681_0\n",
            "\n",
            "The following packages will be UPDATED:\n",
            "\n",
            "  conda              conda-forge::conda-4.10.1-py37h89c186~ --> pkgs/main::conda-4.10.1-py37h06a4308_1\n",
            "\n",
            "The following packages will be SUPERSEDED by a higher-priority channel:\n",
            "\n",
            "  certifi            conda-forge::certifi-2021.5.30-py37h8~ --> pkgs/main::certifi-2021.5.30-py37h06a4308_0\n",
            "\n",
            "\n",
            "Proceed ([y]/n)? y\n",
            "\n",
            "\n",
            "Downloading and Extracting Packages\n",
            "libpng-1.6.37        | 278 KB    | : 100% 1.0/1 [00:00<00:00, 13.44it/s]\n",
            "libiconv-1.15        | 721 KB    | : 100% 1.0/1 [00:00<00:00, 18.02it/s]\n",
            "libtasn1-4.16.0      | 58 KB     | : 100% 1.0/1 [00:00<00:00, 28.76it/s]\n",
            "gnutls-3.6.15        | 1.0 MB    | : 100% 1.0/1 [00:00<00:00, 18.97it/s]\n",
            "libuv-1.40.0         | 736 KB    | : 100% 1.0/1 [00:00<00:00, 16.86it/s]\n",
            "intel-openmp-2021.2. | 1.3 MB    | : 100% 1.0/1 [00:00<00:00, 14.15it/s]\n",
            "lame-3.100           | 323 KB    | : 100% 1.0/1 [00:00<00:00, 22.45it/s]\n",
            "zstd-1.4.9           | 480 KB    | : 100% 1.0/1 [00:00<00:00, 23.32it/s]\n",
            "numpy-1.20.2         | 23 KB     | : 100% 1.0/1 [00:00<00:00, 25.66it/s]\n",
            "libunistring-0.9.10  | 536 KB    | : 100% 1.0/1 [00:00<00:00, 25.18it/s]\n",
            "gmp-6.2.1            | 539 KB    | : 100% 1.0/1 [00:00<00:00, 24.85it/s]\n",
            "pillow-8.2.0         | 622 KB    | : 100% 1.0/1 [00:00<00:00, 16.50it/s]\n",
            "ninja-1.10.2         | 1.4 MB    | : 100% 1.0/1 [00:00<00:00, 15.34it/s]\n",
            "torchvision-0.9.1    | 25.7 MB   | : 100% 1.0/1 [00:03<00:00,  3.43s/it] \n",
            "mkl-service-2.3.0    | 55 KB     | : 100% 1.0/1 [00:00<00:00, 31.24it/s]\n",
            "pytorch-1.8.1        | 673.5 MB  | : 100% 1.0/1 [01:25<00:00, 86.00s/it]  \n",
            "libtiff-4.2.0        | 502 KB    | : 100% 1.0/1 [00:00<00:00,  3.37it/s]               \n",
            "mkl-2021.2.0         | 144.3 MB  | : 100% 1.0/1 [00:05<00:00,  5.17s/it]\n",
            "mkl_fft-1.3.0        | 170 KB    | : 100% 1.0/1 [00:00<00:00, 19.29it/s]\n",
            "libwebp-base-1.2.0   | 437 KB    | : 100% 1.0/1 [00:00<00:00, 19.19it/s]\n",
            "blas-1.0             | 6 KB      | : 100% 1.0/1 [00:00<00:00, 24.06it/s]\n",
            "bzip2-1.0.8          | 78 KB     | : 100% 1.0/1 [00:00<00:00, 25.91it/s]\n",
            "typing_extensions-3. | 25 KB     | : 100% 1.0/1 [00:00<00:00, 33.54it/s]\n",
            "certifi-2021.5.30    | 139 KB    | : 100% 1.0/1 [00:00<00:00, 20.11it/s]\n",
            "lz4-c-1.9.3          | 186 KB    | : 100% 1.0/1 [00:00<00:00, 20.66it/s]\n",
            "jpeg-9b              | 214 KB    | : 100% 1.0/1 [00:00<00:00, 25.04it/s]\n",
            "nettle-3.7.2         | 811 KB    | : 100% 1.0/1 [00:00<00:00, 18.00it/s]\n",
            "conda-4.10.1         | 2.9 MB    | : 100% 1.0/1 [00:00<00:00,  6.74it/s]\n",
            "lcms2-2.12           | 312 KB    | : 100% 1.0/1 [00:00<00:00, 17.81it/s]\n",
            "numpy-base-1.20.2    | 4.5 MB    | : 100% 1.0/1 [00:01<00:00,  1.73s/it]\n",
            "mkl_random-1.2.1     | 287 KB    | : 100% 1.0/1 [00:00<00:00, 21.47it/s]\n",
            "openh264-2.1.0       | 722 KB    | : 100% 1.0/1 [00:00<00:00, 17.52it/s]\n",
            "olefile-0.46         | 50 KB     | : 100% 1.0/1 [00:00<00:00, 25.67it/s]\n",
            "ffmpeg-4.3           | 9.9 MB    | : 100% 1.0/1 [00:01<00:00,  1.43s/it]\n",
            "freetype-2.10.4      | 596 KB    | : 100% 1.0/1 [00:00<00:00, 18.82it/s]\n",
            "libidn2-2.3.1        | 85 KB     | : 100% 1.0/1 [00:00<00:00, 26.09it/s]\n",
            "cudatoolkit-10.2.89  | 365.1 MB  | : 100% 1.0/1 [00:41<00:00, 41.61s/it]               \n",
            "Preparing transaction: - \b\b\\ \b\b| \b\b/ \b\b- \b\b\\ \b\b| \b\b/ \b\b- \b\b\\ \b\b| \b\b/ \b\b- \b\b\\ \b\b| \b\b/ \b\b- \b\b\\ \b\b| \b\b/ \b\b- \b\b\\ \b\b| \b\b/ \b\bdone\n",
            "Verifying transaction: \\ \b\b| \b\b/ \b\b- \b\b\\ \b\b| \b\b/ \b\b- \b\b\\ \b\b| \b\b/ \b\b- \b\b\\ \b\b| \b\b/ \b\b- \b\b\\ \b\b| \b\b/ \b\b- \b\b\\ \b\b| \b\b/ \b\b- \b\b\\ \b\b| \b\b/ \b\b- \b\b\\ \b\b| \b\b/ \b\b- \b\b\\ \b\bdone\n",
            "Executing transaction: / \b\b- \b\b\\ \b\b| \b\b/ \b\b- \b\b\\ \b\b| \b\b/ \b\b- \b\b\\ \b\b| \b\b/ \b\b- \b\b\\ \b\b| \b\b/ \b\b- \b\b\\ \b\b| \b\b/ \b\b- \b\b\\ \b\b| \b\b/ \b\b- \b\b\\ \b\b| \b\b/ \b\b- \b\b\\ \b\b| \b\b/ \b\b- \b\b\\ \b\b| \b\b/ \b\b- \b\b\\ \b\b| \b\b/ \b\b- \b\b\\ \b\b| \b\b/ \b\b- \b\b\\ \b\b| \b\b/ \b\b- \b\b\\ \b\b| \b\b/ \b\b- \b\b\\ \b\b| \b\b/ \b\b- \b\b\\ \b\b| \b\b/ \b\b- \b\b\\ \b\b| \b\b/ \b\b- \b\b\\ \b\b| \b\b/ \b\b- \b\b\\ \b\b| \b\b/ \b\b- \b\b\\ \b\b| \b\b/ \b\b- \b\b\\ \b\b| \b\b/ \b\b- \b\b\\ \b\b| \b\b/ \b\b- \b\b\\ \b\b| \b\b/ \b\b- \b\b\\ \b\b| \b\b/ \b\b- \b\b\\ \b\b| \b\b/ \b\b- \b\b\\ \b\b| \b\b/ \b\b- \b\b\\ \b\b| \b\b/ \b\b- \b\b\\ \b\b| \b\b/ \b\b- \b\b\\ \b\b| \b\b/ \b\b- \b\b\\ \b\b| \b\b/ \b\b- \b\b\\ \b\b| \b\b/ \b\b- \b\b\\ \b\b| \b\b/ \b\b- \b\b\\ \b\b| \b\b/ \b\b- \b\b\\ \b\b| \b\b/ \b\b- \b\b\\ \b\b| \b\b/ \b\b- \b\b\\ \b\b| \b\b/ \b\b- \b\b\\ \b\b| \b\b/ \b\b- \b\b\\ \b\b| \b\b/ \b\b- \b\b\\ \b\b| \b\b/ \b\b- \b\b\\ \b\b| \b\b/ \b\b- \b\b\\ \b\b| \b\b/ \b\b- \b\b\\ \b\b| \b\b/ \b\b- \b\b\\ \b\b| \b\b/ \b\bdone\n"
          ],
          "name": "stdout"
        }
      ]
    },
    {
      "cell_type": "code",
      "metadata": {
        "id": "RrVK-YUFJnsL"
      },
      "source": [
        "#!conda install pytorch torchvision -c pytorch"
      ],
      "execution_count": null,
      "outputs": []
    },
    {
      "cell_type": "code",
      "metadata": {
        "id": "6vQbohzZR82x",
        "colab": {
          "base_uri": "https://localhost:8080/"
        },
        "outputId": "20e9b86f-1e77-442d-d1c6-3843c7203ef9"
      },
      "source": [
        "from google.colab import drive\n",
        "drive.mount(\"/content/gdrive/\")"
      ],
      "execution_count": null,
      "outputs": [
        {
          "output_type": "stream",
          "text": [
            "Mounted at /content/gdrive/\n"
          ],
          "name": "stdout"
        }
      ]
    },
    {
      "cell_type": "code",
      "metadata": {
        "id": "LqM56wuKrdn5"
      },
      "source": [
        " !python pretrain_trfm_target_zero.py"
      ],
      "execution_count": null,
      "outputs": []
    },
    {
      "cell_type": "markdown",
      "metadata": {
        "id": "fKB6MQTDayD_"
      },
      "source": [
        ""
      ]
    },
    {
      "cell_type": "markdown",
      "metadata": {
        "id": "KAjXqCE7t7wZ"
      },
      "source": [
        "# methods/model\n"
      ]
    },
    {
      "cell_type": "code",
      "metadata": {
        "id": "1V4mgv0Wr66i"
      },
      "source": [
        "import numpy as np\n",
        "import pandas as pd\n",
        "import matplotlib.pyplot as plt\n",
        "from sklearn import datasets\n",
        "from sklearn.manifold import TSNE\n",
        "from sklearn.neighbors import NearestNeighbors\n",
        "from rdkit import Chem\n",
        "from rdkit.Chem import AllChem, Draw\n",
        "from rdkit.Chem.Draw import DrawingOptions\n",
        "from torch.nn import functional as F\n"
      ],
      "execution_count": null,
      "outputs": []
    },
    {
      "cell_type": "code",
      "metadata": {
        "id": "srHVE6Grrtsp"
      },
      "source": [
        "def plot_mols(mols, unit=200, w=120, h=200, fontsize=1.0):\n",
        "    drawer = Draw.MolDraw2DSVG(4*unit, 3*unit, w, h)\n",
        "\n",
        "    # optをとり出しておく\n",
        "    opt = drawer.drawOptions()\n",
        "    opt.padding = 0.1\n",
        "    opt.legendFontSize = 20\n",
        "    #opt.atomfontSize = 20\n",
        "\n",
        "    xs = np.array([0,1,2,3,0,1,2,3,0,1,2,3])*unit\n",
        "    ys = np.array([0,0,0,0,1,1,1,1,2,2,2,2])*unit\n",
        "    for i, (mol, x, y) in enumerate(zip(mols,xs,ys)):\n",
        "        # SetOffsetで左上の座標を指定できる\n",
        "        drawer.SetOffset(int(x), int(y))\n",
        "        drawer.SetFontSize(fontsize)\n",
        "\n",
        "        AllChem.Compute2DCoords(mol)\n",
        "        Chem.Kekulize(mol)\n",
        "        # 分子をSVGに書く\n",
        "        drawer.DrawMolecule(mol, legend=str(i))\n",
        "\n",
        "\n",
        "    # </svg> 書く\n",
        "    drawer.FinishDrawing()\n",
        "    return drawer"
      ],
      "execution_count": null,
      "outputs": []
    },
    {
      "cell_type": "code",
      "metadata": {
        "id": "vXnmmN4Jr8fi"
      },
      "source": [
        "def get_inputs(sm):\n",
        "    #\n",
        "    seq_len = 220\n",
        "    sm = sm.split()\n",
        "    if len(sm)>218:\n",
        "        print('SMILES is too long ({:d})'.format(len(sm)))\n",
        "        sm = sm[:109]+sm[-109:]\n",
        "    ids = [vocab.stoi.get(token, unk_index) for token in sm]\n",
        "    ids = [sos_index] + ids + [eos_index]\n",
        "    seg = [1]*len(ids)\n",
        "    padding = [pad_index]*(seq_len - len(ids))\n",
        "    ids.extend(padding), seg.extend(padding)\n",
        "    return ids, seg\n",
        "\n",
        "def get_array(smiles):\n",
        "    x_id, x_seg = [], []\n",
        "    for sm in smiles:\n",
        "        a,b = get_inputs(sm)\n",
        "        x_id.append(a)\n",
        "        x_seg.append(b)\n",
        "    return torch.tensor(x_id), torch.tensor(x_seg)"
      ],
      "execution_count": null,
      "outputs": []
    },
    {
      "cell_type": "code",
      "metadata": {
        "id": "HJNg-O6KAPoL"
      },
      "source": [
        ""
      ],
      "execution_count": null,
      "outputs": []
    },
    {
      "cell_type": "code",
      "metadata": {
        "id": "YVTnruWOr_hT",
        "colab": {
          "base_uri": "https://localhost:8080/"
        },
        "outputId": "952b83dc-6499-4a91-ebb9-938e230cbad5"
      },
      "source": [
        "import torch\n",
        "from pretrain_trfm_target_zero import TrfmSeq2seq\n",
        "from build_vocab import WordVocab\n",
        "from utils import split\n",
        "from utils import validity\n",
        "\n",
        "pad_index = 0\n",
        "unk_index = 1\n",
        "eos_index = 2\n",
        "sos_index = 3\n",
        "mask_index = 4\n",
        "\n",
        "vocab = WordVocab.load_vocab('vocab.pkl')\n",
        "\n",
        "# trfm_c= TrfmSeq2seq(len(vocab), 256, len(vocab), 4).cuda()\n",
        "# trfm_c.load_state_dict(torch.load('trfm_new_12_80000.pkl'))\n",
        "# trfm_c.eval()\n",
        "\n",
        "trfm = TrfmSeq2seq(len(vocab), 256, len(vocab), 4)\n",
        "trfm.load_state_dict(torch.load('trfm_notgt_12_90000.pkl'))\n",
        "trfm.eval()\n",
        "print('Total parameters:', sum(p.numel() for p in trfm.parameters()))"
      ],
      "execution_count": null,
      "outputs": [
        {
          "output_type": "stream",
          "text": [
            "Total parameters: 4244013\n"
          ],
          "name": "stdout"
        }
      ]
    },
    {
      "cell_type": "code",
      "metadata": {
        "id": "NyFbL_SIOBcS"
      },
      "source": [
        ""
      ],
      "execution_count": null,
      "outputs": []
    },
    {
      "cell_type": "code",
      "metadata": {
        "id": "nG7MwYwUGbmm"
      },
      "source": [
        "smiles_dict = vocab.stoi"
      ],
      "execution_count": null,
      "outputs": []
    },
    {
      "cell_type": "code",
      "metadata": {
        "id": "od6L28LGIN7e"
      },
      "source": [
        "smiles_dict\n"
      ],
      "execution_count": null,
      "outputs": []
    },
    {
      "cell_type": "markdown",
      "metadata": {
        "id": "ZjGFxS67t_bp"
      },
      "source": [
        "# data\n"
      ]
    },
    {
      "cell_type": "code",
      "metadata": {
        "id": "fn9Aip-ergwb",
        "colab": {
          "base_uri": "https://localhost:8080/",
          "height": 212
        },
        "outputId": "ed9d6aa1-a66c-4c7f-e42c-9e7d0899c4b0"
      },
      "source": [
        "#read in BBBp data\n",
        "df = pd.read_csv('BBBP.csv')\n",
        "print(df.shape)\n",
        "df.head()"
      ],
      "execution_count": null,
      "outputs": [
        {
          "output_type": "stream",
          "text": [
            "(2050, 4)\n"
          ],
          "name": "stdout"
        },
        {
          "output_type": "execute_result",
          "data": {
            "text/html": [
              "<div>\n",
              "<style scoped>\n",
              "    .dataframe tbody tr th:only-of-type {\n",
              "        vertical-align: middle;\n",
              "    }\n",
              "\n",
              "    .dataframe tbody tr th {\n",
              "        vertical-align: top;\n",
              "    }\n",
              "\n",
              "    .dataframe thead th {\n",
              "        text-align: right;\n",
              "    }\n",
              "</style>\n",
              "<table border=\"1\" class=\"dataframe\">\n",
              "  <thead>\n",
              "    <tr style=\"text-align: right;\">\n",
              "      <th></th>\n",
              "      <th>num</th>\n",
              "      <th>name</th>\n",
              "      <th>p_np</th>\n",
              "      <th>smiles</th>\n",
              "    </tr>\n",
              "  </thead>\n",
              "  <tbody>\n",
              "    <tr>\n",
              "      <th>0</th>\n",
              "      <td>1</td>\n",
              "      <td>Propanolol</td>\n",
              "      <td>1</td>\n",
              "      <td>[Cl].CC(C)NCC(O)COc1cccc2ccccc12</td>\n",
              "    </tr>\n",
              "    <tr>\n",
              "      <th>1</th>\n",
              "      <td>2</td>\n",
              "      <td>Terbutylchlorambucil</td>\n",
              "      <td>1</td>\n",
              "      <td>C(=O)(OC(C)(C)C)CCCc1ccc(cc1)N(CCCl)CCCl</td>\n",
              "    </tr>\n",
              "    <tr>\n",
              "      <th>2</th>\n",
              "      <td>3</td>\n",
              "      <td>40730</td>\n",
              "      <td>1</td>\n",
              "      <td>c12c3c(N4CCN(C)CC4)c(F)cc1c(c(C(O)=O)cn2C(C)CO...</td>\n",
              "    </tr>\n",
              "    <tr>\n",
              "      <th>3</th>\n",
              "      <td>4</td>\n",
              "      <td>24</td>\n",
              "      <td>1</td>\n",
              "      <td>C1CCN(CC1)Cc1cccc(c1)OCCCNC(=O)C</td>\n",
              "    </tr>\n",
              "    <tr>\n",
              "      <th>4</th>\n",
              "      <td>5</td>\n",
              "      <td>cloxacillin</td>\n",
              "      <td>1</td>\n",
              "      <td>Cc1onc(c2ccccc2Cl)c1C(=O)N[C@H]3[C@H]4SC(C)(C)...</td>\n",
              "    </tr>\n",
              "  </tbody>\n",
              "</table>\n",
              "</div>"
            ],
            "text/plain": [
              "   num  ...                                             smiles\n",
              "0    1  ...                   [Cl].CC(C)NCC(O)COc1cccc2ccccc12\n",
              "1    2  ...           C(=O)(OC(C)(C)C)CCCc1ccc(cc1)N(CCCl)CCCl\n",
              "2    3  ...  c12c3c(N4CCN(C)CC4)c(F)cc1c(c(C(O)=O)cn2C(C)CO...\n",
              "3    4  ...                   C1CCN(CC1)Cc1cccc(c1)OCCCNC(=O)C\n",
              "4    5  ...  Cc1onc(c2ccccc2Cl)c1C(=O)N[C@H]3[C@H]4SC(C)(C)...\n",
              "\n",
              "[5 rows x 4 columns]"
            ]
          },
          "metadata": {
            "tags": []
          },
          "execution_count": 65
        }
      ]
    },
    {
      "cell_type": "code",
      "metadata": {
        "id": "kyyMq57WygTq",
        "colab": {
          "base_uri": "https://localhost:8080/"
        },
        "outputId": "1ee494ac-158c-4069-8bed-4daaafc41006"
      },
      "source": [
        "#sample of chembl25 data\n",
        "df2 = pd.read_csv('smiles_sample2.csv')\n"
      ],
      "execution_count": null,
      "outputs": [
        {
          "output_type": "stream",
          "text": [
            "(1052, 1)\n"
          ],
          "name": "stdout"
        }
      ]
    },
    {
      "cell_type": "code",
      "metadata": {
        "id": "D9WpcsEThxSR",
        "colab": {
          "base_uri": "https://localhost:8080/",
          "height": 194
        },
        "outputId": "c6f3b493-e4d2-4112-a557-ecf9988058f9"
      },
      "source": [
        "df.head()"
      ],
      "execution_count": null,
      "outputs": [
        {
          "output_type": "execute_result",
          "data": {
            "text/html": [
              "<div>\n",
              "<style scoped>\n",
              "    .dataframe tbody tr th:only-of-type {\n",
              "        vertical-align: middle;\n",
              "    }\n",
              "\n",
              "    .dataframe tbody tr th {\n",
              "        vertical-align: top;\n",
              "    }\n",
              "\n",
              "    .dataframe thead th {\n",
              "        text-align: right;\n",
              "    }\n",
              "</style>\n",
              "<table border=\"1\" class=\"dataframe\">\n",
              "  <thead>\n",
              "    <tr style=\"text-align: right;\">\n",
              "      <th></th>\n",
              "      <th>num</th>\n",
              "      <th>name</th>\n",
              "      <th>p_np</th>\n",
              "      <th>smiles</th>\n",
              "    </tr>\n",
              "  </thead>\n",
              "  <tbody>\n",
              "    <tr>\n",
              "      <th>0</th>\n",
              "      <td>1</td>\n",
              "      <td>Propanolol</td>\n",
              "      <td>1</td>\n",
              "      <td>[Cl].CC(C)NCC(O)COc1cccc2ccccc12</td>\n",
              "    </tr>\n",
              "    <tr>\n",
              "      <th>1</th>\n",
              "      <td>2</td>\n",
              "      <td>Terbutylchlorambucil</td>\n",
              "      <td>1</td>\n",
              "      <td>C(=O)(OC(C)(C)C)CCCc1ccc(cc1)N(CCCl)CCCl</td>\n",
              "    </tr>\n",
              "    <tr>\n",
              "      <th>2</th>\n",
              "      <td>3</td>\n",
              "      <td>40730</td>\n",
              "      <td>1</td>\n",
              "      <td>c12c3c(N4CCN(C)CC4)c(F)cc1c(c(C(O)=O)cn2C(C)CO...</td>\n",
              "    </tr>\n",
              "    <tr>\n",
              "      <th>3</th>\n",
              "      <td>4</td>\n",
              "      <td>24</td>\n",
              "      <td>1</td>\n",
              "      <td>C1CCN(CC1)Cc1cccc(c1)OCCCNC(=O)C</td>\n",
              "    </tr>\n",
              "    <tr>\n",
              "      <th>4</th>\n",
              "      <td>5</td>\n",
              "      <td>cloxacillin</td>\n",
              "      <td>1</td>\n",
              "      <td>Cc1onc(c2ccccc2Cl)c1C(=O)N[C@H]3[C@H]4SC(C)(C)...</td>\n",
              "    </tr>\n",
              "  </tbody>\n",
              "</table>\n",
              "</div>"
            ],
            "text/plain": [
              "   num  ...                                             smiles\n",
              "0    1  ...                   [Cl].CC(C)NCC(O)COc1cccc2ccccc12\n",
              "1    2  ...           C(=O)(OC(C)(C)C)CCCc1ccc(cc1)N(CCCl)CCCl\n",
              "2    3  ...  c12c3c(N4CCN(C)CC4)c(F)cc1c(c(C(O)=O)cn2C(C)CO...\n",
              "3    4  ...                   C1CCN(CC1)Cc1cccc(c1)OCCCNC(=O)C\n",
              "4    5  ...  Cc1onc(c2ccccc2Cl)c1C(=O)N[C@H]3[C@H]4SC(C)(C)...\n",
              "\n",
              "[5 rows x 4 columns]"
            ]
          },
          "metadata": {
            "tags": []
          },
          "execution_count": 67
        }
      ]
    },
    {
      "cell_type": "code",
      "metadata": {
        "id": "1-gyX2UHZZkt"
      },
      "source": [
        ""
      ],
      "execution_count": null,
      "outputs": []
    },
    {
      "cell_type": "code",
      "metadata": {
        "id": "4ZgUpC-_IpzD"
      },
      "source": [
        "x_split = [split(sm) for sm in df2['canonical_smiles'].values]\n",
        "xid, xseg = get_array(x_split)"
      ],
      "execution_count": null,
      "outputs": []
    },
    {
      "cell_type": "code",
      "metadata": {
        "id": "PyRhP_RkxBW9"
      },
      "source": [
        ""
      ],
      "execution_count": null,
      "outputs": []
    },
    {
      "cell_type": "code",
      "metadata": {
        "id": "zljIJZHjsEOw",
        "colab": {
          "base_uri": "https://localhost:8080/"
        },
        "outputId": "ba205ee4-df35-45ce-c96b-80fcff4e7874"
      },
      "source": [
        "xid.shape"
      ],
      "execution_count": null,
      "outputs": [
        {
          "output_type": "execute_result",
          "data": {
            "text/plain": [
              "torch.Size([1052, 220])"
            ]
          },
          "metadata": {
            "tags": []
          },
          "execution_count": 11
        }
      ]
    },
    {
      "cell_type": "code",
      "metadata": {
        "id": "dbTPfS6nb8c1"
      },
      "source": [
        ""
      ],
      "execution_count": null,
      "outputs": []
    },
    {
      "cell_type": "code",
      "metadata": {
        "id": "ilxch4Z1qPS_"
      },
      "source": [
        "smile_lengths = {}\n",
        "#for i in range(df2.shape[0]):\n",
        "for k in range(df2.shape[0]):\n",
        "  sl1 = len(df2['canonical_smiles'][k])\n",
        "  sl2 = len(df2['canonical_smiles'][0])\n",
        "  if (sl1 == sl2):\n",
        "    if sl1 in smile_lengths.keys():\n",
        "        smile_lengths[sl1].append((k))\n",
        "    else:\n",
        "        smile_lengths[sl1] = [(k)]"
      ],
      "execution_count": null,
      "outputs": []
    },
    {
      "cell_type": "code",
      "metadata": {
        "id": "NYiCzeE5gV1S",
        "colab": {
          "base_uri": "https://localhost:8080/",
          "height": 487
        },
        "outputId": "a1554a00-d4f9-49be-a3af-9bc24c46acdc"
      },
      "source": [
        "index = smile_lengths[27]\n",
        "same_length_smiles = df2.loc[index]\n",
        "same_length_smiles"
      ],
      "execution_count": null,
      "outputs": [
        {
          "output_type": "execute_result",
          "data": {
            "text/html": [
              "<div>\n",
              "<style scoped>\n",
              "    .dataframe tbody tr th:only-of-type {\n",
              "        vertical-align: middle;\n",
              "    }\n",
              "\n",
              "    .dataframe tbody tr th {\n",
              "        vertical-align: top;\n",
              "    }\n",
              "\n",
              "    .dataframe thead th {\n",
              "        text-align: right;\n",
              "    }\n",
              "</style>\n",
              "<table border=\"1\" class=\"dataframe\">\n",
              "  <thead>\n",
              "    <tr style=\"text-align: right;\">\n",
              "      <th></th>\n",
              "      <th>canonical_smiles</th>\n",
              "    </tr>\n",
              "  </thead>\n",
              "  <tbody>\n",
              "    <tr>\n",
              "      <th>0</th>\n",
              "      <td>Cc1cc(cn1C)c2csc(N=C(N)N)n2</td>\n",
              "    </tr>\n",
              "    <tr>\n",
              "      <th>72</th>\n",
              "      <td>NC(=O)c1ccccc1n2cnc3ccccc23</td>\n",
              "    </tr>\n",
              "    <tr>\n",
              "      <th>241</th>\n",
              "      <td>COc1ccc2c(O)cc(OC)c(O)c2c1O</td>\n",
              "    </tr>\n",
              "    <tr>\n",
              "      <th>292</th>\n",
              "      <td>Nc1ccc2nc(oc2c1)c3ccc(F)cc3</td>\n",
              "    </tr>\n",
              "    <tr>\n",
              "      <th>302</th>\n",
              "      <td>CCOc1cc2c(cn1)[nH]c3ccccc23</td>\n",
              "    </tr>\n",
              "    <tr>\n",
              "      <th>304</th>\n",
              "      <td>O=C(c1ccccc1)c2nccc3ccccc23</td>\n",
              "    </tr>\n",
              "    <tr>\n",
              "      <th>312</th>\n",
              "      <td>CC(C)(C)C(N)C(=O)N1CCCC1C#N</td>\n",
              "    </tr>\n",
              "    <tr>\n",
              "      <th>445</th>\n",
              "      <td>[O-][S+]1N(Sc2ccccc12)C3CC3</td>\n",
              "    </tr>\n",
              "    <tr>\n",
              "      <th>547</th>\n",
              "      <td>COCC(C)(CS(=O)(=O)O)N(Cl)Cl</td>\n",
              "    </tr>\n",
              "    <tr>\n",
              "      <th>597</th>\n",
              "      <td>CC(C)(C)C(=O)Cn1c[n+](N)cn1</td>\n",
              "    </tr>\n",
              "    <tr>\n",
              "      <th>756</th>\n",
              "      <td>CCC1N(CC2=NCCN2)CCc3ccccc13</td>\n",
              "    </tr>\n",
              "    <tr>\n",
              "      <th>777</th>\n",
              "      <td>Brc1ccc2ncnc(Nc3ccccc3)c2c1</td>\n",
              "    </tr>\n",
              "    <tr>\n",
              "      <th>855</th>\n",
              "      <td>OC(=O)c1ccccc1c2cc3ccccc3s2</td>\n",
              "    </tr>\n",
              "    <tr>\n",
              "      <th>963</th>\n",
              "      <td>O=C(Nc1ccccc1)c2cnn3ccccc23</td>\n",
              "    </tr>\n",
              "    <tr>\n",
              "      <th>1013</th>\n",
              "      <td>Nn1c(S)nnc1COc2ccc(Cl)cc2Cl</td>\n",
              "    </tr>\n",
              "  </tbody>\n",
              "</table>\n",
              "</div>"
            ],
            "text/plain": [
              "                 canonical_smiles\n",
              "0     Cc1cc(cn1C)c2csc(N=C(N)N)n2\n",
              "72    NC(=O)c1ccccc1n2cnc3ccccc23\n",
              "241   COc1ccc2c(O)cc(OC)c(O)c2c1O\n",
              "292   Nc1ccc2nc(oc2c1)c3ccc(F)cc3\n",
              "302   CCOc1cc2c(cn1)[nH]c3ccccc23\n",
              "304   O=C(c1ccccc1)c2nccc3ccccc23\n",
              "312   CC(C)(C)C(N)C(=O)N1CCCC1C#N\n",
              "445   [O-][S+]1N(Sc2ccccc12)C3CC3\n",
              "547   COCC(C)(CS(=O)(=O)O)N(Cl)Cl\n",
              "597   CC(C)(C)C(=O)Cn1c[n+](N)cn1\n",
              "756   CCC1N(CC2=NCCN2)CCc3ccccc13\n",
              "777   Brc1ccc2ncnc(Nc3ccccc3)c2c1\n",
              "855   OC(=O)c1ccccc1c2cc3ccccc3s2\n",
              "963   O=C(Nc1ccccc1)c2cnn3ccccc23\n",
              "1013  Nn1c(S)nnc1COc2ccc(Cl)cc2Cl"
            ]
          },
          "metadata": {
            "tags": []
          },
          "execution_count": 14
        }
      ]
    },
    {
      "cell_type": "code",
      "metadata": {
        "id": "UQyX-YmmI0Dq"
      },
      "source": [
        ""
      ],
      "execution_count": null,
      "outputs": []
    },
    {
      "cell_type": "code",
      "metadata": {
        "id": "Bk3hfKRJI0Dq"
      },
      "source": [
        "x_split = [split(sm) for sm in same_length_smiles['canonical_smiles'].values]\n",
        "xid, xseg = get_array(x_split)"
      ],
      "execution_count": null,
      "outputs": []
    },
    {
      "cell_type": "markdown",
      "metadata": {
        "id": "Ck_t5QnaX5VQ"
      },
      "source": [
        "# encode\n"
      ]
    },
    {
      "cell_type": "code",
      "metadata": {
        "id": "I2NhXu5jAP91"
      },
      "source": [
        "from dataset import Seq2seqDataset\n",
        "from torch.utils.data import DataLoader\n",
        "from tqdm import tqdm\n"
      ],
      "execution_count": null,
      "outputs": []
    },
    {
      "cell_type": "code",
      "metadata": {
        "id": "DaAjdAcqqoT9",
        "colab": {
          "base_uri": "https://localhost:8080/"
        },
        "outputId": "0a91c7f2-f0de-4314-a197-bdd3db55783e"
      },
      "source": [
        "#encode function\n",
        "X = trfm.encode(torch.t(xid))\n",
        "print(X.shape)"
      ],
      "execution_count": null,
      "outputs": [
        {
          "output_type": "stream",
          "text": [
            "(220, 15, 256)\n"
          ],
          "name": "stdout"
        }
      ]
    },
    {
      "cell_type": "code",
      "metadata": {
        "id": "ziw7ASMHabSH"
      },
      "source": [
        ""
      ],
      "execution_count": null,
      "outputs": []
    },
    {
      "cell_type": "code",
      "metadata": {
        "id": "oDvwxWzdEhMk"
      },
      "source": [
        "# #trfm.encoder\n",
        "# dataset = Seq2seqDataset(df2['canonical_smiles'].values, vocab)\n",
        "# data_loader = DataLoader(dataset, batch_size=4, shuffle=True, num_workers=16)\n",
        "# output_total = torch.empty(size=(xid.shape[1], xid.shape[0], 256))\n",
        "# print(output_total.size)\n",
        "# for b, sm in tqdm(enumerate(data_loader)):\n",
        "#   # sm = torch.t(sm.cuda()) # (T,B)\n",
        "#   # output1 = trfm_c(sm) # (T,,V)\n",
        "#   embedded = trfm.embed(torch.t(sm.cuda()))  # (T,B,H)\n",
        "#   embedded = trfm.pe(embedded) # (T,B,H)\n",
        "#   output_total[:,b:b+4,:] = trfm.encoder(embedded)\n",
        "# #output = output.detach().numpy()"
      ],
      "execution_count": null,
      "outputs": []
    },
    {
      "cell_type": "code",
      "metadata": {
        "id": "INR53E5n8DaD"
      },
      "source": [
        ""
      ],
      "execution_count": null,
      "outputs": []
    },
    {
      "cell_type": "markdown",
      "metadata": {
        "id": "3m7v6Nir6GBv"
      },
      "source": [
        "# New Section"
      ]
    },
    {
      "cell_type": "markdown",
      "metadata": {
        "id": "FwOt7J0yNy_a"
      },
      "source": [
        "# mask\n"
      ]
    },
    {
      "cell_type": "code",
      "metadata": {
        "id": "THZ81EY8N42a"
      },
      "source": [
        "def subsequent_mask(size):\n",
        "    \"Mask out subsequent positions.\"\n",
        "    attn_shape = (1, size, size)\n",
        "    subsequent_mask = np.triu(np.ones(attn_shape), k=1).astype('uint8')\n",
        "    return torch.from_numpy(subsequent_mask) == 0\n",
        "\n",
        "def make_std_mask(tgt, pad):\n",
        "    \"Create a mask to hide padding and future words.\"\n",
        "    tgt_mask = (tgt != pad).unsqueeze(-2)\n",
        "    tgt_mask = tgt_mask & Variable(\n",
        "        subsequent_mask(tgt.size(-1)).type_as(tgt_mask.data))\n",
        "    return tgt_mask\n",
        "\n",
        "def generate_square_subsequent_mask(sz):\n",
        "    mask = (torch.triu(torch.ones(sz, sz)) == 1).transpose(0, 1)\n",
        "    mask = mask.float().masked_fill(mask == 0, float('-inf')).masked_fill(mask == 1, float(0.0))\n",
        "    return mask\n"
      ],
      "execution_count": null,
      "outputs": []
    },
    {
      "cell_type": "markdown",
      "metadata": {
        "id": "-uBAQUxmX_p4"
      },
      "source": [
        "# decode"
      ]
    },
    {
      "cell_type": "markdown",
      "metadata": {
        "id": "0gjAJ2-igzM8"
      },
      "source": [
        "tgt = xid //source\n"
      ]
    },
    {
      "cell_type": "code",
      "metadata": {
        "id": "JmuBNPYSz6Kp"
      },
      "source": [
        "mask1 = generate_square_subsequent_mask(torch.t(xid).shape[0])"
      ],
      "execution_count": null,
      "outputs": []
    },
    {
      "cell_type": "code",
      "metadata": {
        "id": "vLgnIKxwTnj_",
        "colab": {
          "base_uri": "https://localhost:8080/"
        },
        "outputId": "4980ab93-834d-4075-d169-e4b51598cb1f"
      },
      "source": [
        "mask1.shape"
      ],
      "execution_count": null,
      "outputs": [
        {
          "output_type": "execute_result",
          "data": {
            "text/plain": [
              "torch.Size([220, 220])"
            ]
          },
          "metadata": {
            "tags": []
          },
          "execution_count": 18
        }
      ]
    },
    {
      "cell_type": "code",
      "metadata": {
        "id": "-LiS07LFtKdm"
      },
      "source": [
        "# #trfm.decoder\n",
        "# decoded = trfm.decoder(output, output, mask1)\n",
        "# out = trfm.out(decoded) # (T,B,V)\n",
        "# out = F.log_softmax(out, dim=2)\n",
        "# out = out.detach().numpy()"
      ],
      "execution_count": null,
      "outputs": []
    },
    {
      "cell_type": "code",
      "metadata": {
        "id": "1oT4QEsG1DY8"
      },
      "source": [
        "#decode function\n",
        "hidden = torch.from_numpy(X).float()\n",
        "decoded_output = trfm.decode(hidden)"
      ],
      "execution_count": null,
      "outputs": []
    },
    {
      "cell_type": "code",
      "metadata": {
        "id": "Fqn2eSyMtwRZ",
        "colab": {
          "base_uri": "https://localhost:8080/"
        },
        "outputId": "4b67db5d-aaa2-4ba6-87f0-be030d45b246"
      },
      "source": [
        "decoded.shape"
      ],
      "execution_count": null,
      "outputs": [
        {
          "output_type": "execute_result",
          "data": {
            "text/plain": [
              "(220, 15, 45)"
            ]
          },
          "metadata": {
            "tags": []
          },
          "execution_count": 179
        }
      ]
    },
    {
      "cell_type": "markdown",
      "metadata": {
        "id": "uhC_oIb1lz85"
      },
      "source": [
        "# get smiles from decoded output\n"
      ]
    },
    {
      "cell_type": "code",
      "metadata": {
        "id": "brubkm4ZJASv"
      },
      "source": [
        "#make compressed into sm\n",
        "def get_smiles(decoded):\n",
        "  _, next_word = torch.max(torch.from_numpy(decoded), dim = 2)\n",
        "  decoded_smiles = torch.t(next_word).detach().numpy()\n",
        "  #y =torch.t(xid).detach().numpy()\n",
        "  #value -> smiles\n",
        "  smiles_molecules = np.empty([decoded_smiles.shape[0],decoded_smiles.shape[1]], dtype=object)\n",
        "  for i in range(decoded_smiles.shape[0]):   \n",
        "    smiless = [list(smiles_dict.keys())[list(smiles_dict.values()).index(elem)] for elem in decoded_smiles[i]]\n",
        "    smiles_molecules[i] = smiless\n",
        "  #put all characters into one continuous string\n",
        "  smiles_formatted = np.empty(decoded_smiles.shape[0], dtype=object)\n",
        "  for i in range(smiles_molecules.shape[0]):\n",
        "    smile = smiles_molecules[i]\n",
        "    end = np.where(smile == '<eos>')[0][0]\n",
        "    smiles_formatted[i] = \"\".join(smile[1:end])\n",
        "  return smiles_formatted\n"
      ],
      "execution_count": null,
      "outputs": []
    },
    {
      "cell_type": "code",
      "metadata": {
        "id": "jNIm57wY_PcG"
      },
      "source": [
        ""
      ],
      "execution_count": null,
      "outputs": []
    },
    {
      "cell_type": "markdown",
      "metadata": {
        "id": "XO1Ch91__QJN"
      },
      "source": [
        "chembl25 data"
      ]
    },
    {
      "cell_type": "code",
      "metadata": {
        "id": "-seTZTjzLh0T"
      },
      "source": [
        "molecules = get_smiles(decoded_output)"
      ],
      "execution_count": null,
      "outputs": []
    },
    {
      "cell_type": "code",
      "metadata": {
        "id": "2Qk-6NzspTAy",
        "colab": {
          "base_uri": "https://localhost:8080/",
          "height": 487
        },
        "outputId": "1d45ba8f-cdbf-4e13-ab08-d38dc182421f"
      },
      "source": [
        "same_length_smiles"
      ],
      "execution_count": null,
      "outputs": [
        {
          "output_type": "execute_result",
          "data": {
            "text/html": [
              "<div>\n",
              "<style scoped>\n",
              "    .dataframe tbody tr th:only-of-type {\n",
              "        vertical-align: middle;\n",
              "    }\n",
              "\n",
              "    .dataframe tbody tr th {\n",
              "        vertical-align: top;\n",
              "    }\n",
              "\n",
              "    .dataframe thead th {\n",
              "        text-align: right;\n",
              "    }\n",
              "</style>\n",
              "<table border=\"1\" class=\"dataframe\">\n",
              "  <thead>\n",
              "    <tr style=\"text-align: right;\">\n",
              "      <th></th>\n",
              "      <th>canonical_smiles</th>\n",
              "    </tr>\n",
              "  </thead>\n",
              "  <tbody>\n",
              "    <tr>\n",
              "      <th>0</th>\n",
              "      <td>Cc1cc(cn1C)c2csc(N=C(N)N)n2</td>\n",
              "    </tr>\n",
              "    <tr>\n",
              "      <th>72</th>\n",
              "      <td>NC(=O)c1ccccc1n2cnc3ccccc23</td>\n",
              "    </tr>\n",
              "    <tr>\n",
              "      <th>241</th>\n",
              "      <td>COc1ccc2c(O)cc(OC)c(O)c2c1O</td>\n",
              "    </tr>\n",
              "    <tr>\n",
              "      <th>292</th>\n",
              "      <td>Nc1ccc2nc(oc2c1)c3ccc(F)cc3</td>\n",
              "    </tr>\n",
              "    <tr>\n",
              "      <th>302</th>\n",
              "      <td>CCOc1cc2c(cn1)[nH]c3ccccc23</td>\n",
              "    </tr>\n",
              "    <tr>\n",
              "      <th>304</th>\n",
              "      <td>O=C(c1ccccc1)c2nccc3ccccc23</td>\n",
              "    </tr>\n",
              "    <tr>\n",
              "      <th>312</th>\n",
              "      <td>CC(C)(C)C(N)C(=O)N1CCCC1C#N</td>\n",
              "    </tr>\n",
              "    <tr>\n",
              "      <th>445</th>\n",
              "      <td>[O-][S+]1N(Sc2ccccc12)C3CC3</td>\n",
              "    </tr>\n",
              "    <tr>\n",
              "      <th>547</th>\n",
              "      <td>COCC(C)(CS(=O)(=O)O)N(Cl)Cl</td>\n",
              "    </tr>\n",
              "    <tr>\n",
              "      <th>597</th>\n",
              "      <td>CC(C)(C)C(=O)Cn1c[n+](N)cn1</td>\n",
              "    </tr>\n",
              "    <tr>\n",
              "      <th>756</th>\n",
              "      <td>CCC1N(CC2=NCCN2)CCc3ccccc13</td>\n",
              "    </tr>\n",
              "    <tr>\n",
              "      <th>777</th>\n",
              "      <td>Brc1ccc2ncnc(Nc3ccccc3)c2c1</td>\n",
              "    </tr>\n",
              "    <tr>\n",
              "      <th>855</th>\n",
              "      <td>OC(=O)c1ccccc1c2cc3ccccc3s2</td>\n",
              "    </tr>\n",
              "    <tr>\n",
              "      <th>963</th>\n",
              "      <td>O=C(Nc1ccccc1)c2cnn3ccccc23</td>\n",
              "    </tr>\n",
              "    <tr>\n",
              "      <th>1013</th>\n",
              "      <td>Nn1c(S)nnc1COc2ccc(Cl)cc2Cl</td>\n",
              "    </tr>\n",
              "  </tbody>\n",
              "</table>\n",
              "</div>"
            ],
            "text/plain": [
              "                 canonical_smiles\n",
              "0     Cc1cc(cn1C)c2csc(N=C(N)N)n2\n",
              "72    NC(=O)c1ccccc1n2cnc3ccccc23\n",
              "241   COc1ccc2c(O)cc(OC)c(O)c2c1O\n",
              "292   Nc1ccc2nc(oc2c1)c3ccc(F)cc3\n",
              "302   CCOc1cc2c(cn1)[nH]c3ccccc23\n",
              "304   O=C(c1ccccc1)c2nccc3ccccc23\n",
              "312   CC(C)(C)C(N)C(=O)N1CCCC1C#N\n",
              "445   [O-][S+]1N(Sc2ccccc12)C3CC3\n",
              "547   COCC(C)(CS(=O)(=O)O)N(Cl)Cl\n",
              "597   CC(C)(C)C(=O)Cn1c[n+](N)cn1\n",
              "756   CCC1N(CC2=NCCN2)CCc3ccccc13\n",
              "777   Brc1ccc2ncnc(Nc3ccccc3)c2c1\n",
              "855   OC(=O)c1ccccc1c2cc3ccccc3s2\n",
              "963   O=C(Nc1ccccc1)c2cnn3ccccc23\n",
              "1013  Nn1c(S)nnc1COc2ccc(Cl)cc2Cl"
            ]
          },
          "metadata": {
            "tags": []
          },
          "execution_count": 31
        }
      ]
    },
    {
      "cell_type": "code",
      "metadata": {
        "id": "mfYF2Or4GWMN",
        "colab": {
          "base_uri": "https://localhost:8080/",
          "height": 487
        },
        "outputId": "ea03319c-f2db-412b-e6d3-063bb84def13"
      },
      "source": [
        "same_length_smiles2"
      ],
      "execution_count": null,
      "outputs": [
        {
          "output_type": "execute_result",
          "data": {
            "text/html": [
              "<div>\n",
              "<style scoped>\n",
              "    .dataframe tbody tr th:only-of-type {\n",
              "        vertical-align: middle;\n",
              "    }\n",
              "\n",
              "    .dataframe tbody tr th {\n",
              "        vertical-align: top;\n",
              "    }\n",
              "\n",
              "    .dataframe thead th {\n",
              "        text-align: right;\n",
              "    }\n",
              "</style>\n",
              "<table border=\"1\" class=\"dataframe\">\n",
              "  <thead>\n",
              "    <tr style=\"text-align: right;\">\n",
              "      <th></th>\n",
              "      <th>num</th>\n",
              "      <th>name</th>\n",
              "      <th>p_np</th>\n",
              "      <th>smiles</th>\n",
              "    </tr>\n",
              "  </thead>\n",
              "  <tbody>\n",
              "    <tr>\n",
              "      <th>0</th>\n",
              "      <td>1</td>\n",
              "      <td>Propanolol</td>\n",
              "      <td>1</td>\n",
              "      <td>[Cl].CC(C)NCC(O)COc1cccc2ccccc12</td>\n",
              "    </tr>\n",
              "    <tr>\n",
              "      <th>72</th>\n",
              "      <td>74</td>\n",
              "      <td>2</td>\n",
              "      <td>1</td>\n",
              "      <td>Cc1csc(n1)N=C(N)N</td>\n",
              "    </tr>\n",
              "    <tr>\n",
              "      <th>241</th>\n",
              "      <td>243</td>\n",
              "      <td>trifluperidol</td>\n",
              "      <td>1</td>\n",
              "      <td>OC1(CCN(CCCC(=O)c2ccc(F)cc2)CC1)c3cccc(c3)C(F)...</td>\n",
              "    </tr>\n",
              "    <tr>\n",
              "      <th>292</th>\n",
              "      <td>294</td>\n",
              "      <td>Mifepristone</td>\n",
              "      <td>0</td>\n",
              "      <td>CC#C[C@]1(O)CC[C@H]2[C@@H]3CCC4=CC(=O)CCC4=C3[...</td>\n",
              "    </tr>\n",
              "    <tr>\n",
              "      <th>302</th>\n",
              "      <td>304</td>\n",
              "      <td>mepiramine</td>\n",
              "      <td>0</td>\n",
              "      <td>COc1ccc(CN(CCN(C)C)c2ccccn2)cc1</td>\n",
              "    </tr>\n",
              "    <tr>\n",
              "      <th>304</th>\n",
              "      <td>306</td>\n",
              "      <td>mestranol</td>\n",
              "      <td>0</td>\n",
              "      <td>COc1ccc2[C@H]3CC[C@@]4(C)[C@@H](CC[C@@]4(O)C#C...</td>\n",
              "    </tr>\n",
              "    <tr>\n",
              "      <th>312</th>\n",
              "      <td>314</td>\n",
              "      <td>Mianserin</td>\n",
              "      <td>1</td>\n",
              "      <td>CN1CCN2C(C1)c3ccccc3Cc4ccccc24</td>\n",
              "    </tr>\n",
              "    <tr>\n",
              "      <th>445</th>\n",
              "      <td>447</td>\n",
              "      <td>zidovudine</td>\n",
              "      <td>0</td>\n",
              "      <td>CC1=CN([C@H]2C[C@H](N=[N+]=[N-])[C@@H](CO)O2)C...</td>\n",
              "    </tr>\n",
              "    <tr>\n",
              "      <th>547</th>\n",
              "      <td>549</td>\n",
              "      <td>isoxicam</td>\n",
              "      <td>0</td>\n",
              "      <td>CN1C(=C(\\O)Nc2cc(C)on2)/C(=O)c3ccccc3[S]1(=O)=O</td>\n",
              "    </tr>\n",
              "    <tr>\n",
              "      <th>597</th>\n",
              "      <td>599</td>\n",
              "      <td>salbutamol</td>\n",
              "      <td>0</td>\n",
              "      <td>CC(C)(C)NCC(O)c1ccc(O)c(CO)c1</td>\n",
              "    </tr>\n",
              "    <tr>\n",
              "      <th>756</th>\n",
              "      <td>758</td>\n",
              "      <td>cefalexin</td>\n",
              "      <td>0</td>\n",
              "      <td>CC1=C(N2[C@H](SC1)[C@H](NC(=O)[C@H](N)c3ccccc3...</td>\n",
              "    </tr>\n",
              "    <tr>\n",
              "      <th>777</th>\n",
              "      <td>779</td>\n",
              "      <td>cefonicid</td>\n",
              "      <td>0</td>\n",
              "      <td>OC(C(=O)N[C@H]1[C@H]2SCC(=C(N2C1=O)C(O)=O)CSc3...</td>\n",
              "    </tr>\n",
              "    <tr>\n",
              "      <th>855</th>\n",
              "      <td>857</td>\n",
              "      <td>lenampicillin</td>\n",
              "      <td>0</td>\n",
              "      <td>CC1=C(COC(=O)[C@@H]2N3[C@H](SC2(C)C)[C@H](NC(=...</td>\n",
              "    </tr>\n",
              "    <tr>\n",
              "      <th>963</th>\n",
              "      <td>965</td>\n",
              "      <td>acrocinonide</td>\n",
              "      <td>1</td>\n",
              "      <td>[C@]12(OC(O[C@@H]1CC3C2(CC(O)C4(F)C3CCC5=CC(=O...</td>\n",
              "    </tr>\n",
              "    <tr>\n",
              "      <th>1013</th>\n",
              "      <td>1015</td>\n",
              "      <td>azabon</td>\n",
              "      <td>1</td>\n",
              "      <td>C1=CC(=CC=C1[S](N2CC3CCC(C2)CC3)(=O)=O)N</td>\n",
              "    </tr>\n",
              "  </tbody>\n",
              "</table>\n",
              "</div>"
            ],
            "text/plain": [
              "       num  ...                                             smiles\n",
              "0        1  ...                   [Cl].CC(C)NCC(O)COc1cccc2ccccc12\n",
              "72      74  ...                                  Cc1csc(n1)N=C(N)N\n",
              "241    243  ...  OC1(CCN(CCCC(=O)c2ccc(F)cc2)CC1)c3cccc(c3)C(F)...\n",
              "292    294  ...  CC#C[C@]1(O)CC[C@H]2[C@@H]3CCC4=CC(=O)CCC4=C3[...\n",
              "302    304  ...                    COc1ccc(CN(CCN(C)C)c2ccccn2)cc1\n",
              "304    306  ...  COc1ccc2[C@H]3CC[C@@]4(C)[C@@H](CC[C@@]4(O)C#C...\n",
              "312    314  ...                     CN1CCN2C(C1)c3ccccc3Cc4ccccc24\n",
              "445    447  ...  CC1=CN([C@H]2C[C@H](N=[N+]=[N-])[C@@H](CO)O2)C...\n",
              "547    549  ...    CN1C(=C(\\O)Nc2cc(C)on2)/C(=O)c3ccccc3[S]1(=O)=O\n",
              "597    599  ...                      CC(C)(C)NCC(O)c1ccc(O)c(CO)c1\n",
              "756    758  ...  CC1=C(N2[C@H](SC1)[C@H](NC(=O)[C@H](N)c3ccccc3...\n",
              "777    779  ...  OC(C(=O)N[C@H]1[C@H]2SCC(=C(N2C1=O)C(O)=O)CSc3...\n",
              "855    857  ...  CC1=C(COC(=O)[C@@H]2N3[C@H](SC2(C)C)[C@H](NC(=...\n",
              "963    965  ...  [C@]12(OC(O[C@@H]1CC3C2(CC(O)C4(F)C3CCC5=CC(=O...\n",
              "1013  1015  ...           C1=CC(=CC=C1[S](N2CC3CCC(C2)CC3)(=O)=O)N\n",
              "\n",
              "[15 rows x 4 columns]"
            ]
          },
          "metadata": {
            "tags": []
          },
          "execution_count": 69
        }
      ]
    },
    {
      "cell_type": "code",
      "metadata": {
        "id": "Rezq41vqJUPB"
      },
      "source": [
        "index = smile_lengths[27]\n",
        "same_length_smiles2 = df.loc[index]\n",
        "x_split2 = [split(sm) for sm in same_length_smiles2['smiles'].values]\n",
        "xid2, xseg2 = get_array(x_split2)\n",
        "#encode function\n",
        "X2 = trfm.encode(torch.t(xid2))\n",
        "#decode function\n",
        "hidden2 = torch.from_numpy(X2).float()\n",
        "decoded_output2 = trfm.decode(hidden2)\n",
        "molecules2 = get_smiles(decoded_output2)"
      ],
      "execution_count": null,
      "outputs": []
    },
    {
      "cell_type": "code",
      "metadata": {
        "id": "u0s7mSjAceSk",
        "colab": {
          "base_uri": "https://localhost:8080/",
          "height": 487
        },
        "outputId": "09ab23f6-de89-49e1-a49c-336a96dad671"
      },
      "source": [
        "decoded_final = pd.DataFrame(molecules)\n",
        "decoded_final.columns = ['smiles']\n",
        "decoded_final"
      ],
      "execution_count": null,
      "outputs": [
        {
          "output_type": "execute_result",
          "data": {
            "text/html": [
              "<div>\n",
              "<style scoped>\n",
              "    .dataframe tbody tr th:only-of-type {\n",
              "        vertical-align: middle;\n",
              "    }\n",
              "\n",
              "    .dataframe tbody tr th {\n",
              "        vertical-align: top;\n",
              "    }\n",
              "\n",
              "    .dataframe thead th {\n",
              "        text-align: right;\n",
              "    }\n",
              "</style>\n",
              "<table border=\"1\" class=\"dataframe\">\n",
              "  <thead>\n",
              "    <tr style=\"text-align: right;\">\n",
              "      <th></th>\n",
              "      <th>smiles</th>\n",
              "    </tr>\n",
              "  </thead>\n",
              "  <tbody>\n",
              "    <tr>\n",
              "      <th>0</th>\n",
              "      <td>Cc1cc(cn1C]c2csc(N=C(N]N]n2</td>\n",
              "    </tr>\n",
              "    <tr>\n",
              "      <th>1</th>\n",
              "      <td>NC(=O]c1ccccc1n2cnc3ccccc23</td>\n",
              "    </tr>\n",
              "    <tr>\n",
              "      <th>2</th>\n",
              "      <td>COc1ccc2c(O]cc(OC]c(O]c2c1O</td>\n",
              "    </tr>\n",
              "    <tr>\n",
              "      <th>3</th>\n",
              "      <td>Nc1ccc2nc(oc2c1]c3ccc(F]cc3</td>\n",
              "    </tr>\n",
              "    <tr>\n",
              "      <th>4</th>\n",
              "      <td>CCOc1cc2c(cn1][nH]c3ccccc23</td>\n",
              "    </tr>\n",
              "    <tr>\n",
              "      <th>5</th>\n",
              "      <td>O=C(c1ccccc1]c2nccc3ccccc23</td>\n",
              "    </tr>\n",
              "    <tr>\n",
              "      <th>6</th>\n",
              "      <td>CC(C](C]C(N]C(=O]N1CCCC1CsN</td>\n",
              "    </tr>\n",
              "    <tr>\n",
              "      <th>7</th>\n",
              "      <td>[O-][S+]1N(Sc2ccccc12]C3CC3</td>\n",
              "    </tr>\n",
              "    <tr>\n",
              "      <th>8</th>\n",
              "      <td>COCC(C](CS(=O](=O]O]N(Cl]Cl</td>\n",
              "    </tr>\n",
              "    <tr>\n",
              "      <th>9</th>\n",
              "      <td>CC(C](C]C(=O]Cn1c[n+](N]cn1</td>\n",
              "    </tr>\n",
              "    <tr>\n",
              "      <th>10</th>\n",
              "      <td>CCC1N(CC2=NCCN2]CCc3ccccc13</td>\n",
              "    </tr>\n",
              "    <tr>\n",
              "      <th>11</th>\n",
              "      <td>Brc1ccc2ncnc(Nc3ccccc3)c2c1</td>\n",
              "    </tr>\n",
              "    <tr>\n",
              "      <th>12</th>\n",
              "      <td>OC(=O]c1ccccc1c2cc3ccccc3s2</td>\n",
              "    </tr>\n",
              "    <tr>\n",
              "      <th>13</th>\n",
              "      <td>O=C(Nc1ccccc1]c2cnn3ccccc23</td>\n",
              "    </tr>\n",
              "    <tr>\n",
              "      <th>14</th>\n",
              "      <td>Nn1c(S]nnc1COc2ccc(Cl]cc2Cl</td>\n",
              "    </tr>\n",
              "  </tbody>\n",
              "</table>\n",
              "</div>"
            ],
            "text/plain": [
              "                         smiles\n",
              "0   Cc1cc(cn1C]c2csc(N=C(N]N]n2\n",
              "1   NC(=O]c1ccccc1n2cnc3ccccc23\n",
              "2   COc1ccc2c(O]cc(OC]c(O]c2c1O\n",
              "3   Nc1ccc2nc(oc2c1]c3ccc(F]cc3\n",
              "4   CCOc1cc2c(cn1][nH]c3ccccc23\n",
              "5   O=C(c1ccccc1]c2nccc3ccccc23\n",
              "6   CC(C](C]C(N]C(=O]N1CCCC1CsN\n",
              "7   [O-][S+]1N(Sc2ccccc12]C3CC3\n",
              "8   COCC(C](CS(=O](=O]O]N(Cl]Cl\n",
              "9   CC(C](C]C(=O]Cn1c[n+](N]cn1\n",
              "10  CCC1N(CC2=NCCN2]CCc3ccccc13\n",
              "11  Brc1ccc2ncnc(Nc3ccccc3)c2c1\n",
              "12  OC(=O]c1ccccc1c2cc3ccccc3s2\n",
              "13  O=C(Nc1ccccc1]c2cnn3ccccc23\n",
              "14  Nn1c(S]nnc1COc2ccc(Cl]cc2Cl"
            ]
          },
          "metadata": {
            "tags": []
          },
          "execution_count": 23
        }
      ]
    },
    {
      "cell_type": "code",
      "metadata": {
        "colab": {
          "base_uri": "https://localhost:8080/",
          "height": 487
        },
        "id": "LJXtcHPg8_8N",
        "outputId": "efd910a4-bc0b-4296-e543-7eeaffbf5757"
      },
      "source": [
        "pd.DataFrame(molecules2)"
      ],
      "execution_count": null,
      "outputs": [
        {
          "output_type": "execute_result",
          "data": {
            "text/html": [
              "<div>\n",
              "<style scoped>\n",
              "    .dataframe tbody tr th:only-of-type {\n",
              "        vertical-align: middle;\n",
              "    }\n",
              "\n",
              "    .dataframe tbody tr th {\n",
              "        vertical-align: top;\n",
              "    }\n",
              "\n",
              "    .dataframe thead th {\n",
              "        text-align: right;\n",
              "    }\n",
              "</style>\n",
              "<table border=\"1\" class=\"dataframe\">\n",
              "  <thead>\n",
              "    <tr style=\"text-align: right;\">\n",
              "      <th></th>\n",
              "      <th>0</th>\n",
              "    </tr>\n",
              "  </thead>\n",
              "  <tbody>\n",
              "    <tr>\n",
              "      <th>0</th>\n",
              "      <td>[Cl].CC(C]NCC(O]COc1cccc2ccccc12</td>\n",
              "    </tr>\n",
              "    <tr>\n",
              "      <th>1</th>\n",
              "      <td>Cc1csc(n1]N=C(N]N</td>\n",
              "    </tr>\n",
              "    <tr>\n",
              "      <th>2</th>\n",
              "      <td>OC1(CCN(CCCC(=O]c2ccc(F]cc2]CC1]c3cccc(c3]C(F]...</td>\n",
              "    </tr>\n",
              "    <tr>\n",
              "      <th>3</th>\n",
              "      <td>CCsC[C@]1(O]CC[C@H]2[C@@H]3CCC4=CC(=O]CCC4=C3[...</td>\n",
              "    </tr>\n",
              "    <tr>\n",
              "      <th>4</th>\n",
              "      <td>COc1ccc(CN(CCN(C]C]c2ccccn2]cc1</td>\n",
              "    </tr>\n",
              "    <tr>\n",
              "      <th>5</th>\n",
              "      <td>COc1ccc2[C@H]3CC[C@@]4(C][C@@H](CC[C@@]4(O]CsC...</td>\n",
              "    </tr>\n",
              "    <tr>\n",
              "      <th>6</th>\n",
              "      <td>CN1CCN2C(C1]c3ccccc3Cc4ccccc24</td>\n",
              "    </tr>\n",
              "    <tr>\n",
              "      <th>7</th>\n",
              "      <td>CC1=CN([C@H]2C[C@H](N=[N+]=[N-]][C@@H](CO]O2]C...</td>\n",
              "    </tr>\n",
              "    <tr>\n",
              "      <th>8</th>\n",
              "      <td>CN1C(=C(\\O]Nc2cc(C]on2]/C(=O]c3ccccc3[S]1(=O]=O</td>\n",
              "    </tr>\n",
              "    <tr>\n",
              "      <th>9</th>\n",
              "      <td>CC(C](C]NCC(O]c1ccc(O]c(CO]c1</td>\n",
              "    </tr>\n",
              "    <tr>\n",
              "      <th>10</th>\n",
              "      <td>CC1=C(N2[C@H](SC1][C@H](NC(=O][C@H](N]c3ccccc3...</td>\n",
              "    </tr>\n",
              "    <tr>\n",
              "      <th>11</th>\n",
              "      <td>OC(C(=O]N[C@H]1[C@H]2SCC(=C(N2C1=O]C(O]=O]CSc3...</td>\n",
              "    </tr>\n",
              "    <tr>\n",
              "      <th>12</th>\n",
              "      <td>CC1=C(COC(=O][C@@H]2N3[C@H](SC2(C]C][C@H](NC(=...</td>\n",
              "    </tr>\n",
              "    <tr>\n",
              "      <th>13</th>\n",
              "      <td>[C@]12(OC(O[C@@H]1CC3C2(CC(O]C4(F]C3CCC5=CC(=O...</td>\n",
              "    </tr>\n",
              "    <tr>\n",
              "      <th>14</th>\n",
              "      <td>C1=CC(=CC=C1[S](N2CC3CCC(C2]CC3](=O]=O]N</td>\n",
              "    </tr>\n",
              "  </tbody>\n",
              "</table>\n",
              "</div>"
            ],
            "text/plain": [
              "                                                    0\n",
              "0                    [Cl].CC(C]NCC(O]COc1cccc2ccccc12\n",
              "1                                   Cc1csc(n1]N=C(N]N\n",
              "2   OC1(CCN(CCCC(=O]c2ccc(F]cc2]CC1]c3cccc(c3]C(F]...\n",
              "3   CCsC[C@]1(O]CC[C@H]2[C@@H]3CCC4=CC(=O]CCC4=C3[...\n",
              "4                     COc1ccc(CN(CCN(C]C]c2ccccn2]cc1\n",
              "5   COc1ccc2[C@H]3CC[C@@]4(C][C@@H](CC[C@@]4(O]CsC...\n",
              "6                      CN1CCN2C(C1]c3ccccc3Cc4ccccc24\n",
              "7   CC1=CN([C@H]2C[C@H](N=[N+]=[N-]][C@@H](CO]O2]C...\n",
              "8     CN1C(=C(\\O]Nc2cc(C]on2]/C(=O]c3ccccc3[S]1(=O]=O\n",
              "9                       CC(C](C]NCC(O]c1ccc(O]c(CO]c1\n",
              "10  CC1=C(N2[C@H](SC1][C@H](NC(=O][C@H](N]c3ccccc3...\n",
              "11  OC(C(=O]N[C@H]1[C@H]2SCC(=C(N2C1=O]C(O]=O]CSc3...\n",
              "12  CC1=C(COC(=O][C@@H]2N3[C@H](SC2(C]C][C@H](NC(=...\n",
              "13  [C@]12(OC(O[C@@H]1CC3C2(CC(O]C4(F]C3CCC5=CC(=O...\n",
              "14           C1=CC(=CC=C1[S](N2CC3CCC(C2]CC3](=O]=O]N"
            ]
          },
          "metadata": {
            "tags": []
          },
          "execution_count": 70
        }
      ]
    },
    {
      "cell_type": "code",
      "metadata": {
        "id": "Gkm8e7IK2biw"
      },
      "source": [
        ""
      ],
      "execution_count": null,
      "outputs": []
    },
    {
      "cell_type": "markdown",
      "metadata": {
        "id": "9VkR3YDm6Hdz"
      },
      "source": [
        "# New Section"
      ]
    },
    {
      "cell_type": "code",
      "metadata": {
        "id": "HTY3MNtbwkM8"
      },
      "source": [
        "def linear_interpolation(mol_from, mol_to, steps):\n",
        "    n = steps + 1\n",
        "    diff = mol_to - mol_from\n",
        "    inter = mol_from + (1 / steps) * diff\n",
        "    inter = np.reshape(inter, (220,1,256))\n",
        "    for i in range(2,n):\n",
        "      add = mol_from + (i / steps) * diff\n",
        "      add = np.reshape(add, (220,1,256))\n",
        "      inter = np.hstack((add, inter))\n",
        "    return inter"
      ],
      "execution_count": null,
      "outputs": []
    },
    {
      "cell_type": "code",
      "metadata": {
        "id": "piTAroPTtNtU"
      },
      "source": [
        "def decoded_interpolations(mol_from, mol_to, steps):\n",
        "  molecule_morph = linear_interpolation(mol_from, mol_to, steps)\n",
        "  decoded_interpolation = trfm.decode(torch.from_numpy(molecule_morph).float())\n",
        "  interpolation_smiles = get_smiles(decoded_interpolation)\n",
        "  interpolations = pd.DataFrame(interpolation_smiles)\n",
        "  interpolations.columns = ['canonical_smiles']\n",
        "  return interpolations"
      ],
      "execution_count": null,
      "outputs": []
    },
    {
      "cell_type": "code",
      "metadata": {
        "id": "e9q1h_Af6IWQ"
      },
      "source": [
        "mol1 = X[:,2,:]\n",
        "mol2 = X[:,4,:]\n",
        "interpolations1 = decoded_interpolations(mol1, mol2, 15)\n",
        "interpolations2 = decoded_interpolations(X[:,5,:], X[:,4,:], 15)\n",
        "interpolations3 = decoded_interpolations(X[:,10,:], X[:,3,:], 15)\n",
        "interpolations4 = decoded_interpolations(X[:,7,:], X[:,4,:], 15)\n",
        "interpolations5 = decoded_interpolations(X[:,6,:], X[:,13,:], 15)"
      ],
      "execution_count": null,
      "outputs": []
    },
    {
      "cell_type": "code",
      "metadata": {
        "id": "1gXvCDYbeE_5",
        "colab": {
          "base_uri": "https://localhost:8080/",
          "height": 487
        },
        "outputId": "0ef36424-fc4a-4ad4-82da-fc42f4e23cd7"
      },
      "source": [
        "interpolations1"
      ],
      "execution_count": null,
      "outputs": [
        {
          "output_type": "execute_result",
          "data": {
            "text/html": [
              "<div>\n",
              "<style scoped>\n",
              "    .dataframe tbody tr th:only-of-type {\n",
              "        vertical-align: middle;\n",
              "    }\n",
              "\n",
              "    .dataframe tbody tr th {\n",
              "        vertical-align: top;\n",
              "    }\n",
              "\n",
              "    .dataframe thead th {\n",
              "        text-align: right;\n",
              "    }\n",
              "</style>\n",
              "<table border=\"1\" class=\"dataframe\">\n",
              "  <thead>\n",
              "    <tr style=\"text-align: right;\">\n",
              "      <th></th>\n",
              "      <th>canonical_smiles</th>\n",
              "    </tr>\n",
              "  </thead>\n",
              "  <tbody>\n",
              "    <tr>\n",
              "      <th>0</th>\n",
              "      <td>CCOc1cc2c(cn1][nH]c3ccccc23</td>\n",
              "    </tr>\n",
              "    <tr>\n",
              "      <th>1</th>\n",
              "      <td>CCOc1cc2c(cn1][nH]c3ccccc23</td>\n",
              "    </tr>\n",
              "    <tr>\n",
              "      <th>2</th>\n",
              "      <td>CCOc1cc2c(cn1][nH]c3ccccc23</td>\n",
              "    </tr>\n",
              "    <tr>\n",
              "      <th>3</th>\n",
              "      <td>CCOc1cc2c(cn1][nH]c3ccccc23</td>\n",
              "    </tr>\n",
              "    <tr>\n",
              "      <th>4</th>\n",
              "      <td>CCOc1cc2c(cn1][nH]c3ccccc23</td>\n",
              "    </tr>\n",
              "    <tr>\n",
              "      <th>5</th>\n",
              "      <td>COOc1cc2c(On1][O]]c3Occcc23</td>\n",
              "    </tr>\n",
              "    <tr>\n",
              "      <th>6</th>\n",
              "      <td>COOcscc2c(O]s][O]]c3Occcc]O</td>\n",
              "    </tr>\n",
              "    <tr>\n",
              "      <th>7</th>\n",
              "      <td>COOcscc2c(O]s][O]]c(Occcc]O</td>\n",
              "    </tr>\n",
              "    <tr>\n",
              "      <th>8</th>\n",
              "      <td>COOsscc2c(O]sc(O]]c(Occ]c]O</td>\n",
              "    </tr>\n",
              "    <tr>\n",
              "      <th>9</th>\n",
              "      <td>COO1ccc2c(O]cc(O]]c(O]c]c]O</td>\n",
              "    </tr>\n",
              "    <tr>\n",
              "      <th>10</th>\n",
              "      <td>COc1ccc2c(O]cc(O]]c(O]c]c1O</td>\n",
              "    </tr>\n",
              "    <tr>\n",
              "      <th>11</th>\n",
              "      <td>COc1ccc2c(O]cc(O]]c(O]c2c1O</td>\n",
              "    </tr>\n",
              "    <tr>\n",
              "      <th>12</th>\n",
              "      <td>COc1ccc2c(O]cc(OC]c(O]c2c1O</td>\n",
              "    </tr>\n",
              "    <tr>\n",
              "      <th>13</th>\n",
              "      <td>COc1ccc2c(O]cc(OC]c(O]c2c1O</td>\n",
              "    </tr>\n",
              "    <tr>\n",
              "      <th>14</th>\n",
              "      <td>COc1ccc2c(O]cc(OC]c(O]c2c1O</td>\n",
              "    </tr>\n",
              "  </tbody>\n",
              "</table>\n",
              "</div>"
            ],
            "text/plain": [
              "               canonical_smiles\n",
              "0   CCOc1cc2c(cn1][nH]c3ccccc23\n",
              "1   CCOc1cc2c(cn1][nH]c3ccccc23\n",
              "2   CCOc1cc2c(cn1][nH]c3ccccc23\n",
              "3   CCOc1cc2c(cn1][nH]c3ccccc23\n",
              "4   CCOc1cc2c(cn1][nH]c3ccccc23\n",
              "5   COOc1cc2c(On1][O]]c3Occcc23\n",
              "6   COOcscc2c(O]s][O]]c3Occcc]O\n",
              "7   COOcscc2c(O]s][O]]c(Occcc]O\n",
              "8   COOsscc2c(O]sc(O]]c(Occ]c]O\n",
              "9   COO1ccc2c(O]cc(O]]c(O]c]c]O\n",
              "10  COc1ccc2c(O]cc(O]]c(O]c]c1O\n",
              "11  COc1ccc2c(O]cc(O]]c(O]c2c1O\n",
              "12  COc1ccc2c(O]cc(OC]c(O]c2c1O\n",
              "13  COc1ccc2c(O]cc(OC]c(O]c2c1O\n",
              "14  COc1ccc2c(O]cc(OC]c(O]c2c1O"
            ]
          },
          "metadata": {
            "tags": []
          },
          "execution_count": 49
        }
      ]
    },
    {
      "cell_type": "code",
      "metadata": {
        "colab": {
          "base_uri": "https://localhost:8080/",
          "height": 487
        },
        "id": "dvQMnJCgP6vR",
        "outputId": "35838f44-c1c9-49ef-dc4c-3bf566285e6a"
      },
      "source": [
        "interpolations2"
      ],
      "execution_count": null,
      "outputs": [
        {
          "output_type": "execute_result",
          "data": {
            "text/html": [
              "<div>\n",
              "<style scoped>\n",
              "    .dataframe tbody tr th:only-of-type {\n",
              "        vertical-align: middle;\n",
              "    }\n",
              "\n",
              "    .dataframe tbody tr th {\n",
              "        vertical-align: top;\n",
              "    }\n",
              "\n",
              "    .dataframe thead th {\n",
              "        text-align: right;\n",
              "    }\n",
              "</style>\n",
              "<table border=\"1\" class=\"dataframe\">\n",
              "  <thead>\n",
              "    <tr style=\"text-align: right;\">\n",
              "      <th></th>\n",
              "      <th>canonical_smiles</th>\n",
              "    </tr>\n",
              "  </thead>\n",
              "  <tbody>\n",
              "    <tr>\n",
              "      <th>0</th>\n",
              "      <td>CCOc1cc2c(cn1][nH]c3ccccc23</td>\n",
              "    </tr>\n",
              "    <tr>\n",
              "      <th>1</th>\n",
              "      <td>CCOc1cc2c(cn1][nH]c3ccccc23</td>\n",
              "    </tr>\n",
              "    <tr>\n",
              "      <th>2</th>\n",
              "      <td>CCOc1cc2c(cn1][nH]c3ccccc23</td>\n",
              "    </tr>\n",
              "    <tr>\n",
              "      <th>3</th>\n",
              "      <td>CCOc1cc2c(cn1][nH]c3ccccc23</td>\n",
              "    </tr>\n",
              "    <tr>\n",
              "      <th>4</th>\n",
              "      <td>CCOc1cc2c(cs1][nH]c3ccccc23</td>\n",
              "    </tr>\n",
              "    <tr>\n",
              "      <th>5</th>\n",
              "      <td>O]Oc1cc]c(cs1][nH]c3ccccc23</td>\n",
              "    </tr>\n",
              "    <tr>\n",
              "      <th>6</th>\n",
              "      <td>OFO(1cc]c(cssc[n]]c3ccccc23</td>\n",
              "    </tr>\n",
              "    <tr>\n",
              "      <th>7</th>\n",
              "      <td>OFO(ccc]c(cssc[n]]c3ccccc23</td>\n",
              "    </tr>\n",
              "    <tr>\n",
              "      <th>8</th>\n",
              "      <td>O=O(ccc]c(cs]c[n]]c3ccccc23</td>\n",
              "    </tr>\n",
              "    <tr>\n",
              "      <th>9</th>\n",
              "      <td>O=O(c1ccc(c1]c[nc]c3ccccc23</td>\n",
              "    </tr>\n",
              "    <tr>\n",
              "      <th>10</th>\n",
              "      <td>O=O(c1ccccc1]c]nc]c3ccccc23</td>\n",
              "    </tr>\n",
              "    <tr>\n",
              "      <th>11</th>\n",
              "      <td>O=C(c1ccccc1]c2nc]c3ccccc23</td>\n",
              "    </tr>\n",
              "    <tr>\n",
              "      <th>12</th>\n",
              "      <td>O=C(c1ccccc1]c2nccc3ccccc23</td>\n",
              "    </tr>\n",
              "    <tr>\n",
              "      <th>13</th>\n",
              "      <td>O=C(c1ccccc1]c2nccc3ccccc23</td>\n",
              "    </tr>\n",
              "    <tr>\n",
              "      <th>14</th>\n",
              "      <td>O=C(c1ccccc1]c2nccc3ccccc23</td>\n",
              "    </tr>\n",
              "  </tbody>\n",
              "</table>\n",
              "</div>"
            ],
            "text/plain": [
              "               canonical_smiles\n",
              "0   CCOc1cc2c(cn1][nH]c3ccccc23\n",
              "1   CCOc1cc2c(cn1][nH]c3ccccc23\n",
              "2   CCOc1cc2c(cn1][nH]c3ccccc23\n",
              "3   CCOc1cc2c(cn1][nH]c3ccccc23\n",
              "4   CCOc1cc2c(cs1][nH]c3ccccc23\n",
              "5   O]Oc1cc]c(cs1][nH]c3ccccc23\n",
              "6   OFO(1cc]c(cssc[n]]c3ccccc23\n",
              "7   OFO(ccc]c(cssc[n]]c3ccccc23\n",
              "8   O=O(ccc]c(cs]c[n]]c3ccccc23\n",
              "9   O=O(c1ccc(c1]c[nc]c3ccccc23\n",
              "10  O=O(c1ccccc1]c]nc]c3ccccc23\n",
              "11  O=C(c1ccccc1]c2nc]c3ccccc23\n",
              "12  O=C(c1ccccc1]c2nccc3ccccc23\n",
              "13  O=C(c1ccccc1]c2nccc3ccccc23\n",
              "14  O=C(c1ccccc1]c2nccc3ccccc23"
            ]
          },
          "metadata": {
            "tags": []
          },
          "execution_count": 50
        }
      ]
    },
    {
      "cell_type": "code",
      "metadata": {
        "id": "83BtK4HAjP9m",
        "colab": {
          "base_uri": "https://localhost:8080/",
          "height": 487
        },
        "outputId": "36112282-236f-46f7-d9b4-be1ab4dc39a7"
      },
      "source": [
        "interpolations3"
      ],
      "execution_count": null,
      "outputs": [
        {
          "output_type": "execute_result",
          "data": {
            "text/html": [
              "<div>\n",
              "<style scoped>\n",
              "    .dataframe tbody tr th:only-of-type {\n",
              "        vertical-align: middle;\n",
              "    }\n",
              "\n",
              "    .dataframe tbody tr th {\n",
              "        vertical-align: top;\n",
              "    }\n",
              "\n",
              "    .dataframe thead th {\n",
              "        text-align: right;\n",
              "    }\n",
              "</style>\n",
              "<table border=\"1\" class=\"dataframe\">\n",
              "  <thead>\n",
              "    <tr style=\"text-align: right;\">\n",
              "      <th></th>\n",
              "      <th>canonical_smiles</th>\n",
              "    </tr>\n",
              "  </thead>\n",
              "  <tbody>\n",
              "    <tr>\n",
              "      <th>0</th>\n",
              "      <td>Nc1ccc2nc(oc2c1]c3ccc(F]cc3</td>\n",
              "    </tr>\n",
              "    <tr>\n",
              "      <th>1</th>\n",
              "      <td>Nc1ccc2nc(oc2c1]c3ccc(F]cc3</td>\n",
              "    </tr>\n",
              "    <tr>\n",
              "      <th>2</th>\n",
              "      <td>Nc1ccc2nc(oc2c1]c3ccc(F]cc3</td>\n",
              "    </tr>\n",
              "    <tr>\n",
              "      <th>3</th>\n",
              "      <td>Nc1ccc2nc(oc2c1]c3ccc(F]cc3</td>\n",
              "    </tr>\n",
              "    <tr>\n",
              "      <th>4</th>\n",
              "      <td>Nc1ccc2nc(oc2c1]c3ccc(F]cc3</td>\n",
              "    </tr>\n",
              "    <tr>\n",
              "      <th>5</th>\n",
              "      <td>Nc1ccc2]c(oc2c1]c3ccc(F]cc3</td>\n",
              "    </tr>\n",
              "    <tr>\n",
              "      <th>6</th>\n",
              "      <td>Nc1cN(2]c(oc2N1]c3ccc(F]cc3</td>\n",
              "    </tr>\n",
              "    <tr>\n",
              "      <th>7</th>\n",
              "      <td>N]11N(]]](N]]N1]]3c3c(F]c13</td>\n",
              "    </tr>\n",
              "    <tr>\n",
              "      <th>8</th>\n",
              "      <td>N]11N(]]](N]]N]]]3c3c(Fcc13</td>\n",
              "    </tr>\n",
              "    <tr>\n",
              "      <th>9</th>\n",
              "      <td>N]s1N(]]]=N]]N]]]3c3c(Fcc13</td>\n",
              "    </tr>\n",
              "    <tr>\n",
              "      <th>10</th>\n",
              "      <td>CCs1N(]C]=NC]N]]C]c3ccccc13</td>\n",
              "    </tr>\n",
              "    <tr>\n",
              "      <th>11</th>\n",
              "      <td>CC]1N(]C]=NC]N2]C]c3ccccc13</td>\n",
              "    </tr>\n",
              "    <tr>\n",
              "      <th>12</th>\n",
              "      <td>CCC1N(CC2=NCCN2]CCc3ccccc13</td>\n",
              "    </tr>\n",
              "    <tr>\n",
              "      <th>13</th>\n",
              "      <td>CCC1N(CC2=NCCN2]CCc3ccccc13</td>\n",
              "    </tr>\n",
              "    <tr>\n",
              "      <th>14</th>\n",
              "      <td>CCC1N(CC2=NCCN2]CCc3ccccc13</td>\n",
              "    </tr>\n",
              "  </tbody>\n",
              "</table>\n",
              "</div>"
            ],
            "text/plain": [
              "               canonical_smiles\n",
              "0   Nc1ccc2nc(oc2c1]c3ccc(F]cc3\n",
              "1   Nc1ccc2nc(oc2c1]c3ccc(F]cc3\n",
              "2   Nc1ccc2nc(oc2c1]c3ccc(F]cc3\n",
              "3   Nc1ccc2nc(oc2c1]c3ccc(F]cc3\n",
              "4   Nc1ccc2nc(oc2c1]c3ccc(F]cc3\n",
              "5   Nc1ccc2]c(oc2c1]c3ccc(F]cc3\n",
              "6   Nc1cN(2]c(oc2N1]c3ccc(F]cc3\n",
              "7   N]11N(]]](N]]N1]]3c3c(F]c13\n",
              "8   N]11N(]]](N]]N]]]3c3c(Fcc13\n",
              "9   N]s1N(]]]=N]]N]]]3c3c(Fcc13\n",
              "10  CCs1N(]C]=NC]N]]C]c3ccccc13\n",
              "11  CC]1N(]C]=NC]N2]C]c3ccccc13\n",
              "12  CCC1N(CC2=NCCN2]CCc3ccccc13\n",
              "13  CCC1N(CC2=NCCN2]CCc3ccccc13\n",
              "14  CCC1N(CC2=NCCN2]CCc3ccccc13"
            ]
          },
          "metadata": {
            "tags": []
          },
          "execution_count": 51
        }
      ]
    },
    {
      "cell_type": "code",
      "metadata": {
        "colab": {
          "base_uri": "https://localhost:8080/",
          "height": 487
        },
        "id": "Y6uxKjqZ1qb-",
        "outputId": "5769a398-818f-4ecc-bd81-eab720573395"
      },
      "source": [
        "interpolations4"
      ],
      "execution_count": null,
      "outputs": [
        {
          "output_type": "execute_result",
          "data": {
            "text/html": [
              "<div>\n",
              "<style scoped>\n",
              "    .dataframe tbody tr th:only-of-type {\n",
              "        vertical-align: middle;\n",
              "    }\n",
              "\n",
              "    .dataframe tbody tr th {\n",
              "        vertical-align: top;\n",
              "    }\n",
              "\n",
              "    .dataframe thead th {\n",
              "        text-align: right;\n",
              "    }\n",
              "</style>\n",
              "<table border=\"1\" class=\"dataframe\">\n",
              "  <thead>\n",
              "    <tr style=\"text-align: right;\">\n",
              "      <th></th>\n",
              "      <th>canonical_smiles</th>\n",
              "    </tr>\n",
              "  </thead>\n",
              "  <tbody>\n",
              "    <tr>\n",
              "      <th>0</th>\n",
              "      <td>CCOc1cc2c(cn1][nH]c3ccccc23</td>\n",
              "    </tr>\n",
              "    <tr>\n",
              "      <th>1</th>\n",
              "      <td>CCOc1cc2c(cn1][nH]c3ccccc23</td>\n",
              "    </tr>\n",
              "    <tr>\n",
              "      <th>2</th>\n",
              "      <td>CCOc1cc2c(cn1][nH]c3ccccc23</td>\n",
              "    </tr>\n",
              "    <tr>\n",
              "      <th>3</th>\n",
              "      <td>CCOc1cc]c(cn1][nH]c3ccccc23</td>\n",
              "    </tr>\n",
              "    <tr>\n",
              "      <th>4</th>\n",
              "      <td>CCO]1cc]c(cn1][nH]c3ccccc23</td>\n",
              "    </tr>\n",
              "    <tr>\n",
              "      <th>5</th>\n",
              "      <td>COO][Sc]c((Ss][nH]c3ccccc23</td>\n",
              "    </tr>\n",
              "    <tr>\n",
              "      <th>6</th>\n",
              "      <td>[OO][S+]c((Ss][n]]c3ccc3c]3</td>\n",
              "    </tr>\n",
              "    <tr>\n",
              "      <th>7</th>\n",
              "      <td>[OO][S+]c((Ss][n]]c3]c]3]]3</td>\n",
              "    </tr>\n",
              "    <tr>\n",
              "      <th>8</th>\n",
              "      <td>[OO][S+]sN(Sc][s]]c3]c]3]]3</td>\n",
              "    </tr>\n",
              "    <tr>\n",
              "      <th>9</th>\n",
              "      <td>[O-][S+]1N(Sc][cc]c3]]]3]]3</td>\n",
              "    </tr>\n",
              "    <tr>\n",
              "      <th>10</th>\n",
              "      <td>[O-][S+]1N(Sc2ccc]c1]]]3]]3</td>\n",
              "    </tr>\n",
              "    <tr>\n",
              "      <th>11</th>\n",
              "      <td>[O-][S+]1N(Sc2ccc]c12]C3C]3</td>\n",
              "    </tr>\n",
              "    <tr>\n",
              "      <th>12</th>\n",
              "      <td>[O-][S+]1N(Sc2ccccc12]C3CC3</td>\n",
              "    </tr>\n",
              "    <tr>\n",
              "      <th>13</th>\n",
              "      <td>[O-][S+]1N(Sc2ccccc12]C3CC3</td>\n",
              "    </tr>\n",
              "    <tr>\n",
              "      <th>14</th>\n",
              "      <td>[O-][S+]1N(Sc2ccccc12]C3CC3</td>\n",
              "    </tr>\n",
              "  </tbody>\n",
              "</table>\n",
              "</div>"
            ],
            "text/plain": [
              "               canonical_smiles\n",
              "0   CCOc1cc2c(cn1][nH]c3ccccc23\n",
              "1   CCOc1cc2c(cn1][nH]c3ccccc23\n",
              "2   CCOc1cc2c(cn1][nH]c3ccccc23\n",
              "3   CCOc1cc]c(cn1][nH]c3ccccc23\n",
              "4   CCO]1cc]c(cn1][nH]c3ccccc23\n",
              "5   COO][Sc]c((Ss][nH]c3ccccc23\n",
              "6   [OO][S+]c((Ss][n]]c3ccc3c]3\n",
              "7   [OO][S+]c((Ss][n]]c3]c]3]]3\n",
              "8   [OO][S+]sN(Sc][s]]c3]c]3]]3\n",
              "9   [O-][S+]1N(Sc][cc]c3]]]3]]3\n",
              "10  [O-][S+]1N(Sc2ccc]c1]]]3]]3\n",
              "11  [O-][S+]1N(Sc2ccc]c12]C3C]3\n",
              "12  [O-][S+]1N(Sc2ccccc12]C3CC3\n",
              "13  [O-][S+]1N(Sc2ccccc12]C3CC3\n",
              "14  [O-][S+]1N(Sc2ccccc12]C3CC3"
            ]
          },
          "metadata": {
            "tags": []
          },
          "execution_count": 52
        }
      ]
    },
    {
      "cell_type": "code",
      "metadata": {
        "colab": {
          "base_uri": "https://localhost:8080/",
          "height": 487
        },
        "id": "6_ysY7Re39PL",
        "outputId": "62613b63-0af7-4bf4-edac-b1a257437607"
      },
      "source": [
        "interpolations5"
      ],
      "execution_count": null,
      "outputs": [
        {
          "output_type": "execute_result",
          "data": {
            "text/html": [
              "<div>\n",
              "<style scoped>\n",
              "    .dataframe tbody tr th:only-of-type {\n",
              "        vertical-align: middle;\n",
              "    }\n",
              "\n",
              "    .dataframe tbody tr th {\n",
              "        vertical-align: top;\n",
              "    }\n",
              "\n",
              "    .dataframe thead th {\n",
              "        text-align: right;\n",
              "    }\n",
              "</style>\n",
              "<table border=\"1\" class=\"dataframe\">\n",
              "  <thead>\n",
              "    <tr style=\"text-align: right;\">\n",
              "      <th></th>\n",
              "      <th>canonical_smiles</th>\n",
              "    </tr>\n",
              "  </thead>\n",
              "  <tbody>\n",
              "    <tr>\n",
              "      <th>0</th>\n",
              "      <td>O=C(Nc1ccccc1]c2cnn3ccccc23</td>\n",
              "    </tr>\n",
              "    <tr>\n",
              "      <th>1</th>\n",
              "      <td>O=C(Nc1ccccc1]c2cnn3ccccc23</td>\n",
              "    </tr>\n",
              "    <tr>\n",
              "      <th>2</th>\n",
              "      <td>O=C(Nc1ccccc1]c2cnn3ccccc23</td>\n",
              "    </tr>\n",
              "    <tr>\n",
              "      <th>3</th>\n",
              "      <td>O=C(Nc1ccccc1]c2cnn3ccccc23</td>\n",
              "    </tr>\n",
              "    <tr>\n",
              "      <th>4</th>\n",
              "      <td>O=C(Nc1ccccc1]c2cnn3ccccc23</td>\n",
              "    </tr>\n",
              "    <tr>\n",
              "      <th>5</th>\n",
              "      <td>O=((Nc1ccccc1]cOcns3ccccc23</td>\n",
              "    </tr>\n",
              "    <tr>\n",
              "      <th>6</th>\n",
              "      <td>O=((N(1cc(cc1(cOcns3ccccc23</td>\n",
              "    </tr>\n",
              "    <tr>\n",
              "      <th>7</th>\n",
              "      <td>O=((N(1cc(Nc1(cOcNs3cccccsN</td>\n",
              "    </tr>\n",
              "    <tr>\n",
              "      <th>8</th>\n",
              "      <td>O=((N(sc](Ncs(=OcNs3]]]1]sN</td>\n",
              "    </tr>\n",
              "    <tr>\n",
              "      <th>9</th>\n",
              "      <td>O]((N(s]](N]s(=O]N1]]]]1]sN</td>\n",
              "    </tr>\n",
              "    <tr>\n",
              "      <th>10</th>\n",
              "      <td>O]((N(s]](N]s(=O]N1]]]]1]sN</td>\n",
              "    </tr>\n",
              "    <tr>\n",
              "      <th>11</th>\n",
              "      <td>C](CN(s]C(N]s(=O]N1CCCC1CsN</td>\n",
              "    </tr>\n",
              "    <tr>\n",
              "      <th>12</th>\n",
              "      <td>CC(C](C]C(N]C(=O]N1CCCC1CsN</td>\n",
              "    </tr>\n",
              "    <tr>\n",
              "      <th>13</th>\n",
              "      <td>CC(C](C]C(N]C(=O]N1CCCC1CsN</td>\n",
              "    </tr>\n",
              "    <tr>\n",
              "      <th>14</th>\n",
              "      <td>CC(C](C]C(N]C(=O]N1CCCC1CsN</td>\n",
              "    </tr>\n",
              "  </tbody>\n",
              "</table>\n",
              "</div>"
            ],
            "text/plain": [
              "               canonical_smiles\n",
              "0   O=C(Nc1ccccc1]c2cnn3ccccc23\n",
              "1   O=C(Nc1ccccc1]c2cnn3ccccc23\n",
              "2   O=C(Nc1ccccc1]c2cnn3ccccc23\n",
              "3   O=C(Nc1ccccc1]c2cnn3ccccc23\n",
              "4   O=C(Nc1ccccc1]c2cnn3ccccc23\n",
              "5   O=((Nc1ccccc1]cOcns3ccccc23\n",
              "6   O=((N(1cc(cc1(cOcns3ccccc23\n",
              "7   O=((N(1cc(Nc1(cOcNs3cccccsN\n",
              "8   O=((N(sc](Ncs(=OcNs3]]]1]sN\n",
              "9   O]((N(s]](N]s(=O]N1]]]]1]sN\n",
              "10  O]((N(s]](N]s(=O]N1]]]]1]sN\n",
              "11  C](CN(s]C(N]s(=O]N1CCCC1CsN\n",
              "12  CC(C](C]C(N]C(=O]N1CCCC1CsN\n",
              "13  CC(C](C]C(N]C(=O]N1CCCC1CsN\n",
              "14  CC(C](C]C(N]C(=O]N1CCCC1CsN"
            ]
          },
          "metadata": {
            "tags": []
          },
          "execution_count": 56
        }
      ]
    },
    {
      "cell_type": "code",
      "metadata": {
        "id": "np4pYIcEkLNS"
      },
      "source": [
        ""
      ],
      "execution_count": null,
      "outputs": []
    },
    {
      "cell_type": "code",
      "metadata": {
        "id": "EjkHnWnCyov2"
      },
      "source": [
        "valid_molecules = np.zeros(len(interpolations))\n",
        "for i in range(len(interpolations)):\n",
        "  valid_molecules[i] = validity(interpolations.iloc[i])"
      ],
      "execution_count": null,
      "outputs": []
    },
    {
      "cell_type": "markdown",
      "metadata": {
        "id": "cH6p7LiClER3"
      },
      "source": [
        "# plot molecules"
      ]
    },
    {
      "cell_type": "code",
      "metadata": {
        "id": "rrxc5ZjbrkR9"
      },
      "source": [
        "from IPython.display import SVG\n"
      ],
      "execution_count": null,
      "outputs": []
    },
    {
      "cell_type": "code",
      "metadata": {
        "id": "Pq8W-Y2yHoZm",
        "colab": {
          "base_uri": "https://localhost:8080/",
          "height": 436
        },
        "outputId": "01eecfd3-e5d2-471a-c748-0c1a4b388f50"
      },
      "source": [
        "\n",
        "mols = [Chem.MolFromSmiles(sm) for sm in interpolations['canonical_smiles'].values]\n",
        "dr = plot_mols(mols, 250, 175, 250, 1.1)\n",
        "with open('bbbp_mol.svg', 'w') as f:\n",
        "    f.write(dr.GetDrawingText())\n",
        "SVG(dr.GetDrawingText())\n",
        "#Draw.MolsToGridImage(mols, molsPerRow=3, subImgSize=(300,150))"
      ],
      "execution_count": null,
      "outputs": [
        {
          "output_type": "error",
          "ename": "ArgumentError",
          "evalue": "ignored",
          "traceback": [
            "\u001b[0;31m---------------------------------------------------------------------------\u001b[0m",
            "\u001b[0;31mArgumentError\u001b[0m                             Traceback (most recent call last)",
            "\u001b[0;32m<ipython-input-117-2f225bb48e5f>\u001b[0m in \u001b[0;36m<module>\u001b[0;34m()\u001b[0m\n\u001b[1;32m      1\u001b[0m \u001b[0;34m\u001b[0m\u001b[0m\n\u001b[1;32m      2\u001b[0m \u001b[0mmols\u001b[0m \u001b[0;34m=\u001b[0m \u001b[0;34m[\u001b[0m\u001b[0mChem\u001b[0m\u001b[0;34m.\u001b[0m\u001b[0mMolFromSmiles\u001b[0m\u001b[0;34m(\u001b[0m\u001b[0msm\u001b[0m\u001b[0;34m)\u001b[0m \u001b[0;32mfor\u001b[0m \u001b[0msm\u001b[0m \u001b[0;32min\u001b[0m \u001b[0minterpolations\u001b[0m\u001b[0;34m[\u001b[0m\u001b[0;34m'canonical_smiles'\u001b[0m\u001b[0;34m]\u001b[0m\u001b[0;34m.\u001b[0m\u001b[0mvalues\u001b[0m\u001b[0;34m]\u001b[0m\u001b[0;34m\u001b[0m\u001b[0;34m\u001b[0m\u001b[0m\n\u001b[0;32m----> 3\u001b[0;31m \u001b[0mdr\u001b[0m \u001b[0;34m=\u001b[0m \u001b[0mplot_mols\u001b[0m\u001b[0;34m(\u001b[0m\u001b[0mmols\u001b[0m\u001b[0;34m,\u001b[0m \u001b[0;36m250\u001b[0m\u001b[0;34m,\u001b[0m \u001b[0;36m175\u001b[0m\u001b[0;34m,\u001b[0m \u001b[0;36m250\u001b[0m\u001b[0;34m,\u001b[0m \u001b[0;36m1.1\u001b[0m\u001b[0;34m)\u001b[0m\u001b[0;34m\u001b[0m\u001b[0;34m\u001b[0m\u001b[0m\n\u001b[0m\u001b[1;32m      4\u001b[0m \u001b[0;32mwith\u001b[0m \u001b[0mopen\u001b[0m\u001b[0;34m(\u001b[0m\u001b[0;34m'bbbp_mol.svg'\u001b[0m\u001b[0;34m,\u001b[0m \u001b[0;34m'w'\u001b[0m\u001b[0;34m)\u001b[0m \u001b[0;32mas\u001b[0m \u001b[0mf\u001b[0m\u001b[0;34m:\u001b[0m\u001b[0;34m\u001b[0m\u001b[0;34m\u001b[0m\u001b[0m\n\u001b[1;32m      5\u001b[0m     \u001b[0mf\u001b[0m\u001b[0;34m.\u001b[0m\u001b[0mwrite\u001b[0m\u001b[0;34m(\u001b[0m\u001b[0mdr\u001b[0m\u001b[0;34m.\u001b[0m\u001b[0mGetDrawingText\u001b[0m\u001b[0;34m(\u001b[0m\u001b[0;34m)\u001b[0m\u001b[0;34m)\u001b[0m\u001b[0;34m\u001b[0m\u001b[0;34m\u001b[0m\u001b[0m\n",
            "\u001b[0;32m<ipython-input-4-bb4916067a4d>\u001b[0m in \u001b[0;36mplot_mols\u001b[0;34m(mols, unit, w, h, fontsize)\u001b[0m\n\u001b[1;32m     15\u001b[0m         \u001b[0mdrawer\u001b[0m\u001b[0;34m.\u001b[0m\u001b[0mSetFontSize\u001b[0m\u001b[0;34m(\u001b[0m\u001b[0mfontsize\u001b[0m\u001b[0;34m)\u001b[0m\u001b[0;34m\u001b[0m\u001b[0;34m\u001b[0m\u001b[0m\n\u001b[1;32m     16\u001b[0m \u001b[0;34m\u001b[0m\u001b[0m\n\u001b[0;32m---> 17\u001b[0;31m         \u001b[0mAllChem\u001b[0m\u001b[0;34m.\u001b[0m\u001b[0mCompute2DCoords\u001b[0m\u001b[0;34m(\u001b[0m\u001b[0mmol\u001b[0m\u001b[0;34m)\u001b[0m\u001b[0;34m\u001b[0m\u001b[0;34m\u001b[0m\u001b[0m\n\u001b[0m\u001b[1;32m     18\u001b[0m         \u001b[0mChem\u001b[0m\u001b[0;34m.\u001b[0m\u001b[0mKekulize\u001b[0m\u001b[0;34m(\u001b[0m\u001b[0mmol\u001b[0m\u001b[0;34m)\u001b[0m\u001b[0;34m\u001b[0m\u001b[0;34m\u001b[0m\u001b[0m\n\u001b[1;32m     19\u001b[0m         \u001b[0;31m# 分子をSVGに書く\u001b[0m\u001b[0;34m\u001b[0m\u001b[0;34m\u001b[0m\u001b[0;34m\u001b[0m\u001b[0m\n",
            "\u001b[0;31mArgumentError\u001b[0m: Python argument types in\n    rdkit.Chem.rdDepictor.Compute2DCoords(NoneType)\ndid not match C++ signature:\n    Compute2DCoords(RDKit::ROMol {lvalue} mol, bool canonOrient=True, bool clearConfs=True, boost::python::dict {lvalue} coordMap={}, unsigned int nFlipsPerSample=0, unsigned int nSample=0, int sampleSeed=0, bool permuteDeg4Nodes=False, double bondLength=-1.0, bool forceRDKit=False)"
          ]
        }
      ]
    },
    {
      "cell_type": "code",
      "metadata": {
        "id": "0A5_I1_diwY9",
        "colab": {
          "base_uri": "https://localhost:8080/",
          "height": 35
        },
        "outputId": "2a92c210-498c-4ca2-dc6a-2cc7709235cf"
      },
      "source": [
        "dr"
      ],
      "execution_count": null,
      "outputs": [
        {
          "output_type": "execute_result",
          "data": {
            "text/plain": [
              "<rdkit.Chem.Draw.rdMolDraw2D.MolDraw2DSVG at 0x7f3138f4df80>"
            ]
          },
          "metadata": {
            "tags": []
          },
          "execution_count": 18
        }
      ]
    }
  ]
}